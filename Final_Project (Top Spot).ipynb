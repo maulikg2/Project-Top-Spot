{
 "cells": [
  {
   "cell_type": "markdown",
   "metadata": {},
   "source": [
    "# STAT207 Final Project - Top Spot\n",
    "\n"
   ]
  },
  {
   "cell_type": "markdown",
   "metadata": {},
   "source": [
    "**Name of the contributor: Maulik Garg**\n",
    "\n",
    "**Dataset: Spotify_top_200**"
   ]
  },
  {
   "cell_type": "markdown",
   "metadata": {},
   "source": [
    "## 1. Introduction"
   ]
  },
  {
   "cell_type": "markdown",
   "metadata": {},
   "source": [
    "**Main motivation: The objective of the project is to explore relationships between different variables in relation to the ranking of the songs in the sample, check if that those relationships apply to all songs in spotify & check and see if those relationships can be used to predict a ranking of a random song?**\n",
    "\n",
    "**Question 1: What is the relationship between Highest_Charting_Position & Streams in this dataset? And furthermore, how does this relationship between Streams and Highest_Charting_Position change for different values of Position_In_Top100?**\n",
    "\n",
    "**Question 2: Is there an association between Position_In_Top100 & total number of Artist_Followers in all songs in Spotify?**\n",
    "\n",
    "**Question 3: Is there a linear relationship between Highest_Charting_Position and Artist_Followers, Streams, Popularity and Number_of_Times_Charted in top 200 songs in spotify? In all songs in spotify?**\n",
    "\n",
    "**Question 4: Is there a linear relationship between between the log-odds of the success level of Position_In_Top100 and Artist_Followers, Streams, Popularity, and Number_of_Times_Charted in top 200 songs in spotify? In all songs in spotify?**\n",
    "\n"
   ]
  },
  {
   "cell_type": "raw",
   "metadata": {},
   "source": [
    "import pandas as pd\n",
    "import matplotlib.pyplot as plt\n",
    "import seaborn as sns; sns.set()\n",
    "import scipy.stats\n",
    "from scipy.stats import norm,t,f\n",
    "import numpy as np\n",
    "import statsmodels.api as sm\n",
    "import statsmodels.formula.api as smf\n",
    "from sklearn.metrics import confusion_matrix, roc_curve, roc_auc_score"
   ]
  },
  {
   "cell_type": "code",
   "execution_count": 2,
   "metadata": {
    "scrolled": true
   },
   "outputs": [
    {
     "data": {
      "text/html": [
       "<div>\n",
       "<style scoped>\n",
       "    .dataframe tbody tr th:only-of-type {\n",
       "        vertical-align: middle;\n",
       "    }\n",
       "\n",
       "    .dataframe tbody tr th {\n",
       "        vertical-align: top;\n",
       "    }\n",
       "\n",
       "    .dataframe thead th {\n",
       "        text-align: right;\n",
       "    }\n",
       "</style>\n",
       "<table border=\"1\" class=\"dataframe\">\n",
       "  <thead>\n",
       "    <tr style=\"text-align: right;\">\n",
       "      <th></th>\n",
       "      <th>Highest_Charting_Position</th>\n",
       "      <th>Position_In_Top100</th>\n",
       "      <th>Number_of_Times_Charted</th>\n",
       "      <th>Week_of_Highest_Charting</th>\n",
       "      <th>Week_of_Highest_Charting_year</th>\n",
       "      <th>Week_of_Highest_Charting_month</th>\n",
       "      <th>Week_of_Highest_Charting_day</th>\n",
       "      <th>Song_Name</th>\n",
       "      <th>Streams</th>\n",
       "      <th>Artist</th>\n",
       "      <th>...</th>\n",
       "      <th>Genre_2</th>\n",
       "      <th>Genre_3</th>\n",
       "      <th>Genre_4</th>\n",
       "      <th>Genre_5</th>\n",
       "      <th>Genre_6</th>\n",
       "      <th>Genre_7</th>\n",
       "      <th>Genre_8</th>\n",
       "      <th>Genre_9</th>\n",
       "      <th>Genre_10</th>\n",
       "      <th>Genre_11</th>\n",
       "    </tr>\n",
       "  </thead>\n",
       "  <tbody>\n",
       "    <tr>\n",
       "      <th>0</th>\n",
       "      <td>8</td>\n",
       "      <td>True</td>\n",
       "      <td>24</td>\n",
       "      <td>4/2/21</td>\n",
       "      <td>2021</td>\n",
       "      <td>4</td>\n",
       "      <td>2</td>\n",
       "      <td>Heartbreak Anniversary</td>\n",
       "      <td>8832945</td>\n",
       "      <td>Giveon</td>\n",
       "      <td>...</td>\n",
       "      <td>r&amp;b</td>\n",
       "      <td>NaN</td>\n",
       "      <td>NaN</td>\n",
       "      <td>NaN</td>\n",
       "      <td>NaN</td>\n",
       "      <td>NaN</td>\n",
       "      <td>NaN</td>\n",
       "      <td>NaN</td>\n",
       "      <td>NaN</td>\n",
       "      <td>NaN</td>\n",
       "    </tr>\n",
       "    <tr>\n",
       "      <th>1</th>\n",
       "      <td>92</td>\n",
       "      <td>True</td>\n",
       "      <td>2</td>\n",
       "      <td>5/15/20</td>\n",
       "      <td>2020</td>\n",
       "      <td>5</td>\n",
       "      <td>15</td>\n",
       "      <td>X (with KAROL G)</td>\n",
       "      <td>5018592</td>\n",
       "      <td>Jonas Brothers</td>\n",
       "      <td>...</td>\n",
       "      <td>dance pop</td>\n",
       "      <td>pop</td>\n",
       "      <td>post-teen pop</td>\n",
       "      <td>NaN</td>\n",
       "      <td>NaN</td>\n",
       "      <td>NaN</td>\n",
       "      <td>NaN</td>\n",
       "      <td>NaN</td>\n",
       "      <td>NaN</td>\n",
       "      <td>NaN</td>\n",
       "    </tr>\n",
       "    <tr>\n",
       "      <th>2</th>\n",
       "      <td>181</td>\n",
       "      <td>False</td>\n",
       "      <td>1</td>\n",
       "      <td>12/18/20</td>\n",
       "      <td>2020</td>\n",
       "      <td>12</td>\n",
       "      <td>18</td>\n",
       "      <td>Christmas Tree Farm</td>\n",
       "      <td>6657404</td>\n",
       "      <td>Taylor Swift</td>\n",
       "      <td>...</td>\n",
       "      <td>post-teen pop</td>\n",
       "      <td>NaN</td>\n",
       "      <td>NaN</td>\n",
       "      <td>NaN</td>\n",
       "      <td>NaN</td>\n",
       "      <td>NaN</td>\n",
       "      <td>NaN</td>\n",
       "      <td>NaN</td>\n",
       "      <td>NaN</td>\n",
       "      <td>NaN</td>\n",
       "    </tr>\n",
       "    <tr>\n",
       "      <th>3</th>\n",
       "      <td>12</td>\n",
       "      <td>True</td>\n",
       "      <td>29</td>\n",
       "      <td>11/27/20</td>\n",
       "      <td>2020</td>\n",
       "      <td>11</td>\n",
       "      <td>27</td>\n",
       "      <td>TE MUDASTE</td>\n",
       "      <td>5242347</td>\n",
       "      <td>Bad Bunny</td>\n",
       "      <td>...</td>\n",
       "      <td>reggaeton</td>\n",
       "      <td>trap latino</td>\n",
       "      <td>NaN</td>\n",
       "      <td>NaN</td>\n",
       "      <td>NaN</td>\n",
       "      <td>NaN</td>\n",
       "      <td>NaN</td>\n",
       "      <td>NaN</td>\n",
       "      <td>NaN</td>\n",
       "      <td>NaN</td>\n",
       "    </tr>\n",
       "    <tr>\n",
       "      <th>4</th>\n",
       "      <td>32</td>\n",
       "      <td>True</td>\n",
       "      <td>10</td>\n",
       "      <td>1/3/20</td>\n",
       "      <td>2020</td>\n",
       "      <td>1</td>\n",
       "      <td>3</td>\n",
       "      <td>Futsal Shuffle 2020</td>\n",
       "      <td>5386512</td>\n",
       "      <td>Lil Uzi Vert</td>\n",
       "      <td>...</td>\n",
       "      <td>philly rap</td>\n",
       "      <td>rap</td>\n",
       "      <td>trap</td>\n",
       "      <td>NaN</td>\n",
       "      <td>NaN</td>\n",
       "      <td>NaN</td>\n",
       "      <td>NaN</td>\n",
       "      <td>NaN</td>\n",
       "      <td>NaN</td>\n",
       "      <td>NaN</td>\n",
       "    </tr>\n",
       "    <tr>\n",
       "      <th>...</th>\n",
       "      <td>...</td>\n",
       "      <td>...</td>\n",
       "      <td>...</td>\n",
       "      <td>...</td>\n",
       "      <td>...</td>\n",
       "      <td>...</td>\n",
       "      <td>...</td>\n",
       "      <td>...</td>\n",
       "      <td>...</td>\n",
       "      <td>...</td>\n",
       "      <td>...</td>\n",
       "      <td>...</td>\n",
       "      <td>...</td>\n",
       "      <td>...</td>\n",
       "      <td>...</td>\n",
       "      <td>...</td>\n",
       "      <td>...</td>\n",
       "      <td>...</td>\n",
       "      <td>...</td>\n",
       "      <td>...</td>\n",
       "      <td>...</td>\n",
       "    </tr>\n",
       "    <tr>\n",
       "      <th>491</th>\n",
       "      <td>30</td>\n",
       "      <td>True</td>\n",
       "      <td>9</td>\n",
       "      <td>4/10/20</td>\n",
       "      <td>2020</td>\n",
       "      <td>4</td>\n",
       "      <td>10</td>\n",
       "      <td>Level of Concern</td>\n",
       "      <td>4252898</td>\n",
       "      <td>Twenty One Pilots</td>\n",
       "      <td>...</td>\n",
       "      <td>rock</td>\n",
       "      <td>NaN</td>\n",
       "      <td>NaN</td>\n",
       "      <td>NaN</td>\n",
       "      <td>NaN</td>\n",
       "      <td>NaN</td>\n",
       "      <td>NaN</td>\n",
       "      <td>NaN</td>\n",
       "      <td>NaN</td>\n",
       "      <td>NaN</td>\n",
       "    </tr>\n",
       "    <tr>\n",
       "      <th>492</th>\n",
       "      <td>29</td>\n",
       "      <td>True</td>\n",
       "      <td>15</td>\n",
       "      <td>1/24/20</td>\n",
       "      <td>2020</td>\n",
       "      <td>1</td>\n",
       "      <td>24</td>\n",
       "      <td>What If I Told You That I Love You</td>\n",
       "      <td>5234645</td>\n",
       "      <td>Ali Gatie</td>\n",
       "      <td>...</td>\n",
       "      <td>pop</td>\n",
       "      <td>NaN</td>\n",
       "      <td>NaN</td>\n",
       "      <td>NaN</td>\n",
       "      <td>NaN</td>\n",
       "      <td>NaN</td>\n",
       "      <td>NaN</td>\n",
       "      <td>NaN</td>\n",
       "      <td>NaN</td>\n",
       "      <td>NaN</td>\n",
       "    </tr>\n",
       "    <tr>\n",
       "      <th>493</th>\n",
       "      <td>193</td>\n",
       "      <td>False</td>\n",
       "      <td>1</td>\n",
       "      <td>2/12/21</td>\n",
       "      <td>2021</td>\n",
       "      <td>2</td>\n",
       "      <td>12</td>\n",
       "      <td>Wonderwall</td>\n",
       "      <td>4902737</td>\n",
       "      <td>Oasis</td>\n",
       "      <td>...</td>\n",
       "      <td>britpop</td>\n",
       "      <td>madchester</td>\n",
       "      <td>permanent wave</td>\n",
       "      <td>rock</td>\n",
       "      <td>NaN</td>\n",
       "      <td>NaN</td>\n",
       "      <td>NaN</td>\n",
       "      <td>NaN</td>\n",
       "      <td>NaN</td>\n",
       "      <td>NaN</td>\n",
       "    </tr>\n",
       "    <tr>\n",
       "      <th>494</th>\n",
       "      <td>6</td>\n",
       "      <td>True</td>\n",
       "      <td>7</td>\n",
       "      <td>12/18/20</td>\n",
       "      <td>2020</td>\n",
       "      <td>12</td>\n",
       "      <td>18</td>\n",
       "      <td>It's Beginning to Look a Lot like Christmas</td>\n",
       "      <td>15424001</td>\n",
       "      <td>Michael Bublé</td>\n",
       "      <td>...</td>\n",
       "      <td>canadian pop</td>\n",
       "      <td>jazz pop</td>\n",
       "      <td>lounge</td>\n",
       "      <td>NaN</td>\n",
       "      <td>NaN</td>\n",
       "      <td>NaN</td>\n",
       "      <td>NaN</td>\n",
       "      <td>NaN</td>\n",
       "      <td>NaN</td>\n",
       "      <td>NaN</td>\n",
       "    </tr>\n",
       "    <tr>\n",
       "      <th>495</th>\n",
       "      <td>124</td>\n",
       "      <td>False</td>\n",
       "      <td>3</td>\n",
       "      <td>11/6/20</td>\n",
       "      <td>2020</td>\n",
       "      <td>11</td>\n",
       "      <td>6</td>\n",
       "      <td>Sweet Melody</td>\n",
       "      <td>5201322</td>\n",
       "      <td>Little Mix</td>\n",
       "      <td>...</td>\n",
       "      <td>girl group</td>\n",
       "      <td>pop</td>\n",
       "      <td>post-teen pop</td>\n",
       "      <td>talent show</td>\n",
       "      <td>uk pop</td>\n",
       "      <td>NaN</td>\n",
       "      <td>NaN</td>\n",
       "      <td>NaN</td>\n",
       "      <td>NaN</td>\n",
       "      <td>NaN</td>\n",
       "    </tr>\n",
       "  </tbody>\n",
       "</table>\n",
       "<p>496 rows × 42 columns</p>\n",
       "</div>"
      ],
      "text/plain": [
       "     Highest_Charting_Position  Position_In_Top100  Number_of_Times_Charted  \\\n",
       "0                            8                True                       24   \n",
       "1                           92                True                        2   \n",
       "2                          181               False                        1   \n",
       "3                           12                True                       29   \n",
       "4                           32                True                       10   \n",
       "..                         ...                 ...                      ...   \n",
       "491                         30                True                        9   \n",
       "492                         29                True                       15   \n",
       "493                        193               False                        1   \n",
       "494                          6                True                        7   \n",
       "495                        124               False                        3   \n",
       "\n",
       "    Week_of_Highest_Charting  Week_of_Highest_Charting_year  \\\n",
       "0                     4/2/21                           2021   \n",
       "1                    5/15/20                           2020   \n",
       "2                   12/18/20                           2020   \n",
       "3                   11/27/20                           2020   \n",
       "4                     1/3/20                           2020   \n",
       "..                       ...                            ...   \n",
       "491                  4/10/20                           2020   \n",
       "492                  1/24/20                           2020   \n",
       "493                  2/12/21                           2021   \n",
       "494                 12/18/20                           2020   \n",
       "495                  11/6/20                           2020   \n",
       "\n",
       "     Week_of_Highest_Charting_month  Week_of_Highest_Charting_day  \\\n",
       "0                                 4                             2   \n",
       "1                                 5                            15   \n",
       "2                                12                            18   \n",
       "3                                11                            27   \n",
       "4                                 1                             3   \n",
       "..                              ...                           ...   \n",
       "491                               4                            10   \n",
       "492                               1                            24   \n",
       "493                               2                            12   \n",
       "494                              12                            18   \n",
       "495                              11                             6   \n",
       "\n",
       "                                       Song_Name   Streams             Artist  \\\n",
       "0                         Heartbreak Anniversary   8832945             Giveon   \n",
       "1                               X (with KAROL G)   5018592     Jonas Brothers   \n",
       "2                            Christmas Tree Farm   6657404       Taylor Swift   \n",
       "3                                     TE MUDASTE   5242347          Bad Bunny   \n",
       "4                            Futsal Shuffle 2020   5386512       Lil Uzi Vert   \n",
       "..                                           ...       ...                ...   \n",
       "491                             Level of Concern   4252898  Twenty One Pilots   \n",
       "492           What If I Told You That I Love You   5234645          Ali Gatie   \n",
       "493                                   Wonderwall   4902737              Oasis   \n",
       "494  It's Beginning to Look a Lot like Christmas  15424001      Michael Bublé   \n",
       "495                                 Sweet Melody   5201322         Little Mix   \n",
       "\n",
       "     ...         Genre_2       Genre_3          Genre_4       Genre_5  \\\n",
       "0    ...             r&b           NaN              NaN           NaN   \n",
       "1    ...       dance pop           pop    post-teen pop           NaN   \n",
       "2    ...   post-teen pop           NaN              NaN           NaN   \n",
       "3    ...       reggaeton   trap latino              NaN           NaN   \n",
       "4    ...      philly rap           rap             trap           NaN   \n",
       "..   ...             ...           ...              ...           ...   \n",
       "491  ...            rock           NaN              NaN           NaN   \n",
       "492  ...             pop           NaN              NaN           NaN   \n",
       "493  ...         britpop    madchester   permanent wave          rock   \n",
       "494  ...    canadian pop      jazz pop           lounge           NaN   \n",
       "495  ...      girl group           pop    post-teen pop   talent show   \n",
       "\n",
       "     Genre_6  Genre_7 Genre_8  Genre_9  Genre_10  Genre_11  \n",
       "0        NaN      NaN     NaN      NaN       NaN       NaN  \n",
       "1        NaN      NaN     NaN      NaN       NaN       NaN  \n",
       "2        NaN      NaN     NaN      NaN       NaN       NaN  \n",
       "3        NaN      NaN     NaN      NaN       NaN       NaN  \n",
       "4        NaN      NaN     NaN      NaN       NaN       NaN  \n",
       "..       ...      ...     ...      ...       ...       ...  \n",
       "491      NaN      NaN     NaN      NaN       NaN       NaN  \n",
       "492      NaN      NaN     NaN      NaN       NaN       NaN  \n",
       "493      NaN      NaN     NaN      NaN       NaN       NaN  \n",
       "494      NaN      NaN     NaN      NaN       NaN       NaN  \n",
       "495   uk pop      NaN     NaN      NaN       NaN       NaN  \n",
       "\n",
       "[496 rows x 42 columns]"
      ]
     },
     "execution_count": 2,
     "metadata": {},
     "output_type": "execute_result"
    }
   ],
   "source": [
    "df = pd.read_csv('spotify_top_200_sample.csv')\n",
    "df"
   ]
  },
  {
   "cell_type": "markdown",
   "metadata": {},
   "source": [
    "### 1.1 Note: Position_In_Top100 is a column I created in excel. It is a translation of numerical data of Highest_Charting_Position into Categorical data.\n",
    "\n",
    "**True = 'Songs with Highest_Charting_Position below 100'**\n",
    "\n",
    "**False = 'Songs with Highest_Charting_Position above 100'**\n",
    "\n",
    "### 1.2 Note: Removed 4 rows from the dataset because most of their columns were empty."
   ]
  },
  {
   "cell_type": "code",
   "execution_count": 3,
   "metadata": {
    "scrolled": true
   },
   "outputs": [
    {
     "data": {
      "text/plain": [
       "Highest_Charting_Position           0\n",
       "Position_In_Top100                  0\n",
       "Number_of_Times_Charted             0\n",
       "Week_of_Highest_Charting            0\n",
       "Week_of_Highest_Charting_year       0\n",
       "Week_of_Highest_Charting_month      0\n",
       "Week_of_Highest_Charting_day        0\n",
       "Song_Name                           0\n",
       "Streams                             0\n",
       "Artist                              0\n",
       "Artist_Followers                    0\n",
       "Song_ID                             0\n",
       "Release_Date                        0\n",
       "Release_Date_year                   8\n",
       "Release_Date_month                  0\n",
       "Release_Date_day                    8\n",
       "Weeks_Charted                       0\n",
       "Weeks_Charted_year                  0\n",
       "Weeks_Charted_month                 0\n",
       "Weeks_Charted_day                   0\n",
       "Popularity                          0\n",
       "Danceability                        0\n",
       "Energy                              0\n",
       "Loudness                            0\n",
       "Speechiness                         0\n",
       "Acousticness                        0\n",
       "Liveness                            0\n",
       "Tempo                               0\n",
       "Duration_ms                         0\n",
       "Valence                             0\n",
       "Chord                               0\n",
       "Genre_1                            22\n",
       "Genre_2                            95\n",
       "Genre_3                           218\n",
       "Genre_4                           338\n",
       "Genre_5                           417\n",
       "Genre_6                           448\n",
       "Genre_7                           478\n",
       "Genre_8                           487\n",
       "Genre_9                           495\n",
       "Genre_10                          495\n",
       "Genre_11                          495\n",
       "dtype: int64"
      ]
     },
     "execution_count": 3,
     "metadata": {},
     "output_type": "execute_result"
    }
   ],
   "source": [
    "df.isna().sum()"
   ]
  },
  {
   "cell_type": "code",
   "execution_count": 4,
   "metadata": {
    "scrolled": true
   },
   "outputs": [
    {
     "data": {
      "text/plain": [
       "Highest_Charting_Position           int64\n",
       "Position_In_Top100                   bool\n",
       "Number_of_Times_Charted             int64\n",
       "Week_of_Highest_Charting           object\n",
       "Week_of_Highest_Charting_year       int64\n",
       "Week_of_Highest_Charting_month      int64\n",
       "Week_of_Highest_Charting_day        int64\n",
       "Song_Name                          object\n",
       "Streams                             int64\n",
       "Artist                             object\n",
       "Artist_Followers                    int64\n",
       "Song_ID                            object\n",
       "Release_Date                       object\n",
       "Release_Date_year                 float64\n",
       "Release_Date_month                 object\n",
       "Release_Date_day                  float64\n",
       "Weeks_Charted                      object\n",
       "Weeks_Charted_year                  int64\n",
       "Weeks_Charted_month                 int64\n",
       "Weeks_Charted_day                   int64\n",
       "Popularity                          int64\n",
       "Danceability                      float64\n",
       "Energy                            float64\n",
       "Loudness                          float64\n",
       "Speechiness                       float64\n",
       "Acousticness                      float64\n",
       "Liveness                          float64\n",
       "Tempo                             float64\n",
       "Duration_ms                         int64\n",
       "Valence                           float64\n",
       "Chord                              object\n",
       "Genre_1                            object\n",
       "Genre_2                            object\n",
       "Genre_3                            object\n",
       "Genre_4                            object\n",
       "Genre_5                            object\n",
       "Genre_6                            object\n",
       "Genre_7                            object\n",
       "Genre_8                            object\n",
       "Genre_9                            object\n",
       "Genre_10                           object\n",
       "Genre_11                           object\n",
       "dtype: object"
      ]
     },
     "execution_count": 4,
     "metadata": {},
     "output_type": "execute_result"
    }
   ],
   "source": [
    "df.dtypes"
   ]
  },
  {
   "cell_type": "code",
   "execution_count": 5,
   "metadata": {
    "scrolled": false
   },
   "outputs": [
    {
     "data": {
      "text/html": [
       "<div>\n",
       "<style scoped>\n",
       "    .dataframe tbody tr th:only-of-type {\n",
       "        vertical-align: middle;\n",
       "    }\n",
       "\n",
       "    .dataframe tbody tr th {\n",
       "        vertical-align: top;\n",
       "    }\n",
       "\n",
       "    .dataframe thead th {\n",
       "        text-align: right;\n",
       "    }\n",
       "</style>\n",
       "<table border=\"1\" class=\"dataframe\">\n",
       "  <thead>\n",
       "    <tr style=\"text-align: right;\">\n",
       "      <th></th>\n",
       "      <th>Highest_Charting_Position</th>\n",
       "      <th>Position_In_Top100</th>\n",
       "      <th>Number_of_Times_Charted</th>\n",
       "      <th>Week_of_Highest_Charting</th>\n",
       "      <th>Week_of_Highest_Charting_year</th>\n",
       "      <th>Week_of_Highest_Charting_month</th>\n",
       "      <th>Week_of_Highest_Charting_day</th>\n",
       "      <th>Song_Name</th>\n",
       "      <th>Streams</th>\n",
       "      <th>Artist</th>\n",
       "      <th>...</th>\n",
       "      <th>Genre_2</th>\n",
       "      <th>Genre_3</th>\n",
       "      <th>Genre_4</th>\n",
       "      <th>Genre_5</th>\n",
       "      <th>Genre_6</th>\n",
       "      <th>Genre_7</th>\n",
       "      <th>Genre_8</th>\n",
       "      <th>Genre_9</th>\n",
       "      <th>Genre_10</th>\n",
       "      <th>Genre_11</th>\n",
       "    </tr>\n",
       "  </thead>\n",
       "  <tbody>\n",
       "    <tr>\n",
       "      <th>0</th>\n",
       "      <td>8</td>\n",
       "      <td>True</td>\n",
       "      <td>24</td>\n",
       "      <td>4/2/21</td>\n",
       "      <td>2021</td>\n",
       "      <td>4</td>\n",
       "      <td>2</td>\n",
       "      <td>Heartbreak Anniversary</td>\n",
       "      <td>8832945</td>\n",
       "      <td>Giveon</td>\n",
       "      <td>...</td>\n",
       "      <td>r&amp;b</td>\n",
       "      <td>NaN</td>\n",
       "      <td>NaN</td>\n",
       "      <td>NaN</td>\n",
       "      <td>NaN</td>\n",
       "      <td>NaN</td>\n",
       "      <td>NaN</td>\n",
       "      <td>NaN</td>\n",
       "      <td>NaN</td>\n",
       "      <td>NaN</td>\n",
       "    </tr>\n",
       "    <tr>\n",
       "      <th>1</th>\n",
       "      <td>92</td>\n",
       "      <td>True</td>\n",
       "      <td>2</td>\n",
       "      <td>5/15/20</td>\n",
       "      <td>2020</td>\n",
       "      <td>5</td>\n",
       "      <td>15</td>\n",
       "      <td>X (with KAROL G)</td>\n",
       "      <td>5018592</td>\n",
       "      <td>Jonas Brothers</td>\n",
       "      <td>...</td>\n",
       "      <td>dance pop</td>\n",
       "      <td>pop</td>\n",
       "      <td>post-teen pop</td>\n",
       "      <td>NaN</td>\n",
       "      <td>NaN</td>\n",
       "      <td>NaN</td>\n",
       "      <td>NaN</td>\n",
       "      <td>NaN</td>\n",
       "      <td>NaN</td>\n",
       "      <td>NaN</td>\n",
       "    </tr>\n",
       "    <tr>\n",
       "      <th>2</th>\n",
       "      <td>181</td>\n",
       "      <td>False</td>\n",
       "      <td>1</td>\n",
       "      <td>12/18/20</td>\n",
       "      <td>2020</td>\n",
       "      <td>12</td>\n",
       "      <td>18</td>\n",
       "      <td>Christmas Tree Farm</td>\n",
       "      <td>6657404</td>\n",
       "      <td>Taylor Swift</td>\n",
       "      <td>...</td>\n",
       "      <td>post-teen pop</td>\n",
       "      <td>NaN</td>\n",
       "      <td>NaN</td>\n",
       "      <td>NaN</td>\n",
       "      <td>NaN</td>\n",
       "      <td>NaN</td>\n",
       "      <td>NaN</td>\n",
       "      <td>NaN</td>\n",
       "      <td>NaN</td>\n",
       "      <td>NaN</td>\n",
       "    </tr>\n",
       "    <tr>\n",
       "      <th>3</th>\n",
       "      <td>12</td>\n",
       "      <td>True</td>\n",
       "      <td>29</td>\n",
       "      <td>11/27/20</td>\n",
       "      <td>2020</td>\n",
       "      <td>11</td>\n",
       "      <td>27</td>\n",
       "      <td>TE MUDASTE</td>\n",
       "      <td>5242347</td>\n",
       "      <td>Bad Bunny</td>\n",
       "      <td>...</td>\n",
       "      <td>reggaeton</td>\n",
       "      <td>trap latino</td>\n",
       "      <td>NaN</td>\n",
       "      <td>NaN</td>\n",
       "      <td>NaN</td>\n",
       "      <td>NaN</td>\n",
       "      <td>NaN</td>\n",
       "      <td>NaN</td>\n",
       "      <td>NaN</td>\n",
       "      <td>NaN</td>\n",
       "    </tr>\n",
       "    <tr>\n",
       "      <th>4</th>\n",
       "      <td>32</td>\n",
       "      <td>True</td>\n",
       "      <td>10</td>\n",
       "      <td>1/3/20</td>\n",
       "      <td>2020</td>\n",
       "      <td>1</td>\n",
       "      <td>3</td>\n",
       "      <td>Futsal Shuffle 2020</td>\n",
       "      <td>5386512</td>\n",
       "      <td>Lil Uzi Vert</td>\n",
       "      <td>...</td>\n",
       "      <td>philly rap</td>\n",
       "      <td>rap</td>\n",
       "      <td>trap</td>\n",
       "      <td>NaN</td>\n",
       "      <td>NaN</td>\n",
       "      <td>NaN</td>\n",
       "      <td>NaN</td>\n",
       "      <td>NaN</td>\n",
       "      <td>NaN</td>\n",
       "      <td>NaN</td>\n",
       "    </tr>\n",
       "    <tr>\n",
       "      <th>...</th>\n",
       "      <td>...</td>\n",
       "      <td>...</td>\n",
       "      <td>...</td>\n",
       "      <td>...</td>\n",
       "      <td>...</td>\n",
       "      <td>...</td>\n",
       "      <td>...</td>\n",
       "      <td>...</td>\n",
       "      <td>...</td>\n",
       "      <td>...</td>\n",
       "      <td>...</td>\n",
       "      <td>...</td>\n",
       "      <td>...</td>\n",
       "      <td>...</td>\n",
       "      <td>...</td>\n",
       "      <td>...</td>\n",
       "      <td>...</td>\n",
       "      <td>...</td>\n",
       "      <td>...</td>\n",
       "      <td>...</td>\n",
       "      <td>...</td>\n",
       "    </tr>\n",
       "    <tr>\n",
       "      <th>491</th>\n",
       "      <td>30</td>\n",
       "      <td>True</td>\n",
       "      <td>9</td>\n",
       "      <td>4/10/20</td>\n",
       "      <td>2020</td>\n",
       "      <td>4</td>\n",
       "      <td>10</td>\n",
       "      <td>Level of Concern</td>\n",
       "      <td>4252898</td>\n",
       "      <td>Twenty One Pilots</td>\n",
       "      <td>...</td>\n",
       "      <td>rock</td>\n",
       "      <td>NaN</td>\n",
       "      <td>NaN</td>\n",
       "      <td>NaN</td>\n",
       "      <td>NaN</td>\n",
       "      <td>NaN</td>\n",
       "      <td>NaN</td>\n",
       "      <td>NaN</td>\n",
       "      <td>NaN</td>\n",
       "      <td>NaN</td>\n",
       "    </tr>\n",
       "    <tr>\n",
       "      <th>492</th>\n",
       "      <td>29</td>\n",
       "      <td>True</td>\n",
       "      <td>15</td>\n",
       "      <td>1/24/20</td>\n",
       "      <td>2020</td>\n",
       "      <td>1</td>\n",
       "      <td>24</td>\n",
       "      <td>What If I Told You That I Love You</td>\n",
       "      <td>5234645</td>\n",
       "      <td>Ali Gatie</td>\n",
       "      <td>...</td>\n",
       "      <td>pop</td>\n",
       "      <td>NaN</td>\n",
       "      <td>NaN</td>\n",
       "      <td>NaN</td>\n",
       "      <td>NaN</td>\n",
       "      <td>NaN</td>\n",
       "      <td>NaN</td>\n",
       "      <td>NaN</td>\n",
       "      <td>NaN</td>\n",
       "      <td>NaN</td>\n",
       "    </tr>\n",
       "    <tr>\n",
       "      <th>493</th>\n",
       "      <td>193</td>\n",
       "      <td>False</td>\n",
       "      <td>1</td>\n",
       "      <td>2/12/21</td>\n",
       "      <td>2021</td>\n",
       "      <td>2</td>\n",
       "      <td>12</td>\n",
       "      <td>Wonderwall</td>\n",
       "      <td>4902737</td>\n",
       "      <td>Oasis</td>\n",
       "      <td>...</td>\n",
       "      <td>britpop</td>\n",
       "      <td>madchester</td>\n",
       "      <td>permanent wave</td>\n",
       "      <td>rock</td>\n",
       "      <td>NaN</td>\n",
       "      <td>NaN</td>\n",
       "      <td>NaN</td>\n",
       "      <td>NaN</td>\n",
       "      <td>NaN</td>\n",
       "      <td>NaN</td>\n",
       "    </tr>\n",
       "    <tr>\n",
       "      <th>494</th>\n",
       "      <td>6</td>\n",
       "      <td>True</td>\n",
       "      <td>7</td>\n",
       "      <td>12/18/20</td>\n",
       "      <td>2020</td>\n",
       "      <td>12</td>\n",
       "      <td>18</td>\n",
       "      <td>It's Beginning to Look a Lot like Christmas</td>\n",
       "      <td>15424001</td>\n",
       "      <td>Michael Bublé</td>\n",
       "      <td>...</td>\n",
       "      <td>canadian pop</td>\n",
       "      <td>jazz pop</td>\n",
       "      <td>lounge</td>\n",
       "      <td>NaN</td>\n",
       "      <td>NaN</td>\n",
       "      <td>NaN</td>\n",
       "      <td>NaN</td>\n",
       "      <td>NaN</td>\n",
       "      <td>NaN</td>\n",
       "      <td>NaN</td>\n",
       "    </tr>\n",
       "    <tr>\n",
       "      <th>495</th>\n",
       "      <td>124</td>\n",
       "      <td>False</td>\n",
       "      <td>3</td>\n",
       "      <td>11/6/20</td>\n",
       "      <td>2020</td>\n",
       "      <td>11</td>\n",
       "      <td>6</td>\n",
       "      <td>Sweet Melody</td>\n",
       "      <td>5201322</td>\n",
       "      <td>Little Mix</td>\n",
       "      <td>...</td>\n",
       "      <td>girl group</td>\n",
       "      <td>pop</td>\n",
       "      <td>post-teen pop</td>\n",
       "      <td>talent show</td>\n",
       "      <td>uk pop</td>\n",
       "      <td>NaN</td>\n",
       "      <td>NaN</td>\n",
       "      <td>NaN</td>\n",
       "      <td>NaN</td>\n",
       "      <td>NaN</td>\n",
       "    </tr>\n",
       "  </tbody>\n",
       "</table>\n",
       "<p>496 rows × 42 columns</p>\n",
       "</div>"
      ],
      "text/plain": [
       "     Highest_Charting_Position  Position_In_Top100  Number_of_Times_Charted  \\\n",
       "0                            8                True                       24   \n",
       "1                           92                True                        2   \n",
       "2                          181               False                        1   \n",
       "3                           12                True                       29   \n",
       "4                           32                True                       10   \n",
       "..                         ...                 ...                      ...   \n",
       "491                         30                True                        9   \n",
       "492                         29                True                       15   \n",
       "493                        193               False                        1   \n",
       "494                          6                True                        7   \n",
       "495                        124               False                        3   \n",
       "\n",
       "    Week_of_Highest_Charting  Week_of_Highest_Charting_year  \\\n",
       "0                     4/2/21                           2021   \n",
       "1                    5/15/20                           2020   \n",
       "2                   12/18/20                           2020   \n",
       "3                   11/27/20                           2020   \n",
       "4                     1/3/20                           2020   \n",
       "..                       ...                            ...   \n",
       "491                  4/10/20                           2020   \n",
       "492                  1/24/20                           2020   \n",
       "493                  2/12/21                           2021   \n",
       "494                 12/18/20                           2020   \n",
       "495                  11/6/20                           2020   \n",
       "\n",
       "     Week_of_Highest_Charting_month  Week_of_Highest_Charting_day  \\\n",
       "0                                 4                             2   \n",
       "1                                 5                            15   \n",
       "2                                12                            18   \n",
       "3                                11                            27   \n",
       "4                                 1                             3   \n",
       "..                              ...                           ...   \n",
       "491                               4                            10   \n",
       "492                               1                            24   \n",
       "493                               2                            12   \n",
       "494                              12                            18   \n",
       "495                              11                             6   \n",
       "\n",
       "                                       Song_Name   Streams             Artist  \\\n",
       "0                         Heartbreak Anniversary   8832945             Giveon   \n",
       "1                               X (with KAROL G)   5018592     Jonas Brothers   \n",
       "2                            Christmas Tree Farm   6657404       Taylor Swift   \n",
       "3                                     TE MUDASTE   5242347          Bad Bunny   \n",
       "4                            Futsal Shuffle 2020   5386512       Lil Uzi Vert   \n",
       "..                                           ...       ...                ...   \n",
       "491                             Level of Concern   4252898  Twenty One Pilots   \n",
       "492           What If I Told You That I Love You   5234645          Ali Gatie   \n",
       "493                                   Wonderwall   4902737              Oasis   \n",
       "494  It's Beginning to Look a Lot like Christmas  15424001      Michael Bublé   \n",
       "495                                 Sweet Melody   5201322         Little Mix   \n",
       "\n",
       "     ...         Genre_2       Genre_3          Genre_4       Genre_5  \\\n",
       "0    ...             r&b           NaN              NaN           NaN   \n",
       "1    ...       dance pop           pop    post-teen pop           NaN   \n",
       "2    ...   post-teen pop           NaN              NaN           NaN   \n",
       "3    ...       reggaeton   trap latino              NaN           NaN   \n",
       "4    ...      philly rap           rap             trap           NaN   \n",
       "..   ...             ...           ...              ...           ...   \n",
       "491  ...            rock           NaN              NaN           NaN   \n",
       "492  ...             pop           NaN              NaN           NaN   \n",
       "493  ...         britpop    madchester   permanent wave          rock   \n",
       "494  ...    canadian pop      jazz pop           lounge           NaN   \n",
       "495  ...      girl group           pop    post-teen pop   talent show   \n",
       "\n",
       "     Genre_6  Genre_7 Genre_8  Genre_9  Genre_10  Genre_11  \n",
       "0        NaN      NaN     NaN      NaN       NaN       NaN  \n",
       "1        NaN      NaN     NaN      NaN       NaN       NaN  \n",
       "2        NaN      NaN     NaN      NaN       NaN       NaN  \n",
       "3        NaN      NaN     NaN      NaN       NaN       NaN  \n",
       "4        NaN      NaN     NaN      NaN       NaN       NaN  \n",
       "..       ...      ...     ...      ...       ...       ...  \n",
       "491      NaN      NaN     NaN      NaN       NaN       NaN  \n",
       "492      NaN      NaN     NaN      NaN       NaN       NaN  \n",
       "493      NaN      NaN     NaN      NaN       NaN       NaN  \n",
       "494      NaN      NaN     NaN      NaN       NaN       NaN  \n",
       "495   uk pop      NaN     NaN      NaN       NaN       NaN  \n",
       "\n",
       "[496 rows x 42 columns]"
      ]
     },
     "execution_count": 5,
     "metadata": {},
     "output_type": "execute_result"
    }
   ],
   "source": [
    "missing_values = [\"missing\"]\n",
    "\n",
    "#Read the dataframe again, using an additional parameter.\n",
    "df = pd.read_csv('spotify_top_200_sample.csv', na_values=missing_values)\n",
    "df"
   ]
  },
  {
   "cell_type": "markdown",
   "metadata": {},
   "source": [
    "## 2. Descriptive Analytics"
   ]
  },
  {
   "cell_type": "markdown",
   "metadata": {},
   "source": [
    "#### Question 1: What is the relationship between Highest_Charting_Position & Streams in this dataset? And furthermore, how does this relationship between Streams and Highest_Charting_Position change for different values of Position_In_Top100?"
   ]
  },
  {
   "cell_type": "code",
   "execution_count": 6,
   "metadata": {},
   "outputs": [
    {
     "data": {
      "text/html": [
       "<div>\n",
       "<style scoped>\n",
       "    .dataframe tbody tr th:only-of-type {\n",
       "        vertical-align: middle;\n",
       "    }\n",
       "\n",
       "    .dataframe tbody tr th {\n",
       "        vertical-align: top;\n",
       "    }\n",
       "\n",
       "    .dataframe thead th {\n",
       "        text-align: right;\n",
       "    }\n",
       "</style>\n",
       "<table border=\"1\" class=\"dataframe\">\n",
       "  <thead>\n",
       "    <tr style=\"text-align: right;\">\n",
       "      <th></th>\n",
       "      <th>Highest_Charting_Position</th>\n",
       "      <th>Streams</th>\n",
       "      <th>Position_In_Top100</th>\n",
       "    </tr>\n",
       "  </thead>\n",
       "  <tbody>\n",
       "    <tr>\n",
       "      <th>0</th>\n",
       "      <td>8</td>\n",
       "      <td>8832945</td>\n",
       "      <td>True</td>\n",
       "    </tr>\n",
       "    <tr>\n",
       "      <th>1</th>\n",
       "      <td>92</td>\n",
       "      <td>5018592</td>\n",
       "      <td>True</td>\n",
       "    </tr>\n",
       "    <tr>\n",
       "      <th>2</th>\n",
       "      <td>181</td>\n",
       "      <td>6657404</td>\n",
       "      <td>False</td>\n",
       "    </tr>\n",
       "    <tr>\n",
       "      <th>3</th>\n",
       "      <td>12</td>\n",
       "      <td>5242347</td>\n",
       "      <td>True</td>\n",
       "    </tr>\n",
       "    <tr>\n",
       "      <th>4</th>\n",
       "      <td>32</td>\n",
       "      <td>5386512</td>\n",
       "      <td>True</td>\n",
       "    </tr>\n",
       "    <tr>\n",
       "      <th>...</th>\n",
       "      <td>...</td>\n",
       "      <td>...</td>\n",
       "      <td>...</td>\n",
       "    </tr>\n",
       "    <tr>\n",
       "      <th>491</th>\n",
       "      <td>30</td>\n",
       "      <td>4252898</td>\n",
       "      <td>True</td>\n",
       "    </tr>\n",
       "    <tr>\n",
       "      <th>492</th>\n",
       "      <td>29</td>\n",
       "      <td>5234645</td>\n",
       "      <td>True</td>\n",
       "    </tr>\n",
       "    <tr>\n",
       "      <th>493</th>\n",
       "      <td>193</td>\n",
       "      <td>4902737</td>\n",
       "      <td>False</td>\n",
       "    </tr>\n",
       "    <tr>\n",
       "      <th>494</th>\n",
       "      <td>6</td>\n",
       "      <td>15424001</td>\n",
       "      <td>True</td>\n",
       "    </tr>\n",
       "    <tr>\n",
       "      <th>495</th>\n",
       "      <td>124</td>\n",
       "      <td>5201322</td>\n",
       "      <td>False</td>\n",
       "    </tr>\n",
       "  </tbody>\n",
       "</table>\n",
       "<p>496 rows × 3 columns</p>\n",
       "</div>"
      ],
      "text/plain": [
       "     Highest_Charting_Position   Streams  Position_In_Top100\n",
       "0                            8   8832945                True\n",
       "1                           92   5018592                True\n",
       "2                          181   6657404               False\n",
       "3                           12   5242347                True\n",
       "4                           32   5386512                True\n",
       "..                         ...       ...                 ...\n",
       "491                         30   4252898                True\n",
       "492                         29   5234645                True\n",
       "493                        193   4902737               False\n",
       "494                          6  15424001                True\n",
       "495                        124   5201322               False\n",
       "\n",
       "[496 rows x 3 columns]"
      ]
     },
     "execution_count": 6,
     "metadata": {},
     "output_type": "execute_result"
    }
   ],
   "source": [
    "df1 = df[['Highest_Charting_Position','Streams','Position_In_Top100']]\n",
    "df1"
   ]
  },
  {
   "cell_type": "code",
   "execution_count": 7,
   "metadata": {
    "scrolled": true
   },
   "outputs": [
    {
     "data": {
      "image/png": "[encoded data removed]",
      "text/plain": [
       "<Figure size 360x360 with 1 Axes>"
      ]
     },
     "metadata": {},
     "output_type": "display_data"
    }
   ],
   "source": [
    "import seaborn as sns\n",
    "\n",
    "sns.lmplot(x='Streams', y='Highest_Charting_Position',data=df1)\n",
    "plt.show()"
   ]
  },
  {
   "cell_type": "markdown",
   "metadata": {},
   "source": [
    "**Observation: There exist a negative linear relationship between Streams and Highest_Charting_Position**"
   ]
  },
  {
   "cell_type": "code",
   "execution_count": 8,
   "metadata": {
    "scrolled": true
   },
   "outputs": [
    {
     "data": {
      "image/png": "[encoded data removed]",
      "text/plain": [
       "<Figure size 473.3x360 with 1 Axes>"
      ]
     },
     "metadata": {},
     "output_type": "display_data"
    }
   ],
   "source": [
    "sns.lmplot(x='Streams', y='Highest_Charting_Position', hue ='Position_In_Top100', data=df1)\n",
    "plt.show()"
   ]
  },
  {
   "cell_type": "markdown",
   "metadata": {},
   "source": [
    "**Observation: The slope for 100 to 200 songs is more steep compared to that of 0 to 100 songs. This makes sense because competition becomes more difficult as we go down to 0, which means that the influence of total number of streams decreases and there are possibly other factors that are influencing the rankings as we down to 0.**"
   ]
  },
  {
   "cell_type": "code",
   "execution_count": 9,
   "metadata": {
    "scrolled": false
   },
   "outputs": [
    {
     "data": {
      "text/html": [
       "<div>\n",
       "<style scoped>\n",
       "    .dataframe tbody tr th:only-of-type {\n",
       "        vertical-align: middle;\n",
       "    }\n",
       "\n",
       "    .dataframe tbody tr th {\n",
       "        vertical-align: top;\n",
       "    }\n",
       "\n",
       "    .dataframe thead th {\n",
       "        text-align: right;\n",
       "    }\n",
       "</style>\n",
       "<table border=\"1\" class=\"dataframe\">\n",
       "  <thead>\n",
       "    <tr style=\"text-align: right;\">\n",
       "      <th></th>\n",
       "      <th></th>\n",
       "      <th>Highest_Charting_Position</th>\n",
       "      <th>Streams</th>\n",
       "    </tr>\n",
       "    <tr>\n",
       "      <th>Position_In_Top100</th>\n",
       "      <th></th>\n",
       "      <th></th>\n",
       "      <th></th>\n",
       "    </tr>\n",
       "  </thead>\n",
       "  <tbody>\n",
       "    <tr>\n",
       "      <th rowspan=\"2\" valign=\"top\">False</th>\n",
       "      <th>Highest_Charting_Position</th>\n",
       "      <td>1.000000</td>\n",
       "      <td>-0.333789</td>\n",
       "    </tr>\n",
       "    <tr>\n",
       "      <th>Streams</th>\n",
       "      <td>-0.333789</td>\n",
       "      <td>1.000000</td>\n",
       "    </tr>\n",
       "    <tr>\n",
       "      <th rowspan=\"2\" valign=\"top\">True</th>\n",
       "      <th>Highest_Charting_Position</th>\n",
       "      <td>1.000000</td>\n",
       "      <td>-0.150481</td>\n",
       "    </tr>\n",
       "    <tr>\n",
       "      <th>Streams</th>\n",
       "      <td>-0.150481</td>\n",
       "      <td>1.000000</td>\n",
       "    </tr>\n",
       "  </tbody>\n",
       "</table>\n",
       "</div>"
      ],
      "text/plain": [
       "                                              Highest_Charting_Position  \\\n",
       "Position_In_Top100                                                        \n",
       "False              Highest_Charting_Position                   1.000000   \n",
       "                   Streams                                    -0.333789   \n",
       "True               Highest_Charting_Position                   1.000000   \n",
       "                   Streams                                    -0.150481   \n",
       "\n",
       "                                               Streams  \n",
       "Position_In_Top100                                      \n",
       "False              Highest_Charting_Position -0.333789  \n",
       "                   Streams                    1.000000  \n",
       "True               Highest_Charting_Position -0.150481  \n",
       "                   Streams                    1.000000  "
      ]
     },
     "execution_count": 9,
     "metadata": {},
     "output_type": "execute_result"
    }
   ],
   "source": [
    "df1.groupby(['Position_In_Top100']).corr()"
   ]
  },
  {
   "cell_type": "markdown",
   "metadata": {},
   "source": [
    "**Observation: -.33(songs above 100) is stronger compared to -.15(songs below 100). However, both correlations are less than .5. Therefore, not strong enough.**"
   ]
  },
  {
   "cell_type": "markdown",
   "metadata": {},
   "source": [
    "## 3. Inference"
   ]
  },
  {
   "cell_type": "markdown",
   "metadata": {},
   "source": [
    "#### Question 2: Is there an association between Position_In_Top100 & total number of Artist_Followers in all songs in Spotify?"
   ]
  },
  {
   "cell_type": "code",
   "execution_count": 10,
   "metadata": {
    "scrolled": false
   },
   "outputs": [
    {
     "data": {
      "text/html": [
       "<div>\n",
       "<style scoped>\n",
       "    .dataframe tbody tr th:only-of-type {\n",
       "        vertical-align: middle;\n",
       "    }\n",
       "\n",
       "    .dataframe tbody tr th {\n",
       "        vertical-align: top;\n",
       "    }\n",
       "\n",
       "    .dataframe thead th {\n",
       "        text-align: right;\n",
       "    }\n",
       "</style>\n",
       "<table border=\"1\" class=\"dataframe\">\n",
       "  <thead>\n",
       "    <tr style=\"text-align: right;\">\n",
       "      <th></th>\n",
       "      <th>Position_In_Top100</th>\n",
       "      <th>Artist_Followers</th>\n",
       "    </tr>\n",
       "  </thead>\n",
       "  <tbody>\n",
       "    <tr>\n",
       "      <th>0</th>\n",
       "      <td>True</td>\n",
       "      <td>1398563</td>\n",
       "    </tr>\n",
       "    <tr>\n",
       "      <th>1</th>\n",
       "      <td>True</td>\n",
       "      <td>5436999</td>\n",
       "    </tr>\n",
       "    <tr>\n",
       "      <th>2</th>\n",
       "      <td>False</td>\n",
       "      <td>42227614</td>\n",
       "    </tr>\n",
       "    <tr>\n",
       "      <th>3</th>\n",
       "      <td>True</td>\n",
       "      <td>36142273</td>\n",
       "    </tr>\n",
       "    <tr>\n",
       "      <th>4</th>\n",
       "      <td>True</td>\n",
       "      <td>11821805</td>\n",
       "    </tr>\n",
       "    <tr>\n",
       "      <th>...</th>\n",
       "      <td>...</td>\n",
       "      <td>...</td>\n",
       "    </tr>\n",
       "    <tr>\n",
       "      <th>491</th>\n",
       "      <td>True</td>\n",
       "      <td>20829526</td>\n",
       "    </tr>\n",
       "    <tr>\n",
       "      <th>492</th>\n",
       "      <td>True</td>\n",
       "      <td>1758300</td>\n",
       "    </tr>\n",
       "    <tr>\n",
       "      <th>493</th>\n",
       "      <td>False</td>\n",
       "      <td>6478565</td>\n",
       "    </tr>\n",
       "    <tr>\n",
       "      <th>494</th>\n",
       "      <td>True</td>\n",
       "      <td>4702232</td>\n",
       "    </tr>\n",
       "    <tr>\n",
       "      <th>495</th>\n",
       "      <td>False</td>\n",
       "      <td>9398941</td>\n",
       "    </tr>\n",
       "  </tbody>\n",
       "</table>\n",
       "<p>496 rows × 2 columns</p>\n",
       "</div>"
      ],
      "text/plain": [
       "     Position_In_Top100  Artist_Followers\n",
       "0                  True           1398563\n",
       "1                  True           5436999\n",
       "2                 False          42227614\n",
       "3                  True          36142273\n",
       "4                  True          11821805\n",
       "..                  ...               ...\n",
       "491                True          20829526\n",
       "492                True           1758300\n",
       "493               False           6478565\n",
       "494                True           4702232\n",
       "495               False           9398941\n",
       "\n",
       "[496 rows x 2 columns]"
      ]
     },
     "execution_count": 10,
     "metadata": {},
     "output_type": "execute_result"
    }
   ],
   "source": [
    "pew = pd.read_csv('spotify_top_200_sample.csv')[['Position_In_Top100', 'Artist_Followers']]\n",
    "pew"
   ]
  },
  {
   "cell_type": "code",
   "execution_count": 11,
   "metadata": {},
   "outputs": [
    {
     "data": {
      "text/plain": [
       "(496, 2)"
      ]
     },
     "execution_count": 11,
     "metadata": {},
     "output_type": "execute_result"
    }
   ],
   "source": [
    "pew.shape"
   ]
  },
  {
   "cell_type": "code",
   "execution_count": 90,
   "metadata": {},
   "outputs": [
    {
     "data": {
      "image/png": "[encoded data removed]",
      "text/plain": [
       "<Figure size 432x288 with 1 Axes>"
      ]
     },
     "metadata": {},
     "output_type": "display_data"
    }
   ],
   "source": [
    "sns.boxplot(x=\"Position_In_Top100\", y=\"Artist_Followers\", data=df1)\n",
    "plt.title('Relationship between Position_In_Top100 & Artist_Followers')\n",
    "plt.show()"
   ]
  },
  {
   "cell_type": "code",
   "execution_count": 13,
   "metadata": {},
   "outputs": [],
   "source": [
    "# Extract the two subgroups from the data\n",
    "below100 = pew['Artist_Followers'][pew['Position_In_Top100']==True]\n",
    "above100 = pew['Artist_Followers'][pew['Position_In_Top100']==False]"
   ]
  },
  {
   "cell_type": "code",
   "execution_count": 14,
   "metadata": {},
   "outputs": [
    {
     "name": "stdout",
     "output_type": "stream",
     "text": [
      "Sample Size of songs below 100: 291\n",
      "Sample Mean of songs below 100: 18709120.457044672\n",
      "Sample Standard Deviation of songs below 100: 18883652.845688492\n"
     ]
    }
   ],
   "source": [
    "n_below = len(below100)\n",
    "mean_below = below100.mean()\n",
    "std_below = below100.std()\n",
    "\n",
    "print('Sample Size of songs below 100:', n_below)\n",
    "print('Sample Mean of songs below 100:', mean_below)\n",
    "print('Sample Standard Deviation of songs below 100:', std_below)"
   ]
  },
  {
   "cell_type": "code",
   "execution_count": 15,
   "metadata": {
    "scrolled": true
   },
   "outputs": [
    {
     "name": "stdout",
     "output_type": "stream",
     "text": [
      "Sample Size of songs below 100: 205\n",
      "Sample Mean of songs below 100: 10333757.873170732\n",
      "Sample Standard Deviation of songs below 100: 13288762.182875011\n"
     ]
    }
   ],
   "source": [
    "n_above= len(above100)\n",
    "mean_above= above100.mean()\n",
    "std_above= above100.std()\n",
    "\n",
    "print('Sample Size of songs below 100:', n_above)\n",
    "print('Sample Mean of songs below 100:', mean_above)\n",
    "print('Sample Standard Deviation of songs below 100:', std_above)"
   ]
  },
  {
   "cell_type": "code",
   "execution_count": 16,
   "metadata": {},
   "outputs": [
    {
     "data": {
      "image/png": "[encoded data removed]",
      "text/plain": [
       "<Figure size 432x288 with 1 Axes>"
      ]
     },
     "metadata": {},
     "output_type": "display_data"
    }
   ],
   "source": [
    "below100.hist(color='orange')\n",
    "plt.title('Below 100 Sample')\n",
    "plt.xlabel('Artist_Followers')\n",
    "plt.ylabel('Relative Frequency')\n",
    "plt.show()"
   ]
  },
  {
   "cell_type": "markdown",
   "metadata": {},
   "source": [
    "This sample distribution is not normal (not unimodal and symmetric)."
   ]
  },
  {
   "cell_type": "code",
   "execution_count": 17,
   "metadata": {},
   "outputs": [
    {
     "data": {
      "image/png": "[encoded data removed]",
      "text/plain": [
       "<Figure size 432x288 with 1 Axes>"
      ]
     },
     "metadata": {},
     "output_type": "display_data"
    }
   ],
   "source": [
    "above100.hist(color='orange')\n",
    "plt.title('above 100 Sample')\n",
    "plt.xlabel('Artist_Followers')\n",
    "plt.ylabel('Relative Frequency')\n",
    "plt.show()"
   ]
  },
  {
   "cell_type": "markdown",
   "metadata": {},
   "source": [
    "This sample distribution is not normal (not unimodal and symmetric)."
   ]
  },
  {
   "cell_type": "markdown",
   "metadata": {},
   "source": [
    "#### Set up for hypotheses for this test.\n",
    "\n",
    "$H_0: \\mu_{below} - \\mu_{above} =0$.\n",
    "\n",
    "$H_A: \\mu_{below} - \\mu_{above}\\neq 0$.\n",
    "\n",
    "#### Are the Central Limit Theorem Conditions (for Sample Means) met?\n",
    "\n",
    "1. Sample with songs below 100 is randomly sampled.\n",
    "2. $n_{below}=291<10$% of all songs in spotify below 100.\n",
    "3. Sample with songs above 100 is randomly sampled.\n",
    "4. $n_{above}=205<10$% of all songs in spotify above 100.\n",
    "5. $n_{below}=291>30$ OR <s>the population (or sample) distribution of songs below 100 is approximately normal.</s>\n",
    "5. $n_{above}=205>30$ OR <s>the population (or sample) distribution of songs above 100 is approximately normal.</s>\n",
    "6. We can assume that there is no pairwise relationship between the songs in both groups in this sample.\n",
    "\n",
    "All of the conditions are met, so we can proceed with conducting this hypothesis test."
   ]
  },
  {
   "cell_type": "markdown",
   "metadata": {},
   "source": [
    "#### 4.5.3. Next we can calculate the p-value.\n",
    "\n",
    "We don't know $\\sigma_{below}$ and $\\sigma_{above}$, so we will calculate the t-score of our point estimate ($\\bar{x}_{below}-\\bar{x}_{above}$) and use the **t-distribution**  $df=min\\{n_{below}-1,n_{above}-1\\} =min\\{291-1,205-1\\}=204$ to calculate our p-value probability.\n",
    "\n",
    "\n",
    "$p-value=2P(T_{204}\\geq |\\frac{(\\bar{x}_{below}-\\bar{x}_{above}) - (\\mu_{below} - \\mu_{above})}{    \\sqrt{\\frac{s^2_{below}}{n_{below}}  +\\frac{s^2_{above}}{n_{above}} }           } |)=2P(T_{204}\\geq |\\frac{(\\bar{x}_{below}-\\bar{x}_{above}) - (0)}{    \\sqrt{\\frac{s^2_{below}}{n_{below}}  +\\frac{s^2_{above}}{n_{above}} }           } |)   =2P(T_{204}\\geq |\\frac{(6979963.027491409-5368652.956097561) - (0)}{    \\sqrt{\\frac{3513872.9314222317^2}{291}  +\\frac{714532.9125633388^2}{205} }           } |) =2P(T_{204}\\geq 7.602454761702742)$\n",
    "\n",
    "\n"
   ]
  },
  {
   "cell_type": "code",
   "execution_count": 18,
   "metadata": {},
   "outputs": [
    {
     "data": {
      "text/plain": [
       "8375362.583873941"
      ]
     },
     "execution_count": 18,
     "metadata": {},
     "output_type": "execute_result"
    }
   ],
   "source": [
    "point_estimate = mean_below-mean_above\n",
    "point_estimate"
   ]
  },
  {
   "cell_type": "code",
   "execution_count": 19,
   "metadata": {},
   "outputs": [
    {
     "data": {
      "text/plain": [
       "1444584.2780018647"
      ]
     },
     "execution_count": 19,
     "metadata": {},
     "output_type": "execute_result"
    }
   ],
   "source": [
    "standard_error=np.sqrt((std_below**2)/n_below + (std_above**2)/n_above)\n",
    "standard_error"
   ]
  },
  {
   "cell_type": "code",
   "execution_count": 20,
   "metadata": {},
   "outputs": [
    {
     "name": "stdout",
     "output_type": "stream",
     "text": [
      "Test statistic (ie. t-score of the point estimate): 5.797766673370323\n"
     ]
    }
   ],
   "source": [
    "test_stat=(point_estimate-0)/standard_error\n",
    "print('Test statistic (ie. t-score of the point estimate):',test_stat)"
   ]
  },
  {
   "cell_type": "code",
   "execution_count": 21,
   "metadata": {},
   "outputs": [
    {
     "name": "stdout",
     "output_type": "stream",
     "text": [
      "p-value:  2.5270061598803295e-08\n"
     ]
    }
   ],
   "source": [
    "pvalue=2*(1-t.cdf(np.abs(test_stat), df=204))\n",
    "print('p-value: ',pvalue)"
   ]
  },
  {
   "cell_type": "markdown",
   "metadata": {},
   "source": [
    "**Finally, let's make a conclusion with our p-value, using a significance level of $\\alpha=0.05$.**\n",
    "\n",
    "**Because $p-value=2.5270061598803295e-08<\\alpha=0.05$, we reject the null hypothesis. Thus, we have sufficient evidence to suggest that $\\mu_{below}-\\mu_{above}\\neq 0$ (or that there is an association between artist_followers and Position_In_Top100 in all songs in spotify).**"
   ]
  },
  {
   "cell_type": "markdown",
   "metadata": {},
   "source": [
    "## 4. Linear Regression"
   ]
  },
  {
   "cell_type": "markdown",
   "metadata": {},
   "source": [
    "#### Question 3: Is there a linear relationship between Highest_Charting_Position and Artist_Followers, Streams, Popularity and Number_of_Times_Charted in top 200 songs in spotify? In all songs in spotify?"
   ]
  },
  {
   "cell_type": "markdown",
   "metadata": {},
   "source": [
    "The reason why these explanatory variables were chosen is because I used the descriptive analysis in part to explore the relationships of all possible varialbes and found their relationship to be the most powerful with the response variable"
   ]
  },
  {
   "cell_type": "code",
   "execution_count": 22,
   "metadata": {
    "scrolled": false
   },
   "outputs": [
    {
     "data": {
      "text/html": [
       "<div>\n",
       "<style scoped>\n",
       "    .dataframe tbody tr th:only-of-type {\n",
       "        vertical-align: middle;\n",
       "    }\n",
       "\n",
       "    .dataframe tbody tr th {\n",
       "        vertical-align: top;\n",
       "    }\n",
       "\n",
       "    .dataframe thead th {\n",
       "        text-align: right;\n",
       "    }\n",
       "</style>\n",
       "<table border=\"1\" class=\"dataframe\">\n",
       "  <thead>\n",
       "    <tr style=\"text-align: right;\">\n",
       "      <th></th>\n",
       "      <th>Highest_Charting_Position</th>\n",
       "      <th>Artist_Followers</th>\n",
       "      <th>Streams</th>\n",
       "      <th>Popularity</th>\n",
       "      <th>Number_of_Times_Charted</th>\n",
       "    </tr>\n",
       "  </thead>\n",
       "  <tbody>\n",
       "    <tr>\n",
       "      <th>0</th>\n",
       "      <td>8</td>\n",
       "      <td>1398563</td>\n",
       "      <td>8832945</td>\n",
       "      <td>87</td>\n",
       "      <td>24</td>\n",
       "    </tr>\n",
       "    <tr>\n",
       "      <th>1</th>\n",
       "      <td>92</td>\n",
       "      <td>5436999</td>\n",
       "      <td>5018592</td>\n",
       "      <td>70</td>\n",
       "      <td>2</td>\n",
       "    </tr>\n",
       "    <tr>\n",
       "      <th>2</th>\n",
       "      <td>181</td>\n",
       "      <td>42227614</td>\n",
       "      <td>6657404</td>\n",
       "      <td>52</td>\n",
       "      <td>1</td>\n",
       "    </tr>\n",
       "    <tr>\n",
       "      <th>3</th>\n",
       "      <td>12</td>\n",
       "      <td>36142273</td>\n",
       "      <td>5242347</td>\n",
       "      <td>82</td>\n",
       "      <td>29</td>\n",
       "    </tr>\n",
       "    <tr>\n",
       "      <th>4</th>\n",
       "      <td>32</td>\n",
       "      <td>11821805</td>\n",
       "      <td>5386512</td>\n",
       "      <td>67</td>\n",
       "      <td>10</td>\n",
       "    </tr>\n",
       "    <tr>\n",
       "      <th>...</th>\n",
       "      <td>...</td>\n",
       "      <td>...</td>\n",
       "      <td>...</td>\n",
       "      <td>...</td>\n",
       "      <td>...</td>\n",
       "    </tr>\n",
       "    <tr>\n",
       "      <th>491</th>\n",
       "      <td>30</td>\n",
       "      <td>20829526</td>\n",
       "      <td>4252898</td>\n",
       "      <td>72</td>\n",
       "      <td>9</td>\n",
       "    </tr>\n",
       "    <tr>\n",
       "      <th>492</th>\n",
       "      <td>29</td>\n",
       "      <td>1758300</td>\n",
       "      <td>5234645</td>\n",
       "      <td>69</td>\n",
       "      <td>15</td>\n",
       "    </tr>\n",
       "    <tr>\n",
       "      <th>493</th>\n",
       "      <td>193</td>\n",
       "      <td>6478565</td>\n",
       "      <td>4902737</td>\n",
       "      <td>78</td>\n",
       "      <td>1</td>\n",
       "    </tr>\n",
       "    <tr>\n",
       "      <th>494</th>\n",
       "      <td>6</td>\n",
       "      <td>4702232</td>\n",
       "      <td>15424001</td>\n",
       "      <td>55</td>\n",
       "      <td>7</td>\n",
       "    </tr>\n",
       "    <tr>\n",
       "      <th>495</th>\n",
       "      <td>124</td>\n",
       "      <td>9398941</td>\n",
       "      <td>5201322</td>\n",
       "      <td>73</td>\n",
       "      <td>3</td>\n",
       "    </tr>\n",
       "  </tbody>\n",
       "</table>\n",
       "<p>496 rows × 5 columns</p>\n",
       "</div>"
      ],
      "text/plain": [
       "     Highest_Charting_Position  Artist_Followers   Streams  Popularity  \\\n",
       "0                            8           1398563   8832945          87   \n",
       "1                           92           5436999   5018592          70   \n",
       "2                          181          42227614   6657404          52   \n",
       "3                           12          36142273   5242347          82   \n",
       "4                           32          11821805   5386512          67   \n",
       "..                         ...               ...       ...         ...   \n",
       "491                         30          20829526   4252898          72   \n",
       "492                         29           1758300   5234645          69   \n",
       "493                        193           6478565   4902737          78   \n",
       "494                          6           4702232  15424001          55   \n",
       "495                        124           9398941   5201322          73   \n",
       "\n",
       "     Number_of_Times_Charted  \n",
       "0                         24  \n",
       "1                          2  \n",
       "2                          1  \n",
       "3                         29  \n",
       "4                         10  \n",
       "..                       ...  \n",
       "491                        9  \n",
       "492                       15  \n",
       "493                        1  \n",
       "494                        7  \n",
       "495                        3  \n",
       "\n",
       "[496 rows x 5 columns]"
      ]
     },
     "execution_count": 22,
     "metadata": {},
     "output_type": "execute_result"
    }
   ],
   "source": [
    "df1 = df[['Highest_Charting_Position','Artist_Followers','Streams','Popularity','Number_of_Times_Charted']]\n",
    "df1"
   ]
  },
  {
   "cell_type": "code",
   "execution_count": 23,
   "metadata": {
    "scrolled": false
   },
   "outputs": [
    {
     "data": {
      "image/png": "[encoded data removed]",
      "text/plain": [
       "<Figure size 900x900 with 30 Axes>"
      ]
     },
     "metadata": {},
     "output_type": "display_data"
    }
   ],
   "source": [
    "sns.pairplot(df1)\n",
    "plt.show()"
   ]
  },
  {
   "cell_type": "code",
   "execution_count": 24,
   "metadata": {},
   "outputs": [
    {
     "data": {
      "text/html": [
       "<div>\n",
       "<style scoped>\n",
       "    .dataframe tbody tr th:only-of-type {\n",
       "        vertical-align: middle;\n",
       "    }\n",
       "\n",
       "    .dataframe tbody tr th {\n",
       "        vertical-align: top;\n",
       "    }\n",
       "\n",
       "    .dataframe thead th {\n",
       "        text-align: right;\n",
       "    }\n",
       "</style>\n",
       "<table border=\"1\" class=\"dataframe\">\n",
       "  <thead>\n",
       "    <tr style=\"text-align: right;\">\n",
       "      <th></th>\n",
       "      <th>Highest_Charting_Position</th>\n",
       "      <th>Artist_Followers</th>\n",
       "      <th>Streams</th>\n",
       "      <th>Popularity</th>\n",
       "      <th>Number_of_Times_Charted</th>\n",
       "    </tr>\n",
       "  </thead>\n",
       "  <tbody>\n",
       "    <tr>\n",
       "      <th>Highest_Charting_Position</th>\n",
       "      <td>1.000000</td>\n",
       "      <td>-0.237396</td>\n",
       "      <td>-0.314083</td>\n",
       "      <td>-0.136068</td>\n",
       "      <td>-0.452905</td>\n",
       "    </tr>\n",
       "    <tr>\n",
       "      <th>Artist_Followers</th>\n",
       "      <td>-0.237396</td>\n",
       "      <td>1.000000</td>\n",
       "      <td>0.078950</td>\n",
       "      <td>0.123359</td>\n",
       "      <td>0.058650</td>\n",
       "    </tr>\n",
       "    <tr>\n",
       "      <th>Streams</th>\n",
       "      <td>-0.314083</td>\n",
       "      <td>0.078950</td>\n",
       "      <td>1.000000</td>\n",
       "      <td>0.119823</td>\n",
       "      <td>-0.039957</td>\n",
       "    </tr>\n",
       "    <tr>\n",
       "      <th>Popularity</th>\n",
       "      <td>-0.136068</td>\n",
       "      <td>0.123359</td>\n",
       "      <td>0.119823</td>\n",
       "      <td>1.000000</td>\n",
       "      <td>0.201448</td>\n",
       "    </tr>\n",
       "    <tr>\n",
       "      <th>Number_of_Times_Charted</th>\n",
       "      <td>-0.452905</td>\n",
       "      <td>0.058650</td>\n",
       "      <td>-0.039957</td>\n",
       "      <td>0.201448</td>\n",
       "      <td>1.000000</td>\n",
       "    </tr>\n",
       "  </tbody>\n",
       "</table>\n",
       "</div>"
      ],
      "text/plain": [
       "                           Highest_Charting_Position  Artist_Followers  \\\n",
       "Highest_Charting_Position                   1.000000         -0.237396   \n",
       "Artist_Followers                           -0.237396          1.000000   \n",
       "Streams                                    -0.314083          0.078950   \n",
       "Popularity                                 -0.136068          0.123359   \n",
       "Number_of_Times_Charted                    -0.452905          0.058650   \n",
       "\n",
       "                            Streams  Popularity  Number_of_Times_Charted  \n",
       "Highest_Charting_Position -0.314083   -0.136068                -0.452905  \n",
       "Artist_Followers           0.078950    0.123359                 0.058650  \n",
       "Streams                    1.000000    0.119823                -0.039957  \n",
       "Popularity                 0.119823    1.000000                 0.201448  \n",
       "Number_of_Times_Charted   -0.039957    0.201448                 1.000000  "
      ]
     },
     "execution_count": 24,
     "metadata": {},
     "output_type": "execute_result"
    }
   ],
   "source": [
    " df1.corr()"
   ]
  },
  {
   "cell_type": "code",
   "execution_count": 25,
   "metadata": {},
   "outputs": [
    {
     "data": {
      "text/html": [
       "<table class=\"simpletable\">\n",
       "<caption>OLS Regression Results</caption>\n",
       "<tr>\n",
       "  <th>Dep. Variable:</th>    <td>Highest_Charting_Position</td> <th>  R-squared:         </th> <td>   0.350</td>\n",
       "</tr>\n",
       "<tr>\n",
       "  <th>Model:</th>                       <td>OLS</td>            <th>  Adj. R-squared:    </th> <td>   0.345</td>\n",
       "</tr>\n",
       "<tr>\n",
       "  <th>Method:</th>                 <td>Least Squares</td>       <th>  F-statistic:       </th> <td>   66.11</td>\n",
       "</tr>\n",
       "<tr>\n",
       "  <th>Date:</th>                 <td>Wed, 08 Dec 2021</td>      <th>  Prob (F-statistic):</th> <td>1.00e-44</td>\n",
       "</tr>\n",
       "<tr>\n",
       "  <th>Time:</th>                     <td>13:54:38</td>          <th>  Log-Likelihood:    </th> <td> -2624.4</td>\n",
       "</tr>\n",
       "<tr>\n",
       "  <th>No. Observations:</th>          <td>   496</td>           <th>  AIC:               </th> <td>   5259.</td>\n",
       "</tr>\n",
       "<tr>\n",
       "  <th>Df Residuals:</th>              <td>   491</td>           <th>  BIC:               </th> <td>   5280.</td>\n",
       "</tr>\n",
       "<tr>\n",
       "  <th>Df Model:</th>                  <td>     4</td>           <th>                     </th>     <td> </td>   \n",
       "</tr>\n",
       "<tr>\n",
       "  <th>Covariance Type:</th>          <td>nonrobust</td>         <th>                     </th>     <td> </td>   \n",
       "</tr>\n",
       "</table>\n",
       "<table class=\"simpletable\">\n",
       "<tr>\n",
       "             <td></td>                <th>coef</th>     <th>std err</th>      <th>t</th>      <th>P>|t|</th>  <th>[0.025</th>    <th>0.975]</th>  \n",
       "</tr>\n",
       "<tr>\n",
       "  <th>Intercept</th>               <td>  152.7593</td> <td>   10.917</td> <td>   13.993</td> <td> 0.000</td> <td>  131.310</td> <td>  174.209</td>\n",
       "</tr>\n",
       "<tr>\n",
       "  <th>Artist_Followers</th>        <td> -6.47e-07</td> <td> 1.27e-07</td> <td>   -5.098</td> <td> 0.000</td> <td>-8.96e-07</td> <td>-3.98e-07</td>\n",
       "</tr>\n",
       "<tr>\n",
       "  <th>Streams</th>                 <td>-6.712e-06</td> <td> 7.73e-07</td> <td>   -8.685</td> <td> 0.000</td> <td>-8.23e-06</td> <td>-5.19e-06</td>\n",
       "</tr>\n",
       "<tr>\n",
       "  <th>Popularity</th>              <td>    0.0698</td> <td>    0.149</td> <td>    0.469</td> <td> 0.639</td> <td>   -0.222</td> <td>    0.362</td>\n",
       "</tr>\n",
       "<tr>\n",
       "  <th>Number_of_Times_Charted</th> <td>   -1.5941</td> <td>    0.130</td> <td>  -12.301</td> <td> 0.000</td> <td>   -1.849</td> <td>   -1.339</td>\n",
       "</tr>\n",
       "</table>\n",
       "<table class=\"simpletable\">\n",
       "<tr>\n",
       "  <th>Omnibus:</th>       <td>31.674</td> <th>  Durbin-Watson:     </th> <td>   1.975</td>\n",
       "</tr>\n",
       "<tr>\n",
       "  <th>Prob(Omnibus):</th> <td> 0.000</td> <th>  Jarque-Bera (JB):  </th> <td>  16.272</td>\n",
       "</tr>\n",
       "<tr>\n",
       "  <th>Skew:</th>          <td> 0.262</td> <th>  Prob(JB):          </th> <td>0.000293</td>\n",
       "</tr>\n",
       "<tr>\n",
       "  <th>Kurtosis:</th>      <td> 2.284</td> <th>  Cond. No.          </th> <td>1.18e+08</td>\n",
       "</tr>\n",
       "</table><br/><br/>Notes:<br/>[1] Standard Errors assume that the covariance matrix of the errors is correctly specified.<br/>[2] The condition number is large, 1.18e+08. This might indicate that there are<br/>strong multicollinearity or other numerical problems."
      ],
      "text/plain": [
       "<class 'statsmodels.iolib.summary.Summary'>\n",
       "\"\"\"\n",
       "                                OLS Regression Results                               \n",
       "=====================================================================================\n",
       "Dep. Variable:     Highest_Charting_Position   R-squared:                       0.350\n",
       "Model:                                   OLS   Adj. R-squared:                  0.345\n",
       "Method:                        Least Squares   F-statistic:                     66.11\n",
       "Date:                       Wed, 08 Dec 2021   Prob (F-statistic):           1.00e-44\n",
       "Time:                               13:54:38   Log-Likelihood:                -2624.4\n",
       "No. Observations:                        496   AIC:                             5259.\n",
       "Df Residuals:                            491   BIC:                             5280.\n",
       "Df Model:                                  4                                         \n",
       "Covariance Type:                   nonrobust                                         \n",
       "===========================================================================================\n",
       "                              coef    std err          t      P>|t|      [0.025      0.975]\n",
       "-------------------------------------------------------------------------------------------\n",
       "Intercept                 152.7593     10.917     13.993      0.000     131.310     174.209\n",
       "Artist_Followers         -6.47e-07   1.27e-07     -5.098      0.000   -8.96e-07   -3.98e-07\n",
       "Streams                 -6.712e-06   7.73e-07     -8.685      0.000   -8.23e-06   -5.19e-06\n",
       "Popularity                  0.0698      0.149      0.469      0.639      -0.222       0.362\n",
       "Number_of_Times_Charted    -1.5941      0.130    -12.301      0.000      -1.849      -1.339\n",
       "==============================================================================\n",
       "Omnibus:                       31.674   Durbin-Watson:                   1.975\n",
       "Prob(Omnibus):                  0.000   Jarque-Bera (JB):               16.272\n",
       "Skew:                           0.262   Prob(JB):                     0.000293\n",
       "Kurtosis:                       2.284   Cond. No.                     1.18e+08\n",
       "==============================================================================\n",
       "\n",
       "Notes:\n",
       "[1] Standard Errors assume that the covariance matrix of the errors is correctly specified.\n",
       "[2] The condition number is large, 1.18e+08. This might indicate that there are\n",
       "strong multicollinearity or other numerical problems.\n",
       "\"\"\""
      ]
     },
     "execution_count": 25,
     "metadata": {},
     "output_type": "execute_result"
    }
   ],
   "source": [
    "results = smf.ols('Highest_Charting_Position ~ Artist_Followers+Streams+Popularity+Number_of_Times_Charted', data=df1).fit()\n",
    "results.summary()"
   ]
  },
  {
   "cell_type": "markdown",
   "metadata": {},
   "source": [
    "### 4.1 Formulating the multiple linear regression line.\n",
    "\n",
    "$\\hat{y}=152.7593 - 6.47e-07[ArtistFollowers] - 6.712e-06[Streams] + 0.0698[Popularity] - 1.5941[NumberofTimesCharted]$"
   ]
  },
  {
   "cell_type": "markdown",
   "metadata": {},
   "source": [
    "#### What is the $R^2$ of this model?"
   ]
  },
  {
   "cell_type": "code",
   "execution_count": 26,
   "metadata": {},
   "outputs": [
    {
     "data": {
      "text/plain": [
       "0.3500549157723857"
      ]
     },
     "execution_count": 26,
     "metadata": {},
     "output_type": "execute_result"
    }
   ],
   "source": [
    "results.rsquared"
   ]
  },
  {
   "cell_type": "markdown",
   "metadata": {},
   "source": [
    "35% is the variability of Highest_Charting_Position explained by the model, which is ok. This means the regression model does fit the observation well. "
   ]
  },
  {
   "cell_type": "markdown",
   "metadata": {},
   "source": [
    "### Interpreting the Intercept\n",
    "\n",
    "* **We would <u>expect the average</u> highest charting position of a song in spotify that has 0 Artist_Followers, 0 Streams, 0 Popularity, and 0 Number_of_times_charted to be 153.\n",
    " - This is a nonsensical answer though because:\n",
    "   - There cannot be a song with 0 Artist_Followers, 0 Streams, 0 Popularity, and 0 Number_of_times_charted and yet be ranked 153.\n",
    "\n",
    "### Interpreting the Slopes\n",
    "\n",
    "* <u>All else held equal</u>, if we were to increase the Artist_Followers of a song by 1 unit, then we would <u>expect</u> highest charting position of a song in spotify to decrease, <u>on average</u>, by 6.47e-07.\n",
    "\n",
    "* <u>All else held equal</u>, if we were to increase the Stream of a song by 1 unit, then we would <u>expect</u> highest charting position of a song in spotify to decrease, <u>on average</u>, by 6.712e-06.\n",
    "\n",
    "* <u>All else held equal</u>, if we were to increase the popularity  of a song by 1 unit, then we would <u>expect</u> highest charting position of a song in spotify to increase, <u>on average</u>, by 0.0698.\n",
    "\n",
    "* <u>All else held equal</u>, if we were to increase the Number_of_Times_Charted  of a song by 1 unit, then we would <u>expect</u> highest charting position of a song in spotify to decrease, <u>on average</u>, by 1.5941."
   ]
  },
  {
   "cell_type": "markdown",
   "metadata": {},
   "source": [
    "### 4.2 Check the multiple linear regression conditions for inference for this model.\n",
    "\n",
    "**<u>Condition 1</u>: Linearity Condition**\n",
    "\n",
    "Because the distribution of points in the plot below are roughly evenly distributed above and below the line as we move from left to right, we can say the linearity condition is met."
   ]
  },
  {
   "cell_type": "code",
   "execution_count": 27,
   "metadata": {},
   "outputs": [
    {
     "data": {
      "image/png": "[encoded data removed]",
      "text/plain": [
       "<Figure size 432x288 with 1 Axes>"
      ]
     },
     "metadata": {},
     "output_type": "display_data"
    }
   ],
   "source": [
    "sns.regplot(x=results.fittedvalues, y=results.resid, ci=None)\n",
    "plt.ylabel('Residual')\n",
    "plt.xlabel('Fitted Value')\n",
    "plt.show()"
   ]
  },
  {
   "cell_type": "markdown",
   "metadata": {},
   "source": [
    "**<u>Condition 2</u>: Constant Variability of Residuals Condition**\n",
    "\n",
    "Because the y-axis spread of points in the plot below doesn't really change as we move from left to right, we can say that this condition is met."
   ]
  },
  {
   "cell_type": "code",
   "execution_count": 28,
   "metadata": {},
   "outputs": [
    {
     "data": {
      "image/png": "[encoded data removed]",
      "text/plain": [
       "<Figure size 432x288 with 1 Axes>"
      ]
     },
     "metadata": {},
     "output_type": "display_data"
    }
   ],
   "source": [
    "sns.regplot(x=results.fittedvalues, y=results.resid, ci=None)\n",
    "plt.ylabel('Residual')\n",
    "plt.xlabel('Fitted Value')\n",
    "plt.show()"
   ]
  },
  {
   "cell_type": "markdown",
   "metadata": {},
   "source": [
    "**<u>Condition 3</u>: Normality of Residuals (with Mean of 0) Condition**\n",
    "\n",
    "Because the histogram of residuals is slightly skewed to the right, the assumption that the residuals are normally distributed is slightly not met. (However, it does look like the mean is approaching 0 from the left)."
   ]
  },
  {
   "cell_type": "code",
   "execution_count": 29,
   "metadata": {},
   "outputs": [
    {
     "data": {
      "image/png": "[encoded data removed]",
      "text/plain": [
       "<Figure size 432x288 with 1 Axes>"
      ]
     },
     "metadata": {},
     "output_type": "display_data"
    }
   ],
   "source": [
    "plt.hist(results.resid)\n",
    "plt.xlabel('Residuals')\n",
    "plt.show()"
   ]
  },
  {
   "cell_type": "markdown",
   "metadata": {},
   "source": [
    "**<u>Condition 4 </u>Independence of Residuals Condition**\n",
    "\n",
    "At the very least, we verify that:\n",
    "* the data is randomly sampled and\n",
    "* the sample size n=496<10% of all songs in spotify\n",
    "\n",
    "Thus the condition for independence of residuals may not be violated in this particular way.\n",
    "\n",
    "However, it may still be the case that these residuals are not independent."
   ]
  },
  {
   "cell_type": "markdown",
   "metadata": {},
   "source": [
    "**<u>Condition 5</u>: No Multicollinearity Condition**\n",
    "\n",
    "This new model only has 4 numerical explanatory variable. To check this condition, we can calculate the correlation coeffient."
   ]
  },
  {
   "cell_type": "code",
   "execution_count": 30,
   "metadata": {},
   "outputs": [
    {
     "data": {
      "text/html": [
       "<div>\n",
       "<style scoped>\n",
       "    .dataframe tbody tr th:only-of-type {\n",
       "        vertical-align: middle;\n",
       "    }\n",
       "\n",
       "    .dataframe tbody tr th {\n",
       "        vertical-align: top;\n",
       "    }\n",
       "\n",
       "    .dataframe thead th {\n",
       "        text-align: right;\n",
       "    }\n",
       "</style>\n",
       "<table border=\"1\" class=\"dataframe\">\n",
       "  <thead>\n",
       "    <tr style=\"text-align: right;\">\n",
       "      <th></th>\n",
       "      <th>Highest_Charting_Position</th>\n",
       "      <th>Artist_Followers</th>\n",
       "      <th>Streams</th>\n",
       "      <th>Popularity</th>\n",
       "      <th>Number_of_Times_Charted</th>\n",
       "    </tr>\n",
       "  </thead>\n",
       "  <tbody>\n",
       "    <tr>\n",
       "      <th>Highest_Charting_Position</th>\n",
       "      <td>1.000000</td>\n",
       "      <td>-0.237396</td>\n",
       "      <td>-0.314083</td>\n",
       "      <td>-0.136068</td>\n",
       "      <td>-0.452905</td>\n",
       "    </tr>\n",
       "    <tr>\n",
       "      <th>Artist_Followers</th>\n",
       "      <td>-0.237396</td>\n",
       "      <td>1.000000</td>\n",
       "      <td>0.078950</td>\n",
       "      <td>0.123359</td>\n",
       "      <td>0.058650</td>\n",
       "    </tr>\n",
       "    <tr>\n",
       "      <th>Streams</th>\n",
       "      <td>-0.314083</td>\n",
       "      <td>0.078950</td>\n",
       "      <td>1.000000</td>\n",
       "      <td>0.119823</td>\n",
       "      <td>-0.039957</td>\n",
       "    </tr>\n",
       "    <tr>\n",
       "      <th>Popularity</th>\n",
       "      <td>-0.136068</td>\n",
       "      <td>0.123359</td>\n",
       "      <td>0.119823</td>\n",
       "      <td>1.000000</td>\n",
       "      <td>0.201448</td>\n",
       "    </tr>\n",
       "    <tr>\n",
       "      <th>Number_of_Times_Charted</th>\n",
       "      <td>-0.452905</td>\n",
       "      <td>0.058650</td>\n",
       "      <td>-0.039957</td>\n",
       "      <td>0.201448</td>\n",
       "      <td>1.000000</td>\n",
       "    </tr>\n",
       "  </tbody>\n",
       "</table>\n",
       "</div>"
      ],
      "text/plain": [
       "                           Highest_Charting_Position  Artist_Followers  \\\n",
       "Highest_Charting_Position                   1.000000         -0.237396   \n",
       "Artist_Followers                           -0.237396          1.000000   \n",
       "Streams                                    -0.314083          0.078950   \n",
       "Popularity                                 -0.136068          0.123359   \n",
       "Number_of_Times_Charted                    -0.452905          0.058650   \n",
       "\n",
       "                            Streams  Popularity  Number_of_Times_Charted  \n",
       "Highest_Charting_Position -0.314083   -0.136068                -0.452905  \n",
       "Artist_Followers           0.078950    0.123359                 0.058650  \n",
       "Streams                    1.000000    0.119823                -0.039957  \n",
       "Popularity                 0.119823    1.000000                 0.201448  \n",
       "Number_of_Times_Charted   -0.039957    0.201448                 1.000000  "
      ]
     },
     "execution_count": 30,
     "metadata": {},
     "output_type": "execute_result"
    }
   ],
   "source": [
    " df1.corr()"
   ]
  },
  {
   "cell_type": "markdown",
   "metadata": {},
   "source": [
    "**Oberservation: Since the value of r is is not less than -.5 or greater than .5   for all possible pairs of explanatory variables, we can conclude there isn't any multicollinearity, which means our condition is met.**"
   ]
  },
  {
   "cell_type": "markdown",
   "metadata": {},
   "source": [
    "### 4.3 Inference for ALL Multiple Linear Regression Slopes"
   ]
  },
  {
   "cell_type": "markdown",
   "metadata": {},
   "source": [
    "#### Conducting the Test $H_0: \\beta_1=\\beta_2=...=\\beta_p=0$"
   ]
  },
  {
   "cell_type": "markdown",
   "metadata": {},
   "source": [
    "**When using Artist_Followers,Streams,Popularity & Number_of_Times_Charted to predict Highest_Charting_Position in a linear regression equation, is there significant evidence to suggest that at least one of the slopes in the population linear regression model is non-zero?**"
   ]
  },
  {
   "cell_type": "code",
   "execution_count": 31,
   "metadata": {},
   "outputs": [
    {
     "data": {
      "text/html": [
       "<table class=\"simpletable\">\n",
       "<caption>OLS Regression Results</caption>\n",
       "<tr>\n",
       "  <th>Dep. Variable:</th>    <td>Highest_Charting_Position</td> <th>  R-squared:         </th> <td>   0.350</td>\n",
       "</tr>\n",
       "<tr>\n",
       "  <th>Model:</th>                       <td>OLS</td>            <th>  Adj. R-squared:    </th> <td>   0.345</td>\n",
       "</tr>\n",
       "<tr>\n",
       "  <th>Method:</th>                 <td>Least Squares</td>       <th>  F-statistic:       </th> <td>   66.11</td>\n",
       "</tr>\n",
       "<tr>\n",
       "  <th>Date:</th>                 <td>Wed, 08 Dec 2021</td>      <th>  Prob (F-statistic):</th> <td>1.00e-44</td>\n",
       "</tr>\n",
       "<tr>\n",
       "  <th>Time:</th>                     <td>13:54:40</td>          <th>  Log-Likelihood:    </th> <td> -2624.4</td>\n",
       "</tr>\n",
       "<tr>\n",
       "  <th>No. Observations:</th>          <td>   496</td>           <th>  AIC:               </th> <td>   5259.</td>\n",
       "</tr>\n",
       "<tr>\n",
       "  <th>Df Residuals:</th>              <td>   491</td>           <th>  BIC:               </th> <td>   5280.</td>\n",
       "</tr>\n",
       "<tr>\n",
       "  <th>Df Model:</th>                  <td>     4</td>           <th>                     </th>     <td> </td>   \n",
       "</tr>\n",
       "<tr>\n",
       "  <th>Covariance Type:</th>          <td>nonrobust</td>         <th>                     </th>     <td> </td>   \n",
       "</tr>\n",
       "</table>\n",
       "<table class=\"simpletable\">\n",
       "<tr>\n",
       "             <td></td>                <th>coef</th>     <th>std err</th>      <th>t</th>      <th>P>|t|</th>  <th>[0.025</th>    <th>0.975]</th>  \n",
       "</tr>\n",
       "<tr>\n",
       "  <th>Intercept</th>               <td>  152.7593</td> <td>   10.917</td> <td>   13.993</td> <td> 0.000</td> <td>  131.310</td> <td>  174.209</td>\n",
       "</tr>\n",
       "<tr>\n",
       "  <th>Artist_Followers</th>        <td> -6.47e-07</td> <td> 1.27e-07</td> <td>   -5.098</td> <td> 0.000</td> <td>-8.96e-07</td> <td>-3.98e-07</td>\n",
       "</tr>\n",
       "<tr>\n",
       "  <th>Streams</th>                 <td>-6.712e-06</td> <td> 7.73e-07</td> <td>   -8.685</td> <td> 0.000</td> <td>-8.23e-06</td> <td>-5.19e-06</td>\n",
       "</tr>\n",
       "<tr>\n",
       "  <th>Popularity</th>              <td>    0.0698</td> <td>    0.149</td> <td>    0.469</td> <td> 0.639</td> <td>   -0.222</td> <td>    0.362</td>\n",
       "</tr>\n",
       "<tr>\n",
       "  <th>Number_of_Times_Charted</th> <td>   -1.5941</td> <td>    0.130</td> <td>  -12.301</td> <td> 0.000</td> <td>   -1.849</td> <td>   -1.339</td>\n",
       "</tr>\n",
       "</table>\n",
       "<table class=\"simpletable\">\n",
       "<tr>\n",
       "  <th>Omnibus:</th>       <td>31.674</td> <th>  Durbin-Watson:     </th> <td>   1.975</td>\n",
       "</tr>\n",
       "<tr>\n",
       "  <th>Prob(Omnibus):</th> <td> 0.000</td> <th>  Jarque-Bera (JB):  </th> <td>  16.272</td>\n",
       "</tr>\n",
       "<tr>\n",
       "  <th>Skew:</th>          <td> 0.262</td> <th>  Prob(JB):          </th> <td>0.000293</td>\n",
       "</tr>\n",
       "<tr>\n",
       "  <th>Kurtosis:</th>      <td> 2.284</td> <th>  Cond. No.          </th> <td>1.18e+08</td>\n",
       "</tr>\n",
       "</table><br/><br/>Notes:<br/>[1] Standard Errors assume that the covariance matrix of the errors is correctly specified.<br/>[2] The condition number is large, 1.18e+08. This might indicate that there are<br/>strong multicollinearity or other numerical problems."
      ],
      "text/plain": [
       "<class 'statsmodels.iolib.summary.Summary'>\n",
       "\"\"\"\n",
       "                                OLS Regression Results                               \n",
       "=====================================================================================\n",
       "Dep. Variable:     Highest_Charting_Position   R-squared:                       0.350\n",
       "Model:                                   OLS   Adj. R-squared:                  0.345\n",
       "Method:                        Least Squares   F-statistic:                     66.11\n",
       "Date:                       Wed, 08 Dec 2021   Prob (F-statistic):           1.00e-44\n",
       "Time:                               13:54:40   Log-Likelihood:                -2624.4\n",
       "No. Observations:                        496   AIC:                             5259.\n",
       "Df Residuals:                            491   BIC:                             5280.\n",
       "Df Model:                                  4                                         \n",
       "Covariance Type:                   nonrobust                                         \n",
       "===========================================================================================\n",
       "                              coef    std err          t      P>|t|      [0.025      0.975]\n",
       "-------------------------------------------------------------------------------------------\n",
       "Intercept                 152.7593     10.917     13.993      0.000     131.310     174.209\n",
       "Artist_Followers         -6.47e-07   1.27e-07     -5.098      0.000   -8.96e-07   -3.98e-07\n",
       "Streams                 -6.712e-06   7.73e-07     -8.685      0.000   -8.23e-06   -5.19e-06\n",
       "Popularity                  0.0698      0.149      0.469      0.639      -0.222       0.362\n",
       "Number_of_Times_Charted    -1.5941      0.130    -12.301      0.000      -1.849      -1.339\n",
       "==============================================================================\n",
       "Omnibus:                       31.674   Durbin-Watson:                   1.975\n",
       "Prob(Omnibus):                  0.000   Jarque-Bera (JB):               16.272\n",
       "Skew:                           0.262   Prob(JB):                     0.000293\n",
       "Kurtosis:                       2.284   Cond. No.                     1.18e+08\n",
       "==============================================================================\n",
       "\n",
       "Notes:\n",
       "[1] Standard Errors assume that the covariance matrix of the errors is correctly specified.\n",
       "[2] The condition number is large, 1.18e+08. This might indicate that there are\n",
       "strong multicollinearity or other numerical problems.\n",
       "\"\"\""
      ]
     },
     "execution_count": 31,
     "metadata": {},
     "output_type": "execute_result"
    }
   ],
   "source": [
    "results.summary()"
   ]
  },
  {
   "cell_type": "markdown",
   "metadata": {},
   "source": [
    "**1. Set up for Hypothesis test.**"
   ]
  },
  {
   "cell_type": "markdown",
   "metadata": {},
   "source": [
    "$H_0: \\beta_1=\\beta_2=\\beta_3=\\beta_4=0$\n",
    "\n",
    "$H_A:$ at least one $\\beta_i\\neq 0$ (for $i=1,2,3,4$)"
   ]
  },
  {
   "cell_type": "markdown",
   "metadata": {},
   "source": [
    "**2. Next, check conditions for this test.**"
   ]
  },
  {
   "cell_type": "markdown",
   "metadata": {},
   "source": [
    "We have already checked the multiple linear regression conditions for inference and they all hold. Thus the inference that we make with this test will be valid."
   ]
  },
  {
   "cell_type": "markdown",
   "metadata": {},
   "source": [
    "**3. Find the test statistic for this test from the summary**."
   ]
  },
  {
   "cell_type": "markdown",
   "metadata": {},
   "source": [
    "The output table tells us that $test stat=66.11$"
   ]
  },
  {
   "cell_type": "markdown",
   "metadata": {},
   "source": [
    "**4. Using this test statistic and the F-distribution calculate the p-value for this test**"
   ]
  },
  {
   "cell_type": "markdown",
   "metadata": {},
   "source": [
    "The two sets of degrees of freedom for this test are:\n",
    "* $df1=p=4$ (ie. p=number of slopes)\n",
    "* $df2=n-p-1=496-4-1=491$\n",
    "\n",
    "<br/>\n",
    "<br/>\n",
    "<br/>\n",
    "<br/>\n",
    "<br/>\n",
    "<br/>\n",
    "<br/>\n",
    "<br/>\n",
    "<br/>\n",
    "<br/>\n",
    "<br/>\n",
    "<br/>\n",
    "\n",
    "\n",
    "$p-value=P(F_{4,491}\\geq teststat) =P(F_{4,491}\\geq 66.11)=1.1102230246251565e-16$"
   ]
  },
  {
   "cell_type": "code",
   "execution_count": 32,
   "metadata": {},
   "outputs": [
    {
     "name": "stdout",
     "output_type": "stream",
     "text": [
      "p-value:  1.1102230246251565e-16\n"
     ]
    }
   ],
   "source": [
    "pvalue=1-f.cdf(66.11, dfn=4,dfd=491)\n",
    "print('p-value: ',pvalue)"
   ]
  },
  {
   "cell_type": "markdown",
   "metadata": {},
   "source": [
    "**5. Verify this p-value using the summary output table.**"
   ]
  },
  {
   "cell_type": "markdown",
   "metadata": {},
   "source": [
    "The p-value in the summary output tables is 1.00e-44. Because the p-value is very small, these p-value may be off due to some precision errors."
   ]
  },
  {
   "cell_type": "markdown",
   "metadata": {},
   "source": [
    "**6. Make a conclusion with this p-value, using $\\alpha=0.05$**"
   ]
  },
  {
   "cell_type": "markdown",
   "metadata": {},
   "source": [
    "Because the $p-value= 1.1102230246251565e-16<\\alpha=0.05$, we reject the null hypothesis. Thus, there is sufficient evidence to suggest that at least one of the four population slopes in the model predicting Highest_charting_position with Artist_Followers,Streams,Popularity & Number_of_Times_Charted is non-zero."
   ]
  },
  {
   "cell_type": "markdown",
   "metadata": {},
   "source": [
    "### 4.4 Making a Prediction with Multiple Linear Regression\n",
    "\n",
    "Setting up a multiple linear regression model that predicts Highest_Charting_Position with Artist_Followers,Streams,Popularity & Number_of_Times_Charted. Then predict the Highest_Charting_position of a song which has Artist_Followers 5000000,Streams 10000000,Popularity 85 & Number_of_Times_Charted 25."
   ]
  },
  {
   "cell_type": "code",
   "execution_count": 33,
   "metadata": {},
   "outputs": [
    {
     "data": {
      "text/html": [
       "<table class=\"simpletable\">\n",
       "<caption>OLS Regression Results</caption>\n",
       "<tr>\n",
       "  <th>Dep. Variable:</th>    <td>Highest_Charting_Position</td> <th>  R-squared:         </th> <td>   0.350</td>\n",
       "</tr>\n",
       "<tr>\n",
       "  <th>Model:</th>                       <td>OLS</td>            <th>  Adj. R-squared:    </th> <td>   0.345</td>\n",
       "</tr>\n",
       "<tr>\n",
       "  <th>Method:</th>                 <td>Least Squares</td>       <th>  F-statistic:       </th> <td>   66.11</td>\n",
       "</tr>\n",
       "<tr>\n",
       "  <th>Date:</th>                 <td>Wed, 08 Dec 2021</td>      <th>  Prob (F-statistic):</th> <td>1.00e-44</td>\n",
       "</tr>\n",
       "<tr>\n",
       "  <th>Time:</th>                     <td>13:54:43</td>          <th>  Log-Likelihood:    </th> <td> -2624.4</td>\n",
       "</tr>\n",
       "<tr>\n",
       "  <th>No. Observations:</th>          <td>   496</td>           <th>  AIC:               </th> <td>   5259.</td>\n",
       "</tr>\n",
       "<tr>\n",
       "  <th>Df Residuals:</th>              <td>   491</td>           <th>  BIC:               </th> <td>   5280.</td>\n",
       "</tr>\n",
       "<tr>\n",
       "  <th>Df Model:</th>                  <td>     4</td>           <th>                     </th>     <td> </td>   \n",
       "</tr>\n",
       "<tr>\n",
       "  <th>Covariance Type:</th>          <td>nonrobust</td>         <th>                     </th>     <td> </td>   \n",
       "</tr>\n",
       "</table>\n",
       "<table class=\"simpletable\">\n",
       "<tr>\n",
       "             <td></td>                <th>coef</th>     <th>std err</th>      <th>t</th>      <th>P>|t|</th>  <th>[0.025</th>    <th>0.975]</th>  \n",
       "</tr>\n",
       "<tr>\n",
       "  <th>Intercept</th>               <td>  152.7593</td> <td>   10.917</td> <td>   13.993</td> <td> 0.000</td> <td>  131.310</td> <td>  174.209</td>\n",
       "</tr>\n",
       "<tr>\n",
       "  <th>Artist_Followers</th>        <td> -6.47e-07</td> <td> 1.27e-07</td> <td>   -5.098</td> <td> 0.000</td> <td>-8.96e-07</td> <td>-3.98e-07</td>\n",
       "</tr>\n",
       "<tr>\n",
       "  <th>Streams</th>                 <td>-6.712e-06</td> <td> 7.73e-07</td> <td>   -8.685</td> <td> 0.000</td> <td>-8.23e-06</td> <td>-5.19e-06</td>\n",
       "</tr>\n",
       "<tr>\n",
       "  <th>Popularity</th>              <td>    0.0698</td> <td>    0.149</td> <td>    0.469</td> <td> 0.639</td> <td>   -0.222</td> <td>    0.362</td>\n",
       "</tr>\n",
       "<tr>\n",
       "  <th>Number_of_Times_Charted</th> <td>   -1.5941</td> <td>    0.130</td> <td>  -12.301</td> <td> 0.000</td> <td>   -1.849</td> <td>   -1.339</td>\n",
       "</tr>\n",
       "</table>\n",
       "<table class=\"simpletable\">\n",
       "<tr>\n",
       "  <th>Omnibus:</th>       <td>31.674</td> <th>  Durbin-Watson:     </th> <td>   1.975</td>\n",
       "</tr>\n",
       "<tr>\n",
       "  <th>Prob(Omnibus):</th> <td> 0.000</td> <th>  Jarque-Bera (JB):  </th> <td>  16.272</td>\n",
       "</tr>\n",
       "<tr>\n",
       "  <th>Skew:</th>          <td> 0.262</td> <th>  Prob(JB):          </th> <td>0.000293</td>\n",
       "</tr>\n",
       "<tr>\n",
       "  <th>Kurtosis:</th>      <td> 2.284</td> <th>  Cond. No.          </th> <td>1.18e+08</td>\n",
       "</tr>\n",
       "</table><br/><br/>Notes:<br/>[1] Standard Errors assume that the covariance matrix of the errors is correctly specified.<br/>[2] The condition number is large, 1.18e+08. This might indicate that there are<br/>strong multicollinearity or other numerical problems."
      ],
      "text/plain": [
       "<class 'statsmodels.iolib.summary.Summary'>\n",
       "\"\"\"\n",
       "                                OLS Regression Results                               \n",
       "=====================================================================================\n",
       "Dep. Variable:     Highest_Charting_Position   R-squared:                       0.350\n",
       "Model:                                   OLS   Adj. R-squared:                  0.345\n",
       "Method:                        Least Squares   F-statistic:                     66.11\n",
       "Date:                       Wed, 08 Dec 2021   Prob (F-statistic):           1.00e-44\n",
       "Time:                               13:54:43   Log-Likelihood:                -2624.4\n",
       "No. Observations:                        496   AIC:                             5259.\n",
       "Df Residuals:                            491   BIC:                             5280.\n",
       "Df Model:                                  4                                         \n",
       "Covariance Type:                   nonrobust                                         \n",
       "===========================================================================================\n",
       "                              coef    std err          t      P>|t|      [0.025      0.975]\n",
       "-------------------------------------------------------------------------------------------\n",
       "Intercept                 152.7593     10.917     13.993      0.000     131.310     174.209\n",
       "Artist_Followers         -6.47e-07   1.27e-07     -5.098      0.000   -8.96e-07   -3.98e-07\n",
       "Streams                 -6.712e-06   7.73e-07     -8.685      0.000   -8.23e-06   -5.19e-06\n",
       "Popularity                  0.0698      0.149      0.469      0.639      -0.222       0.362\n",
       "Number_of_Times_Charted    -1.5941      0.130    -12.301      0.000      -1.849      -1.339\n",
       "==============================================================================\n",
       "Omnibus:                       31.674   Durbin-Watson:                   1.975\n",
       "Prob(Omnibus):                  0.000   Jarque-Bera (JB):               16.272\n",
       "Skew:                           0.262   Prob(JB):                     0.000293\n",
       "Kurtosis:                       2.284   Cond. No.                     1.18e+08\n",
       "==============================================================================\n",
       "\n",
       "Notes:\n",
       "[1] Standard Errors assume that the covariance matrix of the errors is correctly specified.\n",
       "[2] The condition number is large, 1.18e+08. This might indicate that there are\n",
       "strong multicollinearity or other numerical problems.\n",
       "\"\"\""
      ]
     },
     "execution_count": 33,
     "metadata": {},
     "output_type": "execute_result"
    }
   ],
   "source": [
    "final_mod = smf.ols('Highest_Charting_Position~Artist_Followers+Streams+Popularity+Number_of_Times_Charted', data=df).fit()\n",
    "final_mod.summary()"
   ]
  },
  {
   "cell_type": "markdown",
   "metadata": {},
   "source": [
    "<u>Model</u>:"
   ]
  },
  {
   "cell_type": "markdown",
   "metadata": {},
   "source": [
    "$\\hat{y}=152.7593 - 6.47e-07[ArtistFollowers] - 6.712e-06[Streams] + 0.0698[Popularity] - 1.5941[Number_of_Times_Charted]$"
   ]
  },
  {
   "cell_type": "markdown",
   "metadata": {},
   "source": [
    "<u>Prediction by Hand</u>:\n",
    "\n",
    "$\\hat{y}=152.7593 - 6.47e-07[5000000] - 6.712e-06[10000000] + 0.0698[95] - 1.5941[25]$"
   ]
  },
  {
   "cell_type": "code",
   "execution_count": 34,
   "metadata": {},
   "outputs": [
    {
     "data": {
      "text/plain": [
       "0    48.485926\n",
       "dtype: float64"
      ]
     },
     "execution_count": 34,
     "metadata": {},
     "output_type": "execute_result"
    }
   ],
   "source": [
    "final_mod.predict(exog=df_test)"
   ]
  },
  {
   "cell_type": "markdown",
   "metadata": {},
   "source": [
    "## 5. Logistic Regression"
   ]
  },
  {
   "cell_type": "markdown",
   "metadata": {},
   "source": [
    "#### Question 4: Is there a linear relationship between between the log-odds of the success level of Position_In_Top100 and Artist_Followers, Streams, Popularity, and Number_of_Times_Charted in top 200 songs in spotify? In all songs in spotify?"
   ]
  },
  {
   "cell_type": "markdown",
   "metadata": {},
   "source": [
    "The reason why these explanatory variables were chosen is because I used infrences in part 3 to explore the relationships of all possible variables and found their relationship to be the most powerful with the response variable"
   ]
  },
  {
   "cell_type": "code",
   "execution_count": 35,
   "metadata": {
    "scrolled": false
   },
   "outputs": [
    {
     "data": {
      "text/html": [
       "<div>\n",
       "<style scoped>\n",
       "    .dataframe tbody tr th:only-of-type {\n",
       "        vertical-align: middle;\n",
       "    }\n",
       "\n",
       "    .dataframe tbody tr th {\n",
       "        vertical-align: top;\n",
       "    }\n",
       "\n",
       "    .dataframe thead th {\n",
       "        text-align: right;\n",
       "    }\n",
       "</style>\n",
       "<table border=\"1\" class=\"dataframe\">\n",
       "  <thead>\n",
       "    <tr style=\"text-align: right;\">\n",
       "      <th></th>\n",
       "      <th>Position_In_Top100</th>\n",
       "      <th>Artist_Followers</th>\n",
       "      <th>Streams</th>\n",
       "      <th>Popularity</th>\n",
       "      <th>Number_of_Times_Charted</th>\n",
       "    </tr>\n",
       "  </thead>\n",
       "  <tbody>\n",
       "    <tr>\n",
       "      <th>0</th>\n",
       "      <td>True</td>\n",
       "      <td>1398563</td>\n",
       "      <td>8832945</td>\n",
       "      <td>87</td>\n",
       "      <td>24</td>\n",
       "    </tr>\n",
       "    <tr>\n",
       "      <th>1</th>\n",
       "      <td>True</td>\n",
       "      <td>5436999</td>\n",
       "      <td>5018592</td>\n",
       "      <td>70</td>\n",
       "      <td>2</td>\n",
       "    </tr>\n",
       "    <tr>\n",
       "      <th>2</th>\n",
       "      <td>False</td>\n",
       "      <td>42227614</td>\n",
       "      <td>6657404</td>\n",
       "      <td>52</td>\n",
       "      <td>1</td>\n",
       "    </tr>\n",
       "    <tr>\n",
       "      <th>3</th>\n",
       "      <td>True</td>\n",
       "      <td>36142273</td>\n",
       "      <td>5242347</td>\n",
       "      <td>82</td>\n",
       "      <td>29</td>\n",
       "    </tr>\n",
       "    <tr>\n",
       "      <th>4</th>\n",
       "      <td>True</td>\n",
       "      <td>11821805</td>\n",
       "      <td>5386512</td>\n",
       "      <td>67</td>\n",
       "      <td>10</td>\n",
       "    </tr>\n",
       "    <tr>\n",
       "      <th>...</th>\n",
       "      <td>...</td>\n",
       "      <td>...</td>\n",
       "      <td>...</td>\n",
       "      <td>...</td>\n",
       "      <td>...</td>\n",
       "    </tr>\n",
       "    <tr>\n",
       "      <th>491</th>\n",
       "      <td>True</td>\n",
       "      <td>20829526</td>\n",
       "      <td>4252898</td>\n",
       "      <td>72</td>\n",
       "      <td>9</td>\n",
       "    </tr>\n",
       "    <tr>\n",
       "      <th>492</th>\n",
       "      <td>True</td>\n",
       "      <td>1758300</td>\n",
       "      <td>5234645</td>\n",
       "      <td>69</td>\n",
       "      <td>15</td>\n",
       "    </tr>\n",
       "    <tr>\n",
       "      <th>493</th>\n",
       "      <td>False</td>\n",
       "      <td>6478565</td>\n",
       "      <td>4902737</td>\n",
       "      <td>78</td>\n",
       "      <td>1</td>\n",
       "    </tr>\n",
       "    <tr>\n",
       "      <th>494</th>\n",
       "      <td>True</td>\n",
       "      <td>4702232</td>\n",
       "      <td>15424001</td>\n",
       "      <td>55</td>\n",
       "      <td>7</td>\n",
       "    </tr>\n",
       "    <tr>\n",
       "      <th>495</th>\n",
       "      <td>False</td>\n",
       "      <td>9398941</td>\n",
       "      <td>5201322</td>\n",
       "      <td>73</td>\n",
       "      <td>3</td>\n",
       "    </tr>\n",
       "  </tbody>\n",
       "</table>\n",
       "<p>496 rows × 5 columns</p>\n",
       "</div>"
      ],
      "text/plain": [
       "     Position_In_Top100  Artist_Followers   Streams  Popularity  \\\n",
       "0                  True           1398563   8832945          87   \n",
       "1                  True           5436999   5018592          70   \n",
       "2                 False          42227614   6657404          52   \n",
       "3                  True          36142273   5242347          82   \n",
       "4                  True          11821805   5386512          67   \n",
       "..                  ...               ...       ...         ...   \n",
       "491                True          20829526   4252898          72   \n",
       "492                True           1758300   5234645          69   \n",
       "493               False           6478565   4902737          78   \n",
       "494                True           4702232  15424001          55   \n",
       "495               False           9398941   5201322          73   \n",
       "\n",
       "     Number_of_Times_Charted  \n",
       "0                         24  \n",
       "1                          2  \n",
       "2                          1  \n",
       "3                         29  \n",
       "4                         10  \n",
       "..                       ...  \n",
       "491                        9  \n",
       "492                       15  \n",
       "493                        1  \n",
       "494                        7  \n",
       "495                        3  \n",
       "\n",
       "[496 rows x 5 columns]"
      ]
     },
     "execution_count": 35,
     "metadata": {},
     "output_type": "execute_result"
    }
   ],
   "source": [
    "df1 = df[['Position_In_Top100','Artist_Followers','Streams','Popularity','Number_of_Times_Charted']]\n",
    "df1"
   ]
  },
  {
   "cell_type": "markdown",
   "metadata": {},
   "source": [
    "### Note: Position_In_Top100 is a column I created in excel. It is a translation of numerical data of Highest_Charting_Position into Categorical data.\n",
    "\n",
    "**True = 'Songs with Highest_Charting_Position below 100'**\n",
    "\n",
    "**False = 'Songs with Highest_Charting_Position above 100'**"
   ]
  },
  {
   "cell_type": "code",
   "execution_count": 36,
   "metadata": {
    "scrolled": true
   },
   "outputs": [
    {
     "data": {
      "image/png": "[encoded data removed]",
      "text/plain": [
       "<Figure size 432x288 with 1 Axes>"
      ]
     },
     "metadata": {},
     "output_type": "display_data"
    }
   ],
   "source": [
    "sns.boxplot(x=\"Position_In_Top100\", y=\"Artist_Followers\", data=df1)\n",
    "plt.title('Relationship between Position_In_Top100 & Artist_Followers')\n",
    "plt.show()"
   ]
  },
  {
   "cell_type": "markdown",
   "metadata": {},
   "source": [
    "Analysis:\n",
    "\n",
    "1. <u>Compare Measures of Center</u>: We can see that the median artist_followers for songs above 100 is below as the median edian artist_followers for songs below 100.\n",
    "2. <u>Compare Measures of Spread</u>: The IQR and range artist_followers of songs above 100 is less than that of songs below 100.\n",
    "3. <u>Compare Distribution Shapes</u>: The distribution of artist_followers of songs above 100 looks bimodal, and is right skewed. The distribution of artist_followers of songs below 100 looks bimodal, and is right skewed.\n",
    "4. <u>Compare Outliers</u>: The distribution of artist_followers of songs below 100 has no outliers compared to that of above 100, which has a lot."
   ]
  },
  {
   "cell_type": "code",
   "execution_count": 37,
   "metadata": {},
   "outputs": [
    {
     "data": {
      "image/png": "[encoded data removed]",
      "text/plain": [
       "<Figure size 432x288 with 1 Axes>"
      ]
     },
     "metadata": {},
     "output_type": "display_data"
    }
   ],
   "source": [
    "sns.boxplot(x=\"Position_In_Top100\", y=\"Streams\", data=df1)\n",
    "plt.title('Relationship between Position_In_Top100 & streams')\n",
    "plt.show()"
   ]
  },
  {
   "cell_type": "code",
   "execution_count": 38,
   "metadata": {},
   "outputs": [
    {
     "data": {
      "image/png": "[encoded data removed]",
      "text/plain": [
       "<Figure size 432x288 with 1 Axes>"
      ]
     },
     "metadata": {},
     "output_type": "display_data"
    }
   ],
   "source": [
    "sns.boxplot(x=\"Position_In_Top100\", y=\"Popularity\", data=df1)\n",
    "plt.title('Relationship between Position_In_Top100 & Popularity')\n",
    "plt.show()"
   ]
  },
  {
   "cell_type": "code",
   "execution_count": 39,
   "metadata": {},
   "outputs": [
    {
     "data": {
      "image/png": "[encoded data removed]",
      "text/plain": [
       "<Figure size 432x288 with 1 Axes>"
      ]
     },
     "metadata": {},
     "output_type": "display_data"
    }
   ],
   "source": [
    "sns.boxplot(x=\"Position_In_Top100\", y=\"Number_of_Times_Charted\", data=df1)\n",
    "plt.title('Relationship between Position_In_Top100 & Number_of_Times_Charted')\n",
    "plt.show()"
   ]
  },
  {
   "cell_type": "markdown",
   "metadata": {},
   "source": [
    "#### Creating a 0/1 response variable value for the logistic regression model where:\n",
    "* True =1 and\n",
    "* False =0."
   ]
  },
  {
   "cell_type": "code",
   "execution_count": 40,
   "metadata": {},
   "outputs": [
    {
     "name": "stderr",
     "output_type": "stream",
     "text": [
      "/var/folders/dp/qrgs6q0j6rb84pqz6ngxxgyr0000gn/T/ipykernel_60560/1892483898.py:1: SettingWithCopyWarning: \n",
      "A value is trying to be set on a copy of a slice from a DataFrame.\n",
      "Try using .loc[row_indexer,col_indexer] = value instead\n",
      "\n",
      "See the caveats in the documentation: https://pandas.pydata.org/pandas-docs/stable/user_guide/indexing.html#returning-a-view-versus-a-copy\n",
      "  df1['y'] = df['Position_In_Top100'].map({True:1,False:0})\n"
     ]
    },
    {
     "data": {
      "text/html": [
       "<div>\n",
       "<style scoped>\n",
       "    .dataframe tbody tr th:only-of-type {\n",
       "        vertical-align: middle;\n",
       "    }\n",
       "\n",
       "    .dataframe tbody tr th {\n",
       "        vertical-align: top;\n",
       "    }\n",
       "\n",
       "    .dataframe thead th {\n",
       "        text-align: right;\n",
       "    }\n",
       "</style>\n",
       "<table border=\"1\" class=\"dataframe\">\n",
       "  <thead>\n",
       "    <tr style=\"text-align: right;\">\n",
       "      <th></th>\n",
       "      <th>Position_In_Top100</th>\n",
       "      <th>Artist_Followers</th>\n",
       "      <th>Streams</th>\n",
       "      <th>Popularity</th>\n",
       "      <th>Number_of_Times_Charted</th>\n",
       "      <th>y</th>\n",
       "    </tr>\n",
       "  </thead>\n",
       "  <tbody>\n",
       "    <tr>\n",
       "      <th>0</th>\n",
       "      <td>True</td>\n",
       "      <td>1398563</td>\n",
       "      <td>8832945</td>\n",
       "      <td>87</td>\n",
       "      <td>24</td>\n",
       "      <td>1</td>\n",
       "    </tr>\n",
       "    <tr>\n",
       "      <th>1</th>\n",
       "      <td>True</td>\n",
       "      <td>5436999</td>\n",
       "      <td>5018592</td>\n",
       "      <td>70</td>\n",
       "      <td>2</td>\n",
       "      <td>1</td>\n",
       "    </tr>\n",
       "    <tr>\n",
       "      <th>2</th>\n",
       "      <td>False</td>\n",
       "      <td>42227614</td>\n",
       "      <td>6657404</td>\n",
       "      <td>52</td>\n",
       "      <td>1</td>\n",
       "      <td>0</td>\n",
       "    </tr>\n",
       "    <tr>\n",
       "      <th>3</th>\n",
       "      <td>True</td>\n",
       "      <td>36142273</td>\n",
       "      <td>5242347</td>\n",
       "      <td>82</td>\n",
       "      <td>29</td>\n",
       "      <td>1</td>\n",
       "    </tr>\n",
       "    <tr>\n",
       "      <th>4</th>\n",
       "      <td>True</td>\n",
       "      <td>11821805</td>\n",
       "      <td>5386512</td>\n",
       "      <td>67</td>\n",
       "      <td>10</td>\n",
       "      <td>1</td>\n",
       "    </tr>\n",
       "  </tbody>\n",
       "</table>\n",
       "</div>"
      ],
      "text/plain": [
       "   Position_In_Top100  Artist_Followers  Streams  Popularity  \\\n",
       "0                True           1398563  8832945          87   \n",
       "1                True           5436999  5018592          70   \n",
       "2               False          42227614  6657404          52   \n",
       "3                True          36142273  5242347          82   \n",
       "4                True          11821805  5386512          67   \n",
       "\n",
       "   Number_of_Times_Charted  y  \n",
       "0                       24  1  \n",
       "1                        2  1  \n",
       "2                        1  0  \n",
       "3                       29  1  \n",
       "4                       10  1  "
      ]
     },
     "execution_count": 40,
     "metadata": {},
     "output_type": "execute_result"
    }
   ],
   "source": [
    "df1['y'] = df['Position_In_Top100'].map({True:1,False:0})\n",
    "df1.head()"
   ]
  },
  {
   "cell_type": "markdown",
   "metadata": {},
   "source": [
    "### 5.1 Creating the Training and Test Dataset\n",
    "\n",
    "Next, we split the data into the:\n",
    "* **training dataset**: where we randomly select 80% of observations from df1 dataset and the\n",
    "* **test data set**: comprised of the remaining 20% of observations from df1 dataset.\n",
    "\n",
    "#### It's usually best to have your training dataset have much more observations than your test dataset!\n",
    "\n",
    "We use the **train_test_split()** function from the **sklearn.model_selection** package to do this. The parameters for this function are:\n",
    "* the dataframe we wish to randomly split into a training dataset and a test dataset\n",
    "* the **test_size**= the percent of the dataset we would like to be allocated to the test dataset\n",
    "* we an also supply a **random_state** number."
   ]
  },
  {
   "cell_type": "code",
   "execution_count": 41,
   "metadata": {},
   "outputs": [],
   "source": [
    "from sklearn.model_selection import train_test_split\n",
    "\n",
    "df1_train, df1_test = train_test_split(df1, \n",
    "                                   test_size=0.20, \n",
    "                                   random_state=123)"
   ]
  },
  {
   "cell_type": "code",
   "execution_count": 42,
   "metadata": {},
   "outputs": [
    {
     "data": {
      "text/html": [
       "<div>\n",
       "<style scoped>\n",
       "    .dataframe tbody tr th:only-of-type {\n",
       "        vertical-align: middle;\n",
       "    }\n",
       "\n",
       "    .dataframe tbody tr th {\n",
       "        vertical-align: top;\n",
       "    }\n",
       "\n",
       "    .dataframe thead th {\n",
       "        text-align: right;\n",
       "    }\n",
       "</style>\n",
       "<table border=\"1\" class=\"dataframe\">\n",
       "  <thead>\n",
       "    <tr style=\"text-align: right;\">\n",
       "      <th></th>\n",
       "      <th>Position_In_Top100</th>\n",
       "      <th>Artist_Followers</th>\n",
       "      <th>Streams</th>\n",
       "      <th>Popularity</th>\n",
       "      <th>Number_of_Times_Charted</th>\n",
       "      <th>y</th>\n",
       "    </tr>\n",
       "  </thead>\n",
       "  <tbody>\n",
       "    <tr>\n",
       "      <th>287</th>\n",
       "      <td>True</td>\n",
       "      <td>19102888</td>\n",
       "      <td>6223001</td>\n",
       "      <td>73</td>\n",
       "      <td>2</td>\n",
       "      <td>1</td>\n",
       "    </tr>\n",
       "    <tr>\n",
       "      <th>260</th>\n",
       "      <td>True</td>\n",
       "      <td>15770302</td>\n",
       "      <td>5005018</td>\n",
       "      <td>79</td>\n",
       "      <td>33</td>\n",
       "      <td>1</td>\n",
       "    </tr>\n",
       "    <tr>\n",
       "      <th>0</th>\n",
       "      <td>True</td>\n",
       "      <td>1398563</td>\n",
       "      <td>8832945</td>\n",
       "      <td>87</td>\n",
       "      <td>24</td>\n",
       "      <td>1</td>\n",
       "    </tr>\n",
       "    <tr>\n",
       "      <th>398</th>\n",
       "      <td>True</td>\n",
       "      <td>17097317</td>\n",
       "      <td>9548924</td>\n",
       "      <td>46</td>\n",
       "      <td>3</td>\n",
       "      <td>1</td>\n",
       "    </tr>\n",
       "    <tr>\n",
       "      <th>274</th>\n",
       "      <td>True</td>\n",
       "      <td>9949044</td>\n",
       "      <td>9129562</td>\n",
       "      <td>73</td>\n",
       "      <td>1</td>\n",
       "      <td>1</td>\n",
       "    </tr>\n",
       "    <tr>\n",
       "      <th>...</th>\n",
       "      <td>...</td>\n",
       "      <td>...</td>\n",
       "      <td>...</td>\n",
       "      <td>...</td>\n",
       "      <td>...</td>\n",
       "      <td>...</td>\n",
       "    </tr>\n",
       "    <tr>\n",
       "      <th>98</th>\n",
       "      <td>True</td>\n",
       "      <td>11690201</td>\n",
       "      <td>7615531</td>\n",
       "      <td>77</td>\n",
       "      <td>3</td>\n",
       "      <td>1</td>\n",
       "    </tr>\n",
       "    <tr>\n",
       "      <th>476</th>\n",
       "      <td>False</td>\n",
       "      <td>9778632</td>\n",
       "      <td>5326719</td>\n",
       "      <td>79</td>\n",
       "      <td>14</td>\n",
       "      <td>0</td>\n",
       "    </tr>\n",
       "    <tr>\n",
       "      <th>322</th>\n",
       "      <td>True</td>\n",
       "      <td>67208170</td>\n",
       "      <td>5249342</td>\n",
       "      <td>69</td>\n",
       "      <td>2</td>\n",
       "      <td>1</td>\n",
       "    </tr>\n",
       "    <tr>\n",
       "      <th>382</th>\n",
       "      <td>True</td>\n",
       "      <td>6266514</td>\n",
       "      <td>11287301</td>\n",
       "      <td>90</td>\n",
       "      <td>10</td>\n",
       "      <td>1</td>\n",
       "    </tr>\n",
       "    <tr>\n",
       "      <th>365</th>\n",
       "      <td>True</td>\n",
       "      <td>42227614</td>\n",
       "      <td>7852063</td>\n",
       "      <td>66</td>\n",
       "      <td>1</td>\n",
       "      <td>1</td>\n",
       "    </tr>\n",
       "  </tbody>\n",
       "</table>\n",
       "<p>396 rows × 6 columns</p>\n",
       "</div>"
      ],
      "text/plain": [
       "     Position_In_Top100  Artist_Followers   Streams  Popularity  \\\n",
       "287                True          19102888   6223001          73   \n",
       "260                True          15770302   5005018          79   \n",
       "0                  True           1398563   8832945          87   \n",
       "398                True          17097317   9548924          46   \n",
       "274                True           9949044   9129562          73   \n",
       "..                  ...               ...       ...         ...   \n",
       "98                 True          11690201   7615531          77   \n",
       "476               False           9778632   5326719          79   \n",
       "322                True          67208170   5249342          69   \n",
       "382                True           6266514  11287301          90   \n",
       "365                True          42227614   7852063          66   \n",
       "\n",
       "     Number_of_Times_Charted  y  \n",
       "287                        2  1  \n",
       "260                       33  1  \n",
       "0                         24  1  \n",
       "398                        3  1  \n",
       "274                        1  1  \n",
       "..                       ... ..  \n",
       "98                         3  1  \n",
       "476                       14  0  \n",
       "322                        2  1  \n",
       "382                       10  1  \n",
       "365                        1  1  \n",
       "\n",
       "[396 rows x 6 columns]"
      ]
     },
     "execution_count": 42,
     "metadata": {},
     "output_type": "execute_result"
    }
   ],
   "source": [
    "df1_train"
   ]
  },
  {
   "cell_type": "markdown",
   "metadata": {},
   "source": [
    "We can double check that this training dataset contains about 80% of the observations from df."
   ]
  },
  {
   "cell_type": "code",
   "execution_count": 43,
   "metadata": {},
   "outputs": [
    {
     "data": {
      "text/plain": [
       "0.7983870967741935"
      ]
     },
     "execution_count": 43,
     "metadata": {},
     "output_type": "execute_result"
    }
   ],
   "source": [
    "df1_train.shape[0]/df1.shape[0]"
   ]
  },
  {
   "cell_type": "markdown",
   "metadata": {},
   "source": [
    "#### Let's inspect this new test dataset."
   ]
  },
  {
   "cell_type": "code",
   "execution_count": 44,
   "metadata": {},
   "outputs": [
    {
     "data": {
      "text/html": [
       "<div>\n",
       "<style scoped>\n",
       "    .dataframe tbody tr th:only-of-type {\n",
       "        vertical-align: middle;\n",
       "    }\n",
       "\n",
       "    .dataframe tbody tr th {\n",
       "        vertical-align: top;\n",
       "    }\n",
       "\n",
       "    .dataframe thead th {\n",
       "        text-align: right;\n",
       "    }\n",
       "</style>\n",
       "<table border=\"1\" class=\"dataframe\">\n",
       "  <thead>\n",
       "    <tr style=\"text-align: right;\">\n",
       "      <th></th>\n",
       "      <th>Position_In_Top100</th>\n",
       "      <th>Artist_Followers</th>\n",
       "      <th>Streams</th>\n",
       "      <th>Popularity</th>\n",
       "      <th>Number_of_Times_Charted</th>\n",
       "      <th>y</th>\n",
       "    </tr>\n",
       "  </thead>\n",
       "  <tbody>\n",
       "    <tr>\n",
       "      <th>231</th>\n",
       "      <td>False</td>\n",
       "      <td>32262679</td>\n",
       "      <td>6410263</td>\n",
       "      <td>79</td>\n",
       "      <td>1</td>\n",
       "      <td>0</td>\n",
       "    </tr>\n",
       "    <tr>\n",
       "      <th>72</th>\n",
       "      <td>True</td>\n",
       "      <td>67208170</td>\n",
       "      <td>5798744</td>\n",
       "      <td>70</td>\n",
       "      <td>2</td>\n",
       "      <td>1</td>\n",
       "    </tr>\n",
       "    <tr>\n",
       "      <th>386</th>\n",
       "      <td>False</td>\n",
       "      <td>2815928</td>\n",
       "      <td>5988511</td>\n",
       "      <td>72</td>\n",
       "      <td>1</td>\n",
       "      <td>0</td>\n",
       "    </tr>\n",
       "    <tr>\n",
       "      <th>376</th>\n",
       "      <td>False</td>\n",
       "      <td>8640063</td>\n",
       "      <td>5393789</td>\n",
       "      <td>73</td>\n",
       "      <td>1</td>\n",
       "      <td>0</td>\n",
       "    </tr>\n",
       "    <tr>\n",
       "      <th>114</th>\n",
       "      <td>True</td>\n",
       "      <td>61930</td>\n",
       "      <td>5347781</td>\n",
       "      <td>82</td>\n",
       "      <td>8</td>\n",
       "      <td>1</td>\n",
       "    </tr>\n",
       "    <tr>\n",
       "      <th>...</th>\n",
       "      <td>...</td>\n",
       "      <td>...</td>\n",
       "      <td>...</td>\n",
       "      <td>...</td>\n",
       "      <td>...</td>\n",
       "      <td>...</td>\n",
       "    </tr>\n",
       "    <tr>\n",
       "      <th>397</th>\n",
       "      <td>True</td>\n",
       "      <td>5002317</td>\n",
       "      <td>5209372</td>\n",
       "      <td>76</td>\n",
       "      <td>3</td>\n",
       "      <td>1</td>\n",
       "    </tr>\n",
       "    <tr>\n",
       "      <th>463</th>\n",
       "      <td>True</td>\n",
       "      <td>2203386</td>\n",
       "      <td>4737306</td>\n",
       "      <td>55</td>\n",
       "      <td>6</td>\n",
       "      <td>1</td>\n",
       "    </tr>\n",
       "    <tr>\n",
       "      <th>295</th>\n",
       "      <td>True</td>\n",
       "      <td>423237</td>\n",
       "      <td>5198209</td>\n",
       "      <td>75</td>\n",
       "      <td>11</td>\n",
       "      <td>1</td>\n",
       "    </tr>\n",
       "    <tr>\n",
       "      <th>131</th>\n",
       "      <td>False</td>\n",
       "      <td>2820477</td>\n",
       "      <td>5053713</td>\n",
       "      <td>79</td>\n",
       "      <td>7</td>\n",
       "      <td>0</td>\n",
       "    </tr>\n",
       "    <tr>\n",
       "      <th>346</th>\n",
       "      <td>False</td>\n",
       "      <td>83337783</td>\n",
       "      <td>4974880</td>\n",
       "      <td>83</td>\n",
       "      <td>9</td>\n",
       "      <td>0</td>\n",
       "    </tr>\n",
       "  </tbody>\n",
       "</table>\n",
       "<p>100 rows × 6 columns</p>\n",
       "</div>"
      ],
      "text/plain": [
       "     Position_In_Top100  Artist_Followers  Streams  Popularity  \\\n",
       "231               False          32262679  6410263          79   \n",
       "72                 True          67208170  5798744          70   \n",
       "386               False           2815928  5988511          72   \n",
       "376               False           8640063  5393789          73   \n",
       "114                True             61930  5347781          82   \n",
       "..                  ...               ...      ...         ...   \n",
       "397                True           5002317  5209372          76   \n",
       "463                True           2203386  4737306          55   \n",
       "295                True            423237  5198209          75   \n",
       "131               False           2820477  5053713          79   \n",
       "346               False          83337783  4974880          83   \n",
       "\n",
       "     Number_of_Times_Charted  y  \n",
       "231                        1  0  \n",
       "72                         2  1  \n",
       "386                        1  0  \n",
       "376                        1  0  \n",
       "114                        8  1  \n",
       "..                       ... ..  \n",
       "397                        3  1  \n",
       "463                        6  1  \n",
       "295                       11  1  \n",
       "131                        7  0  \n",
       "346                        9  0  \n",
       "\n",
       "[100 rows x 6 columns]"
      ]
     },
     "execution_count": 44,
     "metadata": {},
     "output_type": "execute_result"
    }
   ],
   "source": [
    "df1_test"
   ]
  },
  {
   "cell_type": "markdown",
   "metadata": {},
   "source": [
    "### 5.2 Let's use a backwards elimination algorithm with <u>BIC</u> to try to find a most parsimonious model that predicts Position_In_Top100."
   ]
  },
  {
   "cell_type": "markdown",
   "metadata": {},
   "source": [
    "Note: the lower a model's BIC score is, the more parsimonious we consider the model to be. Therefore, our goal for using this algorithm should be to find the model that has the lowest BIC score.\n",
    "\n",
    "### <u>Iteration 1 of Backwards Elimination</u>\n",
    "\n",
    "####  First, let's fit the \"current model\" with ALL four possible explanatory variables and find the BIC score of this \"current model\"."
   ]
  },
  {
   "cell_type": "code",
   "execution_count": 45,
   "metadata": {},
   "outputs": [
    {
     "name": "stdout",
     "output_type": "stream",
     "text": [
      "Optimization terminated successfully.\n",
      "         Current function value: 0.430595\n",
      "         Iterations 8\n",
      "ITERATION 1: BIC of the full Model 370.9379748205794\n"
     ]
    }
   ],
   "source": [
    "current_mod=smf.logit('y~Artist_Followers+Streams+Popularity+Number_of_Times_Charted', data=df1_train).fit()\n",
    "print('ITERATION 1: BIC of the full Model',current_mod.bic)"
   ]
  },
  {
   "cell_type": "markdown",
   "metadata": {},
   "source": [
    "#### Next, let's fit four test models and calculate the BIC score for that model, for each test model we delete one of the possible explanatory variables from the \"current model\"."
   ]
  },
  {
   "cell_type": "code",
   "execution_count": 46,
   "metadata": {},
   "outputs": [
    {
     "name": "stdout",
     "output_type": "stream",
     "text": [
      "Optimization terminated successfully.\n",
      "         Current function value: 0.558530\n",
      "         Iterations 7\n",
      "BIC of Test Model that Deletes Speechiness from the Current Model 466.2814802871502\n"
     ]
    }
   ],
   "source": [
    "#Test model that deletes Number_of_Times_Charted\n",
    "test_mod=smf.logit('y~Artist_Followers+Streams+Popularity', data=df1_train).fit()\n",
    "print('BIC of Test Model that Deletes Speechiness from the Current Model',test_mod.bic)"
   ]
  },
  {
   "cell_type": "code",
   "execution_count": 47,
   "metadata": {},
   "outputs": [
    {
     "name": "stdout",
     "output_type": "stream",
     "text": [
      "Optimization terminated successfully.\n",
      "         Current function value: 0.430729\n",
      "         Iterations 8\n",
      "BIC of Test Model that Deletes liveness from the Current Model 365.06316112487025\n"
     ]
    }
   ],
   "source": [
    "#Test model that deletes Popularity\n",
    "test_mod=smf.logit('y~Artist_Followers+Streams+Number_of_Times_Charted', data=df1_train).fit()\n",
    "print('BIC of Test Model that Deletes liveness from the Current Model',test_mod.bic)"
   ]
  },
  {
   "cell_type": "code",
   "execution_count": 48,
   "metadata": {},
   "outputs": [
    {
     "name": "stdout",
     "output_type": "stream",
     "text": [
      "Optimization terminated successfully.\n",
      "         Current function value: 0.538030\n",
      "         Iterations 7\n",
      "BIC of Test Model that Deletes Danceability from the Current Model 450.04568529227254\n"
     ]
    }
   ],
   "source": [
    "#Test model that deletes Streams\n",
    "test_mod=smf.logit('y~Artist_Followers+Popularity+Number_of_Times_Charted', data=df1_train).fit()\n",
    "print('BIC of Test Model that Deletes Danceability from the Current Model',test_mod.bic)"
   ]
  },
  {
   "cell_type": "code",
   "execution_count": 49,
   "metadata": {},
   "outputs": [
    {
     "name": "stdout",
     "output_type": "stream",
     "text": [
      "Optimization terminated successfully.\n",
      "         Current function value: 0.462062\n",
      "         Iterations 8\n",
      "BIC of Test Model that Deletes Energy from the Current Model 389.8791256790407\n"
     ]
    }
   ],
   "source": [
    "#Test model that deletes Artist_Followers\n",
    "test_mod=smf.logit('y~Streams+Popularity+Number_of_Times_Charted', data=df1_train).fit()\n",
    "print('BIC of Test Model that Deletes Energy from the Current Model',test_mod.bic)"
   ]
  },
  {
   "cell_type": "code",
   "execution_count": 50,
   "metadata": {},
   "outputs": [
    {
     "name": "stdout",
     "output_type": "stream",
     "text": [
      "Optimization terminated successfully.\n",
      "         Current function value: 0.430729\n",
      "         Iterations 8\n",
      "ITERATION 1: BIC of the Current Model 365.06316112487025\n"
     ]
    }
   ],
   "source": [
    "current_mod=smf.logit('y~Artist_Followers+Streams+Number_of_Times_Charted', data=df1_train).fit()\n",
    "print('ITERATION 1: BIC of the Current Model',current_mod.bic)"
   ]
  },
  {
   "cell_type": "markdown",
   "metadata": {},
   "source": [
    "#### Because there was at least one \"test model\" that has a BIC score lower than the BIC score of the current model (466), we continue on to step 4 in the algorithm."
   ]
  },
  {
   "cell_type": "markdown",
   "metadata": {},
   "source": [
    "#### The \"test model\" (from step 2) that had the lowest BIC score was the one that deleted the \"Popularity\" explanatory variable from the \"current model\". So we set the new \"current model\" to be the test model that does not include \"Popularity\" and we go back to step (2). We can call this a new iteration of the algorithm."
   ]
  },
  {
   "cell_type": "markdown",
   "metadata": {},
   "source": [
    "###  <u>Iteration 2 of Backwards Elimination</u>"
   ]
  },
  {
   "cell_type": "code",
   "execution_count": 51,
   "metadata": {},
   "outputs": [
    {
     "name": "stdout",
     "output_type": "stream",
     "text": [
      "Optimization terminated successfully.\n",
      "         Current function value: 0.430729\n",
      "         Iterations 8\n",
      "BIC of Test Model that Deletes Energy from the Current Model 365.06316112487025\n"
     ]
    }
   ],
   "source": [
    "test_mod=smf.logit('y~Artist_Followers+Streams+Number_of_Times_Charted', data=df1_train).fit()\n",
    "print('BIC of Test Model that Deletes Energy from the Current Model',test_mod.bic)"
   ]
  },
  {
   "cell_type": "code",
   "execution_count": 52,
   "metadata": {},
   "outputs": [
    {
     "name": "stdout",
     "output_type": "stream",
     "text": [
      "Optimization terminated successfully.\n",
      "         Current function value: 0.563696\n",
      "         Iterations 7\n",
      "BIC of Test Model that Deletes Speechiness from the Current Model 464.391651485794\n"
     ]
    }
   ],
   "source": [
    "test_mod=smf.logit('y~Artist_Followers+Streams', data=df1_train).fit()\n",
    "print('BIC of Test Model that Deletes Speechiness from the Current Model',test_mod.bic)"
   ]
  },
  {
   "cell_type": "code",
   "execution_count": 53,
   "metadata": {},
   "outputs": [
    {
     "name": "stdout",
     "output_type": "stream",
     "text": [
      "Optimization terminated successfully.\n",
      "         Current function value: 0.538580\n",
      "         Iterations 7\n",
      "BIC of Test Model that Deletes Liveness from the Current Model 444.49938486544283\n"
     ]
    }
   ],
   "source": [
    "test_mod=smf.logit('y~Artist_Followers+Number_of_Times_Charted', data=df1_train).fit()\n",
    "print('BIC of Test Model that Deletes Liveness from the Current Model',test_mod.bic)"
   ]
  },
  {
   "cell_type": "code",
   "execution_count": 54,
   "metadata": {},
   "outputs": [
    {
     "name": "stdout",
     "output_type": "stream",
     "text": [
      "Optimization terminated successfully.\n",
      "         Current function value: 0.463208\n",
      "         Iterations 8\n",
      "BIC of Testodel that Deletes Danceability from the Current Model 384.80502331211153\n"
     ]
    }
   ],
   "source": [
    "test_mod=smf.logit('y~Streams+Number_of_Times_Charted', data=df1_train).fit()\n",
    "print('BIC of Testodel that Deletes Danceability from the Current Model',test_mod.bic)"
   ]
  },
  {
   "cell_type": "code",
   "execution_count": 55,
   "metadata": {
    "scrolled": true
   },
   "outputs": [
    {
     "name": "stdout",
     "output_type": "stream",
     "text": [
      "Optimization terminated successfully.\n",
      "         Current function value: 0.430729\n",
      "         Iterations 8\n",
      "ITERATION 2: BIC of the Current Model 365.06316112487025\n"
     ]
    }
   ],
   "source": [
    "red_final_mod=smf.logit('y~Artist_Followers+Streams+Number_of_Times_Charted', data=df1_train).fit()\n",
    "print('ITERATION 2: BIC of the Current Model',current_mod.bic)"
   ]
  },
  {
   "cell_type": "markdown",
   "metadata": {},
   "source": [
    "#### Because there wasn't a single \"test model\" that has a BIC score lower than the BIC score of the current model (466), we stop. "
   ]
  },
  {
   "cell_type": "code",
   "execution_count": 56,
   "metadata": {},
   "outputs": [
    {
     "name": "stdout",
     "output_type": "stream",
     "text": [
      "Optimization terminated successfully.\n",
      "         Current function value: 0.430729\n",
      "         Iterations 8\n",
      "ITERATION 3: BIC of the reduced final Model 365.06316112487025\n"
     ]
    }
   ],
   "source": [
    "red_final_mod=smf.logit('y~Artist_Followers+Streams+Number_of_Times_Charted', data=df1_train).fit()\n",
    "print('ITERATION 3: BIC of the reduced final Model',red_final_mod.bic)"
   ]
  },
  {
   "cell_type": "markdown",
   "metadata": {},
   "source": [
    "### 5.3 Fit (ie. *train*) the model to *training data*.\n",
    "\n",
    "Next we will **train** our logistic regression model with the **training dataset** only."
   ]
  },
  {
   "cell_type": "markdown",
   "metadata": {},
   "source": [
    "But, before we do that we need to extract only the columns 'y' & 'Artist_Followers','Streams','Number_of_Times_Charted' from the training dataset. Since those are the only 4 variables we are left with in our parsimonious model."
   ]
  },
  {
   "cell_type": "code",
   "execution_count": 57,
   "metadata": {},
   "outputs": [
    {
     "data": {
      "text/html": [
       "<div>\n",
       "<style scoped>\n",
       "    .dataframe tbody tr th:only-of-type {\n",
       "        vertical-align: middle;\n",
       "    }\n",
       "\n",
       "    .dataframe tbody tr th {\n",
       "        vertical-align: top;\n",
       "    }\n",
       "\n",
       "    .dataframe thead th {\n",
       "        text-align: right;\n",
       "    }\n",
       "</style>\n",
       "<table border=\"1\" class=\"dataframe\">\n",
       "  <thead>\n",
       "    <tr style=\"text-align: right;\">\n",
       "      <th></th>\n",
       "      <th>y</th>\n",
       "      <th>Artist_Followers</th>\n",
       "      <th>Streams</th>\n",
       "      <th>Number_of_Times_Charted</th>\n",
       "    </tr>\n",
       "  </thead>\n",
       "  <tbody>\n",
       "    <tr>\n",
       "      <th>287</th>\n",
       "      <td>1</td>\n",
       "      <td>19102888</td>\n",
       "      <td>6223001</td>\n",
       "      <td>2</td>\n",
       "    </tr>\n",
       "    <tr>\n",
       "      <th>260</th>\n",
       "      <td>1</td>\n",
       "      <td>15770302</td>\n",
       "      <td>5005018</td>\n",
       "      <td>33</td>\n",
       "    </tr>\n",
       "    <tr>\n",
       "      <th>0</th>\n",
       "      <td>1</td>\n",
       "      <td>1398563</td>\n",
       "      <td>8832945</td>\n",
       "      <td>24</td>\n",
       "    </tr>\n",
       "    <tr>\n",
       "      <th>398</th>\n",
       "      <td>1</td>\n",
       "      <td>17097317</td>\n",
       "      <td>9548924</td>\n",
       "      <td>3</td>\n",
       "    </tr>\n",
       "    <tr>\n",
       "      <th>274</th>\n",
       "      <td>1</td>\n",
       "      <td>9949044</td>\n",
       "      <td>9129562</td>\n",
       "      <td>1</td>\n",
       "    </tr>\n",
       "    <tr>\n",
       "      <th>...</th>\n",
       "      <td>...</td>\n",
       "      <td>...</td>\n",
       "      <td>...</td>\n",
       "      <td>...</td>\n",
       "    </tr>\n",
       "    <tr>\n",
       "      <th>98</th>\n",
       "      <td>1</td>\n",
       "      <td>11690201</td>\n",
       "      <td>7615531</td>\n",
       "      <td>3</td>\n",
       "    </tr>\n",
       "    <tr>\n",
       "      <th>476</th>\n",
       "      <td>0</td>\n",
       "      <td>9778632</td>\n",
       "      <td>5326719</td>\n",
       "      <td>14</td>\n",
       "    </tr>\n",
       "    <tr>\n",
       "      <th>322</th>\n",
       "      <td>1</td>\n",
       "      <td>67208170</td>\n",
       "      <td>5249342</td>\n",
       "      <td>2</td>\n",
       "    </tr>\n",
       "    <tr>\n",
       "      <th>382</th>\n",
       "      <td>1</td>\n",
       "      <td>6266514</td>\n",
       "      <td>11287301</td>\n",
       "      <td>10</td>\n",
       "    </tr>\n",
       "    <tr>\n",
       "      <th>365</th>\n",
       "      <td>1</td>\n",
       "      <td>42227614</td>\n",
       "      <td>7852063</td>\n",
       "      <td>1</td>\n",
       "    </tr>\n",
       "  </tbody>\n",
       "</table>\n",
       "<p>396 rows × 4 columns</p>\n",
       "</div>"
      ],
      "text/plain": [
       "     y  Artist_Followers   Streams  Number_of_Times_Charted\n",
       "287  1          19102888   6223001                        2\n",
       "260  1          15770302   5005018                       33\n",
       "0    1           1398563   8832945                       24\n",
       "398  1          17097317   9548924                        3\n",
       "274  1           9949044   9129562                        1\n",
       "..  ..               ...       ...                      ...\n",
       "98   1          11690201   7615531                        3\n",
       "476  0           9778632   5326719                       14\n",
       "322  1          67208170   5249342                        2\n",
       "382  1           6266514  11287301                       10\n",
       "365  1          42227614   7852063                        1\n",
       "\n",
       "[396 rows x 4 columns]"
      ]
     },
     "execution_count": 57,
     "metadata": {},
     "output_type": "execute_result"
    }
   ],
   "source": [
    "df1_train = df1_train[['y','Artist_Followers','Streams','Number_of_Times_Charted']]\n",
    "df1_train"
   ]
  },
  {
   "cell_type": "code",
   "execution_count": 58,
   "metadata": {},
   "outputs": [
    {
     "name": "stdout",
     "output_type": "stream",
     "text": [
      "Optimization terminated successfully.\n",
      "         Current function value: 0.430729\n",
      "         Iterations 8\n"
     ]
    },
    {
     "data": {
      "text/html": [
       "<table class=\"simpletable\">\n",
       "<caption>Logit Regression Results</caption>\n",
       "<tr>\n",
       "  <th>Dep. Variable:</th>           <td>y</td>        <th>  No. Observations:  </th>  <td>   396</td>  \n",
       "</tr>\n",
       "<tr>\n",
       "  <th>Model:</th>                 <td>Logit</td>      <th>  Df Residuals:      </th>  <td>   392</td>  \n",
       "</tr>\n",
       "<tr>\n",
       "  <th>Method:</th>                 <td>MLE</td>       <th>  Df Model:          </th>  <td>     3</td>  \n",
       "</tr>\n",
       "<tr>\n",
       "  <th>Date:</th>            <td>Wed, 08 Dec 2021</td> <th>  Pseudo R-squ.:     </th>  <td>0.3565</td>  \n",
       "</tr>\n",
       "<tr>\n",
       "  <th>Time:</th>                <td>13:54:52</td>     <th>  Log-Likelihood:    </th> <td> -170.57</td> \n",
       "</tr>\n",
       "<tr>\n",
       "  <th>converged:</th>             <td>True</td>       <th>  LL-Null:           </th> <td> -265.07</td> \n",
       "</tr>\n",
       "<tr>\n",
       "  <th>Covariance Type:</th>     <td>nonrobust</td>    <th>  LLR p-value:       </th> <td>9.994e-41</td>\n",
       "</tr>\n",
       "</table>\n",
       "<table class=\"simpletable\">\n",
       "<tr>\n",
       "             <td></td>                <th>coef</th>     <th>std err</th>      <th>z</th>      <th>P>|z|</th>  <th>[0.025</th>    <th>0.975]</th>  \n",
       "</tr>\n",
       "<tr>\n",
       "  <th>Intercept</th>               <td>   -6.4562</td> <td>    0.853</td> <td>   -7.568</td> <td> 0.000</td> <td>   -8.128</td> <td>   -4.784</td>\n",
       "</tr>\n",
       "<tr>\n",
       "  <th>Artist_Followers</th>        <td> 4.406e-08</td> <td> 9.44e-09</td> <td>    4.667</td> <td> 0.000</td> <td> 2.56e-08</td> <td> 6.26e-08</td>\n",
       "</tr>\n",
       "<tr>\n",
       "  <th>Streams</th>                 <td> 8.996e-07</td> <td> 1.38e-07</td> <td>    6.521</td> <td> 0.000</td> <td> 6.29e-07</td> <td> 1.17e-06</td>\n",
       "</tr>\n",
       "<tr>\n",
       "  <th>Number_of_Times_Charted</th> <td>    0.1533</td> <td>    0.022</td> <td>    6.829</td> <td> 0.000</td> <td>    0.109</td> <td>    0.197</td>\n",
       "</tr>\n",
       "</table>"
      ],
      "text/plain": [
       "<class 'statsmodels.iolib.summary.Summary'>\n",
       "\"\"\"\n",
       "                           Logit Regression Results                           \n",
       "==============================================================================\n",
       "Dep. Variable:                      y   No. Observations:                  396\n",
       "Model:                          Logit   Df Residuals:                      392\n",
       "Method:                           MLE   Df Model:                            3\n",
       "Date:                Wed, 08 Dec 2021   Pseudo R-squ.:                  0.3565\n",
       "Time:                        13:54:52   Log-Likelihood:                -170.57\n",
       "converged:                       True   LL-Null:                       -265.07\n",
       "Covariance Type:            nonrobust   LLR p-value:                 9.994e-41\n",
       "===========================================================================================\n",
       "                              coef    std err          z      P>|z|      [0.025      0.975]\n",
       "-------------------------------------------------------------------------------------------\n",
       "Intercept                  -6.4562      0.853     -7.568      0.000      -8.128      -4.784\n",
       "Artist_Followers         4.406e-08   9.44e-09      4.667      0.000    2.56e-08    6.26e-08\n",
       "Streams                  8.996e-07   1.38e-07      6.521      0.000    6.29e-07    1.17e-06\n",
       "Number_of_Times_Charted     0.1533      0.022      6.829      0.000       0.109       0.197\n",
       "===========================================================================================\n",
       "\"\"\""
      ]
     },
     "execution_count": 58,
     "metadata": {},
     "output_type": "execute_result"
    }
   ],
   "source": [
    "red_final_mod=smf.logit('y~Artist_Followers+Streams+Number_of_Times_Charted', data=df1_train).fit()\n",
    "red_final_mod.summary()"
   ]
  },
  {
   "cell_type": "markdown",
   "metadata": {},
   "source": [
    "### 5.4 Write out the resulting logistic regression model"
   ]
  },
  {
   "cell_type": "markdown",
   "metadata": {},
   "source": [
    "$log(\\frac{\\hat{p}}{1-\\hat{p}} ) = 6.4562-4.406e-08[ArtistFollowers]-8.996e-07[Streams]-0.1533[NumberofTimesCharted]$"
   ]
  },
  {
   "cell_type": "markdown",
   "metadata": {},
   "source": [
    "### 5.5 Conducting Hypothesis Testing on $\\beta_0, \\beta_1, ...,\\beta_p$ (individually) in a logistic regression model."
   ]
  },
  {
   "cell_type": "markdown",
   "metadata": {},
   "source": [
    "#### Test whether there is sufficient evidence to suggest that the population slope for Artist_followers, streams, Number_of_times_charted is non-zero in the logistic regression model (which predicts the probability for a song in spotify being in top 100 songs or not given the values of 3 selected explanoatory variables  of the song.)"
   ]
  },
  {
   "cell_type": "markdown",
   "metadata": {},
   "source": [
    "**Set up for testing:**\n",
    "\n",
    "$H_0: \\beta_i=0$\n",
    "\n",
    "$H_A: \\beta_i\\neq 0$.\n"
   ]
  },
  {
   "cell_type": "markdown",
   "metadata": {},
   "source": [
    "#### Check the conditions for conducting this hypothesis test."
   ]
  },
  {
   "cell_type": "markdown",
   "metadata": {},
   "source": [
    "#### <u>Condition 1</u>: Independence of Observations Condition\n",
    "\n",
    "a. [MET] The sample is random.\n",
    "\n",
    "b. [MET]$n=396<10$% of all songs in spotify.\n",
    "\n",
    "Condition 1 met."
   ]
  },
  {
   "cell_type": "markdown",
   "metadata": {},
   "source": [
    "#### <u>Condition 2</u>: Linearity Condition\n",
    "\n",
    "We have 3 numerical explanatory variable, so we will fit a simple logistic regression curve to the scatterplot of x=Artist_Followers, Streams, Number_of_Times_Charted and y=0/1 response variable.\n",
    "\n",
    "We do see a *slight* S-Shape in the curves below, so we can say that this condition is met.\n",
    "\n"
   ]
  },
  {
   "cell_type": "code",
   "execution_count": 59,
   "metadata": {
    "scrolled": true
   },
   "outputs": [
    {
     "data": {
      "image/png": "[encoded data removed]",
      "text/plain": [
       "<Figure size 360x360 with 1 Axes>"
      ]
     },
     "metadata": {},
     "output_type": "display_data"
    }
   ],
   "source": [
    "sns.lmplot(x=\"Artist_Followers\", y='y',data=df1_train, logistic=True)\n",
    "plt.ylabel('0=False, 1=True')\n",
    "plt.show()"
   ]
  },
  {
   "cell_type": "code",
   "execution_count": 60,
   "metadata": {},
   "outputs": [
    {
     "data": {
      "image/png": "[encoded data removed]",
      "text/plain": [
       "<Figure size 360x360 with 1 Axes>"
      ]
     },
     "metadata": {},
     "output_type": "display_data"
    }
   ],
   "source": [
    "sns.lmplot(x=\"Streams\", y='y',data=df1_train, logistic=True)\n",
    "plt.ylabel('0=False, 1=True')\n",
    "plt.show()"
   ]
  },
  {
   "cell_type": "code",
   "execution_count": 61,
   "metadata": {},
   "outputs": [
    {
     "data": {
      "image/png": "[encoded data removed]",
      "text/plain": [
       "<Figure size 360x360 with 1 Axes>"
      ]
     },
     "metadata": {},
     "output_type": "display_data"
    }
   ],
   "source": [
    "sns.lmplot(x=\"Number_of_Times_Charted\", y='y',data=df1_train, logistic=True)\n",
    "plt.ylabel('0=False, 1=True')\n",
    "plt.show()"
   ]
  },
  {
   "cell_type": "markdown",
   "metadata": {},
   "source": [
    "#### <u>Condition 3</u>: No Multi-Collinearity Condition\n",
    "\n",
    "We have 3 numerical explanatory variable, so we do need to check the linear relatinoships between them condition."
   ]
  },
  {
   "cell_type": "code",
   "execution_count": 62,
   "metadata": {},
   "outputs": [
    {
     "data": {
      "text/html": [
       "<div>\n",
       "<style scoped>\n",
       "    .dataframe tbody tr th:only-of-type {\n",
       "        vertical-align: middle;\n",
       "    }\n",
       "\n",
       "    .dataframe tbody tr th {\n",
       "        vertical-align: top;\n",
       "    }\n",
       "\n",
       "    .dataframe thead th {\n",
       "        text-align: right;\n",
       "    }\n",
       "</style>\n",
       "<table border=\"1\" class=\"dataframe\">\n",
       "  <thead>\n",
       "    <tr style=\"text-align: right;\">\n",
       "      <th></th>\n",
       "      <th>y</th>\n",
       "      <th>Artist_Followers</th>\n",
       "      <th>Streams</th>\n",
       "      <th>Number_of_Times_Charted</th>\n",
       "    </tr>\n",
       "  </thead>\n",
       "  <tbody>\n",
       "    <tr>\n",
       "      <th>y</th>\n",
       "      <td>1.000000</td>\n",
       "      <td>0.248684</td>\n",
       "      <td>0.281162</td>\n",
       "      <td>0.335169</td>\n",
       "    </tr>\n",
       "    <tr>\n",
       "      <th>Artist_Followers</th>\n",
       "      <td>0.248684</td>\n",
       "      <td>1.000000</td>\n",
       "      <td>0.088802</td>\n",
       "      <td>0.047604</td>\n",
       "    </tr>\n",
       "    <tr>\n",
       "      <th>Streams</th>\n",
       "      <td>0.281162</td>\n",
       "      <td>0.088802</td>\n",
       "      <td>1.000000</td>\n",
       "      <td>-0.035957</td>\n",
       "    </tr>\n",
       "    <tr>\n",
       "      <th>Number_of_Times_Charted</th>\n",
       "      <td>0.335169</td>\n",
       "      <td>0.047604</td>\n",
       "      <td>-0.035957</td>\n",
       "      <td>1.000000</td>\n",
       "    </tr>\n",
       "  </tbody>\n",
       "</table>\n",
       "</div>"
      ],
      "text/plain": [
       "                                y  Artist_Followers   Streams  \\\n",
       "y                        1.000000          0.248684  0.281162   \n",
       "Artist_Followers         0.248684          1.000000  0.088802   \n",
       "Streams                  0.281162          0.088802  1.000000   \n",
       "Number_of_Times_Charted  0.335169          0.047604 -0.035957   \n",
       "\n",
       "                         Number_of_Times_Charted  \n",
       "y                                       0.335169  \n",
       "Artist_Followers                        0.047604  \n",
       "Streams                                -0.035957  \n",
       "Number_of_Times_Charted                 1.000000  "
      ]
     },
     "execution_count": 62,
     "metadata": {},
     "output_type": "execute_result"
    }
   ],
   "source": [
    " df1_train.corr()"
   ]
  },
  {
   "cell_type": "markdown",
   "metadata": {},
   "source": [
    "**Oberservation: Since the value of r is not less than -.5 or greater than .5 for all possible pairs of explanatory variables, we can conclude there isn't any multicollinearity, which means our condition is met.**"
   ]
  },
  {
   "cell_type": "markdown",
   "metadata": {},
   "source": [
    "#### Therefore, ALL of these conditions are met for all three variables"
   ]
  },
  {
   "cell_type": "markdown",
   "metadata": {},
   "source": [
    "**Explanatory variable: Artist_Followers**"
   ]
  },
  {
   "cell_type": "code",
   "execution_count": 63,
   "metadata": {},
   "outputs": [
    {
     "name": "stdout",
     "output_type": "stream",
     "text": [
      "Optimization terminated successfully.\n",
      "         Current function value: 0.635318\n",
      "         Iterations 5\n"
     ]
    },
    {
     "data": {
      "text/html": [
       "<table class=\"simpletable\">\n",
       "<caption>Logit Regression Results</caption>\n",
       "<tr>\n",
       "  <th>Dep. Variable:</th>           <td>y</td>        <th>  No. Observations:  </th>  <td>   396</td>  \n",
       "</tr>\n",
       "<tr>\n",
       "  <th>Model:</th>                 <td>Logit</td>      <th>  Df Residuals:      </th>  <td>   394</td>  \n",
       "</tr>\n",
       "<tr>\n",
       "  <th>Method:</th>                 <td>MLE</td>       <th>  Df Model:          </th>  <td>     1</td>  \n",
       "</tr>\n",
       "<tr>\n",
       "  <th>Date:</th>            <td>Wed, 08 Dec 2021</td> <th>  Pseudo R-squ.:     </th>  <td>0.05088</td> \n",
       "</tr>\n",
       "<tr>\n",
       "  <th>Time:</th>                <td>13:55:05</td>     <th>  Log-Likelihood:    </th> <td> -251.59</td> \n",
       "</tr>\n",
       "<tr>\n",
       "  <th>converged:</th>             <td>True</td>       <th>  LL-Null:           </th> <td> -265.07</td> \n",
       "</tr>\n",
       "<tr>\n",
       "  <th>Covariance Type:</th>     <td>nonrobust</td>    <th>  LLR p-value:       </th> <td>2.061e-07</td>\n",
       "</tr>\n",
       "</table>\n",
       "<table class=\"simpletable\">\n",
       "<tr>\n",
       "          <td></td>            <th>coef</th>     <th>std err</th>      <th>z</th>      <th>P>|z|</th>  <th>[0.025</th>    <th>0.975]</th>  \n",
       "</tr>\n",
       "<tr>\n",
       "  <th>Intercept</th>        <td>   -0.0448</td> <td>    0.139</td> <td>   -0.321</td> <td> 0.748</td> <td>   -0.318</td> <td>    0.228</td>\n",
       "</tr>\n",
       "<tr>\n",
       "  <th>Artist_Followers</th> <td>  3.58e-08</td> <td> 7.54e-09</td> <td>    4.748</td> <td> 0.000</td> <td>  2.1e-08</td> <td> 5.06e-08</td>\n",
       "</tr>\n",
       "</table>"
      ],
      "text/plain": [
       "<class 'statsmodels.iolib.summary.Summary'>\n",
       "\"\"\"\n",
       "                           Logit Regression Results                           \n",
       "==============================================================================\n",
       "Dep. Variable:                      y   No. Observations:                  396\n",
       "Model:                          Logit   Df Residuals:                      394\n",
       "Method:                           MLE   Df Model:                            1\n",
       "Date:                Wed, 08 Dec 2021   Pseudo R-squ.:                 0.05088\n",
       "Time:                        13:55:05   Log-Likelihood:                -251.59\n",
       "converged:                       True   LL-Null:                       -265.07\n",
       "Covariance Type:            nonrobust   LLR p-value:                 2.061e-07\n",
       "====================================================================================\n",
       "                       coef    std err          z      P>|z|      [0.025      0.975]\n",
       "------------------------------------------------------------------------------------\n",
       "Intercept           -0.0448      0.139     -0.321      0.748      -0.318       0.228\n",
       "Artist_Followers   3.58e-08   7.54e-09      4.748      0.000     2.1e-08    5.06e-08\n",
       "====================================================================================\n",
       "\"\"\""
      ]
     },
     "execution_count": 63,
     "metadata": {},
     "output_type": "execute_result"
    }
   ],
   "source": [
    "red_final_mod=smf.logit('y~Artist_Followers', data=df1_train).fit()\n",
    "red_final_mod.summary()"
   ]
  },
  {
   "cell_type": "markdown",
   "metadata": {},
   "source": [
    "#### Test Statistic for this hyothesis test using the summary output table for the sample logistic regression model."
   ]
  },
  {
   "cell_type": "code",
   "execution_count": 64,
   "metadata": {},
   "outputs": [
    {
     "name": "stdout",
     "output_type": "stream",
     "text": [
      "Test Statistic: -4.748\n"
     ]
    }
   ],
   "source": [
    "test_statistic=-4.748\n",
    "print('Test Statistic:', test_statistic)"
   ]
  },
  {
   "cell_type": "code",
   "execution_count": 65,
   "metadata": {},
   "outputs": [],
   "source": [
    "point_estimate=-3.58e-08\n",
    "standard_error=7.54e-09"
   ]
  },
  {
   "cell_type": "code",
   "execution_count": 66,
   "metadata": {},
   "outputs": [
    {
     "name": "stdout",
     "output_type": "stream",
     "text": [
      "Test Statistic: -4.748010610079576\n"
     ]
    }
   ],
   "source": [
    "test_statistic=(point_estimate-0)/standard_error\n",
    "print('Test Statistic:', test_statistic)"
   ]
  },
  {
   "cell_type": "markdown",
   "metadata": {},
   "source": [
    "#### Find the p-value for this hypothesis test in the summary output table for the sample logistic regression model."
   ]
  },
  {
   "cell_type": "code",
   "execution_count": 67,
   "metadata": {},
   "outputs": [
    {
     "name": "stdout",
     "output_type": "stream",
     "text": [
      "p-value: 2.054272622009634e-06\n"
     ]
    }
   ],
   "source": [
    "pvalue=2*(1-norm.cdf(np.abs(test_statistic)))\n",
    "print('p-value:', pvalue)"
   ]
  },
  {
   "cell_type": "markdown",
   "metadata": {},
   "source": [
    "####  A conclusion about your hypothesis using this p-value, using a significance level of $\\alpha=0.10$."
   ]
  },
  {
   "cell_type": "markdown",
   "metadata": {},
   "source": [
    "Because the $p-value=2.054272622009634e-067<\\alpha=0.10$, we reject the null hypothesis. Thus we can say the following:\n",
    "* there is sufficient evidence to suggest that the population slope for Artist_Followers in this model is non-zero (ie. $\\beta_0\\neq 0$)."
   ]
  },
  {
   "cell_type": "markdown",
   "metadata": {},
   "source": [
    "**Explanatory Variable: Streams**"
   ]
  },
  {
   "cell_type": "code",
   "execution_count": 68,
   "metadata": {},
   "outputs": [
    {
     "name": "stdout",
     "output_type": "stream",
     "text": [
      "Optimization terminated successfully.\n",
      "         Current function value: 0.592187\n",
      "         Iterations 7\n"
     ]
    },
    {
     "data": {
      "text/html": [
       "<table class=\"simpletable\">\n",
       "<caption>Logit Regression Results</caption>\n",
       "<tr>\n",
       "  <th>Dep. Variable:</th>           <td>y</td>        <th>  No. Observations:  </th>  <td>   396</td>  \n",
       "</tr>\n",
       "<tr>\n",
       "  <th>Model:</th>                 <td>Logit</td>      <th>  Df Residuals:      </th>  <td>   394</td>  \n",
       "</tr>\n",
       "<tr>\n",
       "  <th>Method:</th>                 <td>MLE</td>       <th>  Df Model:          </th>  <td>     1</td>  \n",
       "</tr>\n",
       "<tr>\n",
       "  <th>Date:</th>            <td>Wed, 08 Dec 2021</td> <th>  Pseudo R-squ.:     </th>  <td>0.1153</td>  \n",
       "</tr>\n",
       "<tr>\n",
       "  <th>Time:</th>                <td>13:55:11</td>     <th>  Log-Likelihood:    </th> <td> -234.51</td> \n",
       "</tr>\n",
       "<tr>\n",
       "  <th>converged:</th>             <td>True</td>       <th>  LL-Null:           </th> <td> -265.07</td> \n",
       "</tr>\n",
       "<tr>\n",
       "  <th>Covariance Type:</th>     <td>nonrobust</td>    <th>  LLR p-value:       </th> <td>5.333e-15</td>\n",
       "</tr>\n",
       "</table>\n",
       "<table class=\"simpletable\">\n",
       "<tr>\n",
       "      <td></td>         <th>coef</th>     <th>std err</th>      <th>z</th>      <th>P>|z|</th>  <th>[0.025</th>    <th>0.975]</th>  \n",
       "</tr>\n",
       "<tr>\n",
       "  <th>Intercept</th> <td>   -3.0022</td> <td>    0.584</td> <td>   -5.141</td> <td> 0.000</td> <td>   -4.147</td> <td>   -1.858</td>\n",
       "</tr>\n",
       "<tr>\n",
       "  <th>Streams</th>   <td> 5.884e-07</td> <td> 1.04e-07</td> <td>    5.685</td> <td> 0.000</td> <td> 3.86e-07</td> <td> 7.91e-07</td>\n",
       "</tr>\n",
       "</table>"
      ],
      "text/plain": [
       "<class 'statsmodels.iolib.summary.Summary'>\n",
       "\"\"\"\n",
       "                           Logit Regression Results                           \n",
       "==============================================================================\n",
       "Dep. Variable:                      y   No. Observations:                  396\n",
       "Model:                          Logit   Df Residuals:                      394\n",
       "Method:                           MLE   Df Model:                            1\n",
       "Date:                Wed, 08 Dec 2021   Pseudo R-squ.:                  0.1153\n",
       "Time:                        13:55:11   Log-Likelihood:                -234.51\n",
       "converged:                       True   LL-Null:                       -265.07\n",
       "Covariance Type:            nonrobust   LLR p-value:                 5.333e-15\n",
       "==============================================================================\n",
       "                 coef    std err          z      P>|z|      [0.025      0.975]\n",
       "------------------------------------------------------------------------------\n",
       "Intercept     -3.0022      0.584     -5.141      0.000      -4.147      -1.858\n",
       "Streams     5.884e-07   1.04e-07      5.685      0.000    3.86e-07    7.91e-07\n",
       "==============================================================================\n",
       "\"\"\""
      ]
     },
     "execution_count": 68,
     "metadata": {},
     "output_type": "execute_result"
    }
   ],
   "source": [
    "red_final_mod=smf.logit('y~Streams', data=df1_train).fit()\n",
    "red_final_mod.summary()"
   ]
  },
  {
   "cell_type": "markdown",
   "metadata": {},
   "source": [
    "#### Test Statistic for this hyothesis test using the summary output table for the sample logistic regression model."
   ]
  },
  {
   "cell_type": "code",
   "execution_count": 69,
   "metadata": {},
   "outputs": [
    {
     "name": "stdout",
     "output_type": "stream",
     "text": [
      "Test Statistic: -5.685\n"
     ]
    }
   ],
   "source": [
    "test_statistic=-5.685\n",
    "print('Test Statistic:', test_statistic)"
   ]
  },
  {
   "cell_type": "code",
   "execution_count": 70,
   "metadata": {},
   "outputs": [],
   "source": [
    "point_estimate=-5.884e-07\n",
    "standard_error=1.04e-07"
   ]
  },
  {
   "cell_type": "code",
   "execution_count": 71,
   "metadata": {},
   "outputs": [
    {
     "name": "stdout",
     "output_type": "stream",
     "text": [
      "Test Statistic: -5.657692307692307\n"
     ]
    }
   ],
   "source": [
    "test_statistic=(point_estimate-0)/standard_error\n",
    "print('Test Statistic:', test_statistic)"
   ]
  },
  {
   "cell_type": "markdown",
   "metadata": {},
   "source": [
    "#### Find the p-value for this hypothesis test in the summary output table for the sample logistic regression model."
   ]
  },
  {
   "cell_type": "code",
   "execution_count": 72,
   "metadata": {},
   "outputs": [
    {
     "name": "stdout",
     "output_type": "stream",
     "text": [
      "p-value: 1.5342186632238963e-08\n"
     ]
    }
   ],
   "source": [
    "pvalue=2*(1-norm.cdf(np.abs(test_statistic)))\n",
    "print('p-value:', pvalue)"
   ]
  },
  {
   "cell_type": "markdown",
   "metadata": {},
   "source": [
    "#### A conclusion about your hypothesis using this p-value, using a significance level of $\\alpha=0.10$."
   ]
  },
  {
   "cell_type": "markdown",
   "metadata": {},
   "source": [
    "Because the $p-value=1.5342186632238963e-08<\\alpha=0.10$, we reject the null hypothesis. Thus we can say the following:\n",
    "* there is sufficient evidence to suggest that the population slope for Streams in this model is non-zero (ie. $\\beta_0\\neq 0$)."
   ]
  },
  {
   "cell_type": "markdown",
   "metadata": {},
   "source": [
    "**Explanatory Variable: Number_of_Times_Charted**"
   ]
  },
  {
   "cell_type": "code",
   "execution_count": 73,
   "metadata": {},
   "outputs": [
    {
     "name": "stdout",
     "output_type": "stream",
     "text": [
      "Optimization terminated successfully.\n",
      "         Current function value: 0.581264\n",
      "         Iterations 7\n"
     ]
    },
    {
     "data": {
      "text/html": [
       "<table class=\"simpletable\">\n",
       "<caption>Logit Regression Results</caption>\n",
       "<tr>\n",
       "  <th>Dep. Variable:</th>           <td>y</td>        <th>  No. Observations:  </th>  <td>   396</td>  \n",
       "</tr>\n",
       "<tr>\n",
       "  <th>Model:</th>                 <td>Logit</td>      <th>  Df Residuals:      </th>  <td>   394</td>  \n",
       "</tr>\n",
       "<tr>\n",
       "  <th>Method:</th>                 <td>MLE</td>       <th>  Df Model:          </th>  <td>     1</td>  \n",
       "</tr>\n",
       "<tr>\n",
       "  <th>Date:</th>            <td>Wed, 08 Dec 2021</td> <th>  Pseudo R-squ.:     </th>  <td>0.1316</td>  \n",
       "</tr>\n",
       "<tr>\n",
       "  <th>Time:</th>                <td>13:55:13</td>     <th>  Log-Likelihood:    </th> <td> -230.18</td> \n",
       "</tr>\n",
       "<tr>\n",
       "  <th>converged:</th>             <td>True</td>       <th>  LL-Null:           </th> <td> -265.07</td> \n",
       "</tr>\n",
       "<tr>\n",
       "  <th>Covariance Type:</th>     <td>nonrobust</td>    <th>  LLR p-value:       </th> <td>6.614e-17</td>\n",
       "</tr>\n",
       "</table>\n",
       "<table class=\"simpletable\">\n",
       "<tr>\n",
       "             <td></td>                <th>coef</th>     <th>std err</th>      <th>z</th>      <th>P>|z|</th>  <th>[0.025</th>    <th>0.975]</th>  \n",
       "</tr>\n",
       "<tr>\n",
       "  <th>Intercept</th>               <td>   -0.2664</td> <td>    0.139</td> <td>   -1.916</td> <td> 0.055</td> <td>   -0.539</td> <td>    0.006</td>\n",
       "</tr>\n",
       "<tr>\n",
       "  <th>Number_of_Times_Charted</th> <td>    0.0964</td> <td>    0.017</td> <td>    5.750</td> <td> 0.000</td> <td>    0.064</td> <td>    0.129</td>\n",
       "</tr>\n",
       "</table>"
      ],
      "text/plain": [
       "<class 'statsmodels.iolib.summary.Summary'>\n",
       "\"\"\"\n",
       "                           Logit Regression Results                           \n",
       "==============================================================================\n",
       "Dep. Variable:                      y   No. Observations:                  396\n",
       "Model:                          Logit   Df Residuals:                      394\n",
       "Method:                           MLE   Df Model:                            1\n",
       "Date:                Wed, 08 Dec 2021   Pseudo R-squ.:                  0.1316\n",
       "Time:                        13:55:13   Log-Likelihood:                -230.18\n",
       "converged:                       True   LL-Null:                       -265.07\n",
       "Covariance Type:            nonrobust   LLR p-value:                 6.614e-17\n",
       "===========================================================================================\n",
       "                              coef    std err          z      P>|z|      [0.025      0.975]\n",
       "-------------------------------------------------------------------------------------------\n",
       "Intercept                  -0.2664      0.139     -1.916      0.055      -0.539       0.006\n",
       "Number_of_Times_Charted     0.0964      0.017      5.750      0.000       0.064       0.129\n",
       "===========================================================================================\n",
       "\"\"\""
      ]
     },
     "execution_count": 73,
     "metadata": {},
     "output_type": "execute_result"
    }
   ],
   "source": [
    "red_final_mod=smf.logit('y~Number_of_Times_Charted', data=df1_train).fit()\n",
    "red_final_mod.summary()"
   ]
  },
  {
   "cell_type": "markdown",
   "metadata": {},
   "source": [
    "#### Test Statistic for this hyothesis test using the summary output table for the sample logistic regression model."
   ]
  },
  {
   "cell_type": "code",
   "execution_count": 74,
   "metadata": {},
   "outputs": [
    {
     "name": "stdout",
     "output_type": "stream",
     "text": [
      "Test Statistic: -5.75\n"
     ]
    }
   ],
   "source": [
    "test_statistic=-5.750\n",
    "print('Test Statistic:', test_statistic)"
   ]
  },
  {
   "cell_type": "code",
   "execution_count": 75,
   "metadata": {},
   "outputs": [],
   "source": [
    "point_estimate=-0.0964\n",
    "standard_error=0.017"
   ]
  },
  {
   "cell_type": "code",
   "execution_count": 76,
   "metadata": {},
   "outputs": [
    {
     "name": "stdout",
     "output_type": "stream",
     "text": [
      "Test Statistic: -5.670588235294117\n"
     ]
    }
   ],
   "source": [
    "test_statistic=(point_estimate-0)/standard_error\n",
    "print('Test Statistic:', test_statistic)"
   ]
  },
  {
   "cell_type": "markdown",
   "metadata": {},
   "source": [
    "#### Find the p-value for this hypothesis test in the summary output table for the sample logistic regression model."
   ]
  },
  {
   "cell_type": "code",
   "execution_count": 77,
   "metadata": {},
   "outputs": [
    {
     "name": "stdout",
     "output_type": "stream",
     "text": [
      "p-value: 1.4230805422954518e-08\n"
     ]
    }
   ],
   "source": [
    "pvalue=2*(1-norm.cdf(np.abs(test_statistic)))\n",
    "print('p-value:', pvalue)"
   ]
  },
  {
   "cell_type": "markdown",
   "metadata": {},
   "source": [
    "#### A conclusion about your hypothesis using this p-value, using a significance level of $\\alpha=0.10$."
   ]
  },
  {
   "cell_type": "markdown",
   "metadata": {},
   "source": [
    "Because the $p-value=1.4230805422954518e-08<\\alpha=0.10$, we reject the null hypothesis. Thus we can say the following:\n",
    "* there is sufficient evidence to suggest that the population slope for Number_of_Times_Charted in this model is non-zero (ie. $\\beta_0\\neq 0$).\n",
    "\n",
    "So, there is sufficient evidence to suggest that population slopes for all 3 explanatory variables in this model is non-zero."
   ]
  },
  {
   "cell_type": "markdown",
   "metadata": {},
   "source": [
    "### 5.6 Calculate the ROC and AUC of test dataset"
   ]
  },
  {
   "cell_type": "code",
   "execution_count": 78,
   "metadata": {},
   "outputs": [
    {
     "name": "stdout",
     "output_type": "stream",
     "text": [
      "Optimization terminated successfully.\n",
      "         Current function value: 0.480918\n",
      "         Iterations 8\n"
     ]
    },
    {
     "data": {
      "text/html": [
       "<table class=\"simpletable\">\n",
       "<caption>Logit Regression Results</caption>\n",
       "<tr>\n",
       "  <th>Dep. Variable:</th>           <td>y</td>        <th>  No. Observations:  </th>  <td>   100</td>  \n",
       "</tr>\n",
       "<tr>\n",
       "  <th>Model:</th>                 <td>Logit</td>      <th>  Df Residuals:      </th>  <td>    96</td>  \n",
       "</tr>\n",
       "<tr>\n",
       "  <th>Method:</th>                 <td>MLE</td>       <th>  Df Model:          </th>  <td>     3</td>  \n",
       "</tr>\n",
       "<tr>\n",
       "  <th>Date:</th>            <td>Wed, 08 Dec 2021</td> <th>  Pseudo R-squ.:     </th>  <td>0.3062</td>  \n",
       "</tr>\n",
       "<tr>\n",
       "  <th>Time:</th>                <td>13:55:15</td>     <th>  Log-Likelihood:    </th> <td> -48.092</td> \n",
       "</tr>\n",
       "<tr>\n",
       "  <th>converged:</th>             <td>True</td>       <th>  LL-Null:           </th> <td> -69.315</td> \n",
       "</tr>\n",
       "<tr>\n",
       "  <th>Covariance Type:</th>     <td>nonrobust</td>    <th>  LLR p-value:       </th> <td>3.227e-09</td>\n",
       "</tr>\n",
       "</table>\n",
       "<table class=\"simpletable\">\n",
       "<tr>\n",
       "             <td></td>                <th>coef</th>     <th>std err</th>      <th>z</th>      <th>P>|z|</th>  <th>[0.025</th>    <th>0.975]</th>  \n",
       "</tr>\n",
       "<tr>\n",
       "  <th>Intercept</th>               <td>   -5.3612</td> <td>    1.468</td> <td>   -3.653</td> <td> 0.000</td> <td>   -8.238</td> <td>   -2.485</td>\n",
       "</tr>\n",
       "<tr>\n",
       "  <th>Artist_Followers</th>        <td> 2.255e-08</td> <td>  1.4e-08</td> <td>    1.606</td> <td> 0.108</td> <td>-4.97e-09</td> <td> 5.01e-08</td>\n",
       "</tr>\n",
       "<tr>\n",
       "  <th>Streams</th>                 <td> 6.691e-07</td> <td> 2.37e-07</td> <td>    2.820</td> <td> 0.005</td> <td> 2.04e-07</td> <td> 1.13e-06</td>\n",
       "</tr>\n",
       "<tr>\n",
       "  <th>Number_of_Times_Charted</th> <td>    0.2049</td> <td>    0.059</td> <td>    3.487</td> <td> 0.000</td> <td>    0.090</td> <td>    0.320</td>\n",
       "</tr>\n",
       "</table>"
      ],
      "text/plain": [
       "<class 'statsmodels.iolib.summary.Summary'>\n",
       "\"\"\"\n",
       "                           Logit Regression Results                           \n",
       "==============================================================================\n",
       "Dep. Variable:                      y   No. Observations:                  100\n",
       "Model:                          Logit   Df Residuals:                       96\n",
       "Method:                           MLE   Df Model:                            3\n",
       "Date:                Wed, 08 Dec 2021   Pseudo R-squ.:                  0.3062\n",
       "Time:                        13:55:15   Log-Likelihood:                -48.092\n",
       "converged:                       True   LL-Null:                       -69.315\n",
       "Covariance Type:            nonrobust   LLR p-value:                 3.227e-09\n",
       "===========================================================================================\n",
       "                              coef    std err          z      P>|z|      [0.025      0.975]\n",
       "-------------------------------------------------------------------------------------------\n",
       "Intercept                  -5.3612      1.468     -3.653      0.000      -8.238      -2.485\n",
       "Artist_Followers         2.255e-08    1.4e-08      1.606      0.108   -4.97e-09    5.01e-08\n",
       "Streams                  6.691e-07   2.37e-07      2.820      0.005    2.04e-07    1.13e-06\n",
       "Number_of_Times_Charted     0.2049      0.059      3.487      0.000       0.090       0.320\n",
       "===========================================================================================\n",
       "\"\"\""
      ]
     },
     "execution_count": 78,
     "metadata": {},
     "output_type": "execute_result"
    }
   ],
   "source": [
    "red_final_mod=smf.logit('y~Artist_Followers+Streams+Number_of_Times_Charted', data=df1_test).fit()\n",
    "red_final_mod.summary()"
   ]
  },
  {
   "cell_type": "code",
   "execution_count": 79,
   "metadata": {},
   "outputs": [
    {
     "name": "stdout",
     "output_type": "stream",
     "text": [
      "0.8819999999999999\n"
     ]
    }
   ],
   "source": [
    "fprs, tprs, thresholds = roc_curve(y_true=df1_test['y'], \n",
    "                            y_score=red_final_mod.fittedvalues)\n",
    "auc = roc_auc_score(y_true=df1_test['y'], \n",
    "                    y_score=red_final_mod.fittedvalues)\n",
    "print(auc)"
   ]
  },
  {
   "cell_type": "code",
   "execution_count": 80,
   "metadata": {},
   "outputs": [],
   "source": [
    "def plot_roc(fpr, tpr, auc, lw=2):\n",
    "    plt.plot(fpr, tpr, color='darkorange', lw=lw,\n",
    "             label='ROC curve (area = '+str(round(auc,3))+')')\n",
    "    plt.plot([0, 1], [0, 1], color='navy', lw=lw, linestyle='--')\n",
    "    plt.xlabel('False Positive Rate')\n",
    "    plt.ylabel('True Positive Rate')\n",
    "    plt.title('ROC Curve')\n",
    "    plt.legend(loc=\"lower right\")\n",
    "    plt.show()"
   ]
  },
  {
   "cell_type": "code",
   "execution_count": 81,
   "metadata": {},
   "outputs": [
    {
     "data": {
      "image/png": "[encoded data removed]",
      "text/plain": [
       "<Figure size 432x288 with 1 Axes>"
      ]
     },
     "metadata": {},
     "output_type": "display_data"
    }
   ],
   "source": [
    "plot_roc(fprs, tprs, auc)"
   ]
  },
  {
   "cell_type": "markdown",
   "metadata": {},
   "source": [
    "#### Interpretation:\n",
    "\n",
    "<u>Evaluation</u>: The AUC for the **test dataset** is 0.882.\n",
    "\n",
    "<u>What can we use it form</u>: This gives us a sense of how good our logistic regression model (which has been trained with the **training dataset**) would be at predicting the probability that a song is above or below 100 top songs given the number of artist followers, total streams & number_of_times_charted *new data* (in which we don't know the actual answer of whether it is below or above 100. \n",
    "\n",
    "<u>Interpreting AUC</u>: Because the AUC is somewhat high (ie. closer to 1 than it is to 0.5), this tells us that there does exist some predictive probability threshold that gets somewhat close to giving us the ideal scenario of a model with a false positive rate of 0 and a true positive rate of 1 with new data.\n",
    "\n",
    "### Finding a \"good\" (FPR, TPR) combination.\n",
    "\n",
    "Ideally, we would like to pick a predictive probability threshold that gives us a false positive rate of 0 and true positive rate of 1. However, this ROC curve shows that there does not exist a predictive probability threshold that will give us this ideal combination. So what predictive probability threshold should we choose?\n",
    "\n",
    "Well, it depends on much a high **true positive rate** is worth to you vs. a low **false positive rate** is to you. \n",
    "\n",
    "#### <u>Option 1</u>: About (FPR = 0.5, TPR = 1)\n",
    "\n",
    "Notice how that at a FPR of 0.5, the TPR starts to level off in the ROC curve above. By increasing the FPR any more past 0.5, we do not gain much more in the way of a better (higher) TPR. So we could choose the predictive probability threshold that gives us this combination of (FPR = 0.5, TPR = 1).\n",
    "\n",
    "#### <u>Option 2</u>:  About (FPR = 0.1, TPR = 0.7) \n",
    "\n",
    "Notice how that at a TPR of 0.7, the FPR starts to level off in the ROC curve above. By decreasing the TPR any more past 0.6, we do not gain much more in the way of a better (lower) FPR. So we could choose the predictive probability threshold that gives us this combination of (FPR = 0.1, TPR = 0.7).\n"
   ]
  },
  {
   "cell_type": "markdown",
   "metadata": {},
   "source": [
    "**Note: Before we calculate the threshold probability we need to first calculate the predictive probabilities for all observations in our test data**\n",
    "\n",
    "We can use the **.predict()** function and simply just input the whole dataframe into the **dict()** function for the **exog** parameter.\n",
    "\n",
    "We add these predictive probabilities as a column in our dataframe"
   ]
  },
  {
   "cell_type": "code",
   "execution_count": 82,
   "metadata": {},
   "outputs": [
    {
     "name": "stderr",
     "output_type": "stream",
     "text": [
      "/var/folders/dp/qrgs6q0j6rb84pqz6ngxxgyr0000gn/T/ipykernel_60560/443635337.py:2: SettingWithCopyWarning: \n",
      "A value is trying to be set on a copy of a slice from a DataFrame.\n",
      "Try using .loc[row_indexer,col_indexer] = value instead\n",
      "\n",
      "See the caveats in the documentation: https://pandas.pydata.org/pandas-docs/stable/user_guide/indexing.html#returning-a-view-versus-a-copy\n",
      "  df1_test['pred_prob']=pred_probabilities\n"
     ]
    },
    {
     "data": {
      "text/html": [
       "<div>\n",
       "<style scoped>\n",
       "    .dataframe tbody tr th:only-of-type {\n",
       "        vertical-align: middle;\n",
       "    }\n",
       "\n",
       "    .dataframe tbody tr th {\n",
       "        vertical-align: top;\n",
       "    }\n",
       "\n",
       "    .dataframe thead th {\n",
       "        text-align: right;\n",
       "    }\n",
       "</style>\n",
       "<table border=\"1\" class=\"dataframe\">\n",
       "  <thead>\n",
       "    <tr style=\"text-align: right;\">\n",
       "      <th></th>\n",
       "      <th>Position_In_Top100</th>\n",
       "      <th>Artist_Followers</th>\n",
       "      <th>Streams</th>\n",
       "      <th>Popularity</th>\n",
       "      <th>Number_of_Times_Charted</th>\n",
       "      <th>y</th>\n",
       "      <th>pred_prob</th>\n",
       "    </tr>\n",
       "  </thead>\n",
       "  <tbody>\n",
       "    <tr>\n",
       "      <th>231</th>\n",
       "      <td>False</td>\n",
       "      <td>32262679</td>\n",
       "      <td>6410263</td>\n",
       "      <td>79</td>\n",
       "      <td>1</td>\n",
       "      <td>0</td>\n",
       "      <td>0.465116</td>\n",
       "    </tr>\n",
       "    <tr>\n",
       "      <th>72</th>\n",
       "      <td>True</td>\n",
       "      <td>67208170</td>\n",
       "      <td>5798744</td>\n",
       "      <td>70</td>\n",
       "      <td>2</td>\n",
       "      <td>1</td>\n",
       "      <td>0.609260</td>\n",
       "    </tr>\n",
       "    <tr>\n",
       "      <th>386</th>\n",
       "      <td>False</td>\n",
       "      <td>2815928</td>\n",
       "      <td>5988511</td>\n",
       "      <td>72</td>\n",
       "      <td>1</td>\n",
       "      <td>0</td>\n",
       "      <td>0.252355</td>\n",
       "    </tr>\n",
       "    <tr>\n",
       "      <th>376</th>\n",
       "      <td>False</td>\n",
       "      <td>8640063</td>\n",
       "      <td>5393789</td>\n",
       "      <td>73</td>\n",
       "      <td>1</td>\n",
       "      <td>0</td>\n",
       "      <td>0.205439</td>\n",
       "    </tr>\n",
       "    <tr>\n",
       "      <th>114</th>\n",
       "      <td>True</td>\n",
       "      <td>61930</td>\n",
       "      <td>5347781</td>\n",
       "      <td>82</td>\n",
       "      <td>8</td>\n",
       "      <td>1</td>\n",
       "      <td>0.464472</td>\n",
       "    </tr>\n",
       "    <tr>\n",
       "      <th>...</th>\n",
       "      <td>...</td>\n",
       "      <td>...</td>\n",
       "      <td>...</td>\n",
       "      <td>...</td>\n",
       "      <td>...</td>\n",
       "      <td>...</td>\n",
       "      <td>...</td>\n",
       "    </tr>\n",
       "    <tr>\n",
       "      <th>397</th>\n",
       "      <td>True</td>\n",
       "      <td>5002317</td>\n",
       "      <td>5209372</td>\n",
       "      <td>76</td>\n",
       "      <td>3</td>\n",
       "      <td>1</td>\n",
       "      <td>0.240818</td>\n",
       "    </tr>\n",
       "    <tr>\n",
       "      <th>463</th>\n",
       "      <td>True</td>\n",
       "      <td>2203386</td>\n",
       "      <td>4737306</td>\n",
       "      <td>55</td>\n",
       "      <td>6</td>\n",
       "      <td>1</td>\n",
       "      <td>0.286516</td>\n",
       "    </tr>\n",
       "    <tr>\n",
       "      <th>295</th>\n",
       "      <td>True</td>\n",
       "      <td>423237</td>\n",
       "      <td>5198209</td>\n",
       "      <td>75</td>\n",
       "      <td>11</td>\n",
       "      <td>1</td>\n",
       "      <td>0.594001</td>\n",
       "    </tr>\n",
       "    <tr>\n",
       "      <th>131</th>\n",
       "      <td>False</td>\n",
       "      <td>2820477</td>\n",
       "      <td>5053713</td>\n",
       "      <td>79</td>\n",
       "      <td>7</td>\n",
       "      <td>0</td>\n",
       "      <td>0.381823</td>\n",
       "    </tr>\n",
       "    <tr>\n",
       "      <th>346</th>\n",
       "      <td>False</td>\n",
       "      <td>83337783</td>\n",
       "      <td>4974880</td>\n",
       "      <td>83</td>\n",
       "      <td>9</td>\n",
       "      <td>0</td>\n",
       "      <td>0.844398</td>\n",
       "    </tr>\n",
       "  </tbody>\n",
       "</table>\n",
       "<p>100 rows × 7 columns</p>\n",
       "</div>"
      ],
      "text/plain": [
       "     Position_In_Top100  Artist_Followers  Streams  Popularity  \\\n",
       "231               False          32262679  6410263          79   \n",
       "72                 True          67208170  5798744          70   \n",
       "386               False           2815928  5988511          72   \n",
       "376               False           8640063  5393789          73   \n",
       "114                True             61930  5347781          82   \n",
       "..                  ...               ...      ...         ...   \n",
       "397                True           5002317  5209372          76   \n",
       "463                True           2203386  4737306          55   \n",
       "295                True            423237  5198209          75   \n",
       "131               False           2820477  5053713          79   \n",
       "346               False          83337783  4974880          83   \n",
       "\n",
       "     Number_of_Times_Charted  y  pred_prob  \n",
       "231                        1  0   0.465116  \n",
       "72                         2  1   0.609260  \n",
       "386                        1  0   0.252355  \n",
       "376                        1  0   0.205439  \n",
       "114                        8  1   0.464472  \n",
       "..                       ... ..        ...  \n",
       "397                        3  1   0.240818  \n",
       "463                        6  1   0.286516  \n",
       "295                       11  1   0.594001  \n",
       "131                        7  0   0.381823  \n",
       "346                        9  0   0.844398  \n",
       "\n",
       "[100 rows x 7 columns]"
      ]
     },
     "execution_count": 82,
     "metadata": {},
     "output_type": "execute_result"
    }
   ],
   "source": [
    "pred_probabilities=red_final_mod.predict(exog=dict(df1_test)) \n",
    "df1_test['pred_prob']=pred_probabilities\n",
    "df1_test"
   ]
  },
  {
   "cell_type": "markdown",
   "metadata": {},
   "source": [
    "### Finding the predictive probability threshold that corresponds to a (FPR, TPR).\n",
    "\n",
    "You can use this defined function below to quickly generate the fpr and tpr of a model given:\n",
    "* y = the *actual* 0/1 response variable values for a given dataset\n",
    "* pred_prob = the predictive probabilities for each of the observations of a given dataset\n",
    "* thresh = a predictive probability threshold value"
   ]
  },
  {
   "cell_type": "code",
   "execution_count": 83,
   "metadata": {},
   "outputs": [],
   "source": [
    "from sklearn.metrics import confusion_matrix\n",
    "\n",
    "def tpr_fpr_thresh(y, pred_prob, thresh):\n",
    "    yhat = 1*(pred_prob >= thresh)\n",
    "    tn, fp, fn, tp = confusion_matrix(y_true=y, y_pred=yhat).ravel()\n",
    "    tpr = tp / (fn + tp)\n",
    "    fpr = fp / (fp + tn)\n",
    "    return pd.DataFrame({'threshold':[thresh],\n",
    "                         'tpr':[tpr], \n",
    "                         'fpr':[fpr]})"
   ]
  },
  {
   "cell_type": "markdown",
   "metadata": {},
   "source": [
    "Let's iterate through a series of predictive probability thresholds starting from $p_0=0$ and ending with $p_0=1$ and a step size of 0.01, to see if we can find which predictive probability threshold will give us:\n",
    "* <u>Option 1</u>: About (FPR = 0.6, TPR = 0.95) and\n",
    "* <u>Option 2</u>: About (FPR = 0.1, TPR = 0.7)."
   ]
  },
  {
   "cell_type": "code",
   "execution_count": 84,
   "metadata": {
    "scrolled": true
   },
   "outputs": [
    {
     "name": "stdout",
     "output_type": "stream",
     "text": [
      "   threshold  tpr  fpr\n",
      "0        0.0  1.0  1.0\n",
      "   threshold  tpr  fpr\n",
      "0       0.01  1.0  1.0\n",
      "   threshold  tpr  fpr\n",
      "0       0.02  1.0  1.0\n",
      "   threshold  tpr  fpr\n",
      "0       0.03  1.0  1.0\n",
      "   threshold  tpr  fpr\n",
      "0       0.04  1.0  1.0\n",
      "   threshold  tpr  fpr\n",
      "0       0.05  1.0  1.0\n",
      "   threshold  tpr  fpr\n",
      "0       0.06  1.0  1.0\n",
      "   threshold  tpr  fpr\n",
      "0       0.07  1.0  1.0\n",
      "   threshold  tpr  fpr\n",
      "0       0.08  1.0  1.0\n",
      "   threshold  tpr  fpr\n",
      "0       0.09  1.0  1.0\n",
      "   threshold  tpr  fpr\n",
      "0        0.1  1.0  1.0\n",
      "   threshold  tpr  fpr\n",
      "0       0.11  1.0  1.0\n",
      "   threshold  tpr   fpr\n",
      "0       0.12  1.0  0.98\n",
      "   threshold  tpr   fpr\n",
      "0       0.13  1.0  0.96\n",
      "   threshold  tpr   fpr\n",
      "0       0.14  1.0  0.92\n",
      "   threshold  tpr  fpr\n",
      "0       0.15  1.0  0.9\n",
      "   threshold  tpr   fpr\n",
      "0       0.16  1.0  0.84\n",
      "   threshold  tpr  fpr\n",
      "0       0.17  1.0  0.8\n",
      "   threshold  tpr   fpr\n",
      "0       0.18  1.0  0.74\n",
      "   threshold  tpr  fpr\n",
      "0       0.19  1.0  0.7\n",
      "   threshold  tpr   fpr\n",
      "0        0.2  1.0  0.68\n",
      "   threshold  tpr   fpr\n",
      "0       0.21  1.0  0.62\n",
      "   threshold  tpr   fpr\n",
      "0       0.22  1.0  0.56\n",
      "   threshold  tpr   fpr\n",
      "0       0.23  1.0  0.56\n",
      "   threshold  tpr   fpr\n",
      "0       0.24  1.0  0.54\n",
      "   threshold   tpr   fpr\n",
      "0       0.25  0.96  0.54\n",
      "   threshold   tpr  fpr\n",
      "0       0.26  0.96  0.5\n",
      "   threshold   tpr   fpr\n",
      "0       0.27  0.96  0.48\n",
      "   threshold   tpr  fpr\n",
      "0       0.28  0.96  0.4\n",
      "   threshold   tpr   fpr\n",
      "0       0.29  0.94  0.34\n",
      "   threshold   tpr   fpr\n",
      "0        0.3  0.92  0.34\n",
      "   threshold   tpr   fpr\n",
      "0       0.31  0.92  0.34\n",
      "   threshold  tpr   fpr\n",
      "0       0.32  0.9  0.34\n",
      "   threshold  tpr   fpr\n",
      "0       0.33  0.9  0.32\n",
      "   threshold  tpr   fpr\n",
      "0       0.34  0.9  0.32\n",
      "   threshold   tpr  fpr\n",
      "0       0.35  0.88  0.3\n",
      "   threshold   tpr  fpr\n",
      "0       0.36  0.86  0.3\n",
      "   threshold   tpr   fpr\n",
      "0       0.37  0.86  0.26\n",
      "   threshold   tpr   fpr\n",
      "0       0.38  0.82  0.26\n",
      "   threshold   tpr   fpr\n",
      "0       0.39  0.82  0.24\n",
      "   threshold   tpr   fpr\n",
      "0        0.4  0.82  0.22\n",
      "   threshold  tpr  fpr\n",
      "0       0.41  0.8  0.2\n",
      "   threshold  tpr  fpr\n",
      "0       0.42  0.8  0.2\n",
      "   threshold   tpr  fpr\n",
      "0       0.43  0.76  0.2\n",
      "   threshold   tpr  fpr\n",
      "0       0.44  0.74  0.2\n",
      "   threshold   tpr   fpr\n",
      "0       0.45  0.74  0.16\n",
      "   threshold   tpr   fpr\n",
      "0       0.46  0.72  0.14\n",
      "   threshold  tpr  fpr\n",
      "0       0.47  0.7  0.1\n",
      "   threshold   tpr  fpr\n",
      "0       0.48  0.68  0.1\n",
      "   threshold   tpr  fpr\n",
      "0       0.49  0.68  0.1\n",
      "   threshold   tpr  fpr\n",
      "0        0.5  0.66  0.1\n",
      "   threshold   tpr  fpr\n",
      "0       0.51  0.66  0.1\n",
      "   threshold   tpr  fpr\n",
      "0       0.52  0.66  0.1\n",
      "   threshold   tpr  fpr\n",
      "0       0.53  0.62  0.1\n",
      "   threshold  tpr   fpr\n",
      "0       0.54  0.6  0.08\n",
      "   threshold  tpr   fpr\n",
      "0       0.55  0.6  0.08\n",
      "   threshold  tpr   fpr\n",
      "0       0.56  0.6  0.08\n",
      "   threshold   tpr   fpr\n",
      "0       0.57  0.58  0.08\n",
      "   threshold   tpr   fpr\n",
      "0       0.58  0.56  0.08\n",
      "   threshold   tpr   fpr\n",
      "0       0.59  0.56  0.08\n",
      "   threshold   tpr   fpr\n",
      "0        0.6  0.54  0.08\n",
      "   threshold   tpr   fpr\n",
      "0       0.61  0.52  0.08\n",
      "   threshold   tpr   fpr\n",
      "0       0.62  0.52  0.08\n",
      "   threshold   tpr   fpr\n",
      "0       0.63  0.52  0.08\n",
      "   threshold   tpr   fpr\n",
      "0       0.64  0.52  0.08\n",
      "   threshold   tpr   fpr\n",
      "0       0.65  0.52  0.08\n",
      "   threshold   tpr   fpr\n",
      "0       0.66  0.52  0.08\n",
      "   threshold   tpr   fpr\n",
      "0       0.67  0.52  0.08\n",
      "   threshold   tpr   fpr\n",
      "0       0.68  0.52  0.08\n",
      "   threshold   tpr   fpr\n",
      "0       0.69  0.52  0.08\n",
      "   threshold   tpr   fpr\n",
      "0        0.7  0.52  0.08\n",
      "   threshold   tpr   fpr\n",
      "0       0.71  0.52  0.08\n",
      "   threshold   tpr   fpr\n",
      "0       0.72  0.52  0.08\n",
      "   threshold  tpr   fpr\n",
      "0       0.73  0.5  0.08\n",
      "   threshold  tpr   fpr\n",
      "0       0.74  0.5  0.08\n",
      "   threshold  tpr   fpr\n",
      "0       0.75  0.5  0.08\n",
      "   threshold  tpr   fpr\n",
      "0       0.76  0.5  0.08\n",
      "   threshold  tpr   fpr\n",
      "0       0.77  0.5  0.08\n",
      "   threshold   tpr   fpr\n",
      "0       0.78  0.48  0.06\n",
      "   threshold   tpr   fpr\n",
      "0       0.79  0.48  0.06\n",
      "   threshold   tpr   fpr\n",
      "0        0.8  0.46  0.06\n",
      "   threshold   tpr   fpr\n",
      "0       0.81  0.46  0.06\n",
      "   threshold   tpr   fpr\n",
      "0       0.82  0.44  0.06\n",
      "   threshold  tpr   fpr\n",
      "0       0.83  0.4  0.06\n",
      "   threshold   tpr   fpr\n",
      "0       0.84  0.38  0.06\n",
      "   threshold   tpr   fpr\n",
      "0       0.85  0.36  0.04\n",
      "   threshold   tpr   fpr\n",
      "0       0.86  0.36  0.04\n",
      "   threshold   tpr   fpr\n",
      "0       0.87  0.36  0.04\n",
      "   threshold   tpr   fpr\n",
      "0       0.88  0.34  0.04\n",
      "   threshold   tpr   fpr\n",
      "0       0.89  0.34  0.04\n",
      "   threshold   tpr   fpr\n",
      "0        0.9  0.34  0.04\n",
      "   threshold   tpr   fpr\n",
      "0       0.91  0.32  0.04\n",
      "   threshold   tpr   fpr\n",
      "0       0.92  0.32  0.04\n",
      "   threshold   tpr   fpr\n",
      "0       0.93  0.32  0.04\n",
      "   threshold  tpr   fpr\n",
      "0       0.94  0.3  0.04\n",
      "   threshold  tpr   fpr\n",
      "0       0.95  0.3  0.02\n",
      "   threshold   tpr   fpr\n",
      "0       0.96  0.28  0.02\n",
      "   threshold   tpr   fpr\n",
      "0       0.97  0.26  0.02\n",
      "   threshold  tpr  fpr\n",
      "0       0.98  0.2  0.0\n",
      "   threshold   tpr  fpr\n",
      "0       0.99  0.14  0.0\n"
     ]
    }
   ],
   "source": [
    "for thresh in np.arange(0,1,.01):\n",
    "    print(tpr_fpr_thresh(df1_test['y'], df1_test['pred_prob'], thresh))"
   ]
  },
  {
   "cell_type": "markdown",
   "metadata": {},
   "source": [
    "<u>Option 1</u>: It looks like a predictive probability threshold of  $p_0=0.24$ will gve us a tpr=0.96 and a fpr=0.58.\n",
    "\n",
    "<u>Option 2</u>: It looks like a predictive probability threshold of  $p_0=0.47$ will gve us a tpr=0.68 and a fpr=0.1."
   ]
  },
  {
   "cell_type": "markdown",
   "metadata": {},
   "source": [
    "### Lets select the threshold to be .47."
   ]
  },
  {
   "cell_type": "markdown",
   "metadata": {},
   "source": [
    "### 5.7 Let's classify ALL of the observations in the sample using this predictive probability threshold of $p_0$ and the logistic regression model."
   ]
  },
  {
   "cell_type": "code",
   "execution_count": 85,
   "metadata": {},
   "outputs": [
    {
     "name": "stderr",
     "output_type": "stream",
     "text": [
      "/var/folders/dp/qrgs6q0j6rb84pqz6ngxxgyr0000gn/T/ipykernel_60560/4162706684.py:1: SettingWithCopyWarning: \n",
      "A value is trying to be set on a copy of a slice from a DataFrame.\n",
      "Try using .loc[row_indexer,col_indexer] = value instead\n",
      "\n",
      "See the caveats in the documentation: https://pandas.pydata.org/pandas-docs/stable/user_guide/indexing.html#returning-a-view-versus-a-copy\n",
      "  df1_test['yhat']=1*(df1_test['pred_prob']>0.47)\n"
     ]
    },
    {
     "data": {
      "text/html": [
       "<div>\n",
       "<style scoped>\n",
       "    .dataframe tbody tr th:only-of-type {\n",
       "        vertical-align: middle;\n",
       "    }\n",
       "\n",
       "    .dataframe tbody tr th {\n",
       "        vertical-align: top;\n",
       "    }\n",
       "\n",
       "    .dataframe thead th {\n",
       "        text-align: right;\n",
       "    }\n",
       "</style>\n",
       "<table border=\"1\" class=\"dataframe\">\n",
       "  <thead>\n",
       "    <tr style=\"text-align: right;\">\n",
       "      <th></th>\n",
       "      <th>Position_In_Top100</th>\n",
       "      <th>Artist_Followers</th>\n",
       "      <th>Streams</th>\n",
       "      <th>Popularity</th>\n",
       "      <th>Number_of_Times_Charted</th>\n",
       "      <th>y</th>\n",
       "      <th>pred_prob</th>\n",
       "      <th>yhat</th>\n",
       "    </tr>\n",
       "  </thead>\n",
       "  <tbody>\n",
       "    <tr>\n",
       "      <th>231</th>\n",
       "      <td>False</td>\n",
       "      <td>32262679</td>\n",
       "      <td>6410263</td>\n",
       "      <td>79</td>\n",
       "      <td>1</td>\n",
       "      <td>0</td>\n",
       "      <td>0.465116</td>\n",
       "      <td>0</td>\n",
       "    </tr>\n",
       "    <tr>\n",
       "      <th>72</th>\n",
       "      <td>True</td>\n",
       "      <td>67208170</td>\n",
       "      <td>5798744</td>\n",
       "      <td>70</td>\n",
       "      <td>2</td>\n",
       "      <td>1</td>\n",
       "      <td>0.609260</td>\n",
       "      <td>1</td>\n",
       "    </tr>\n",
       "    <tr>\n",
       "      <th>386</th>\n",
       "      <td>False</td>\n",
       "      <td>2815928</td>\n",
       "      <td>5988511</td>\n",
       "      <td>72</td>\n",
       "      <td>1</td>\n",
       "      <td>0</td>\n",
       "      <td>0.252355</td>\n",
       "      <td>0</td>\n",
       "    </tr>\n",
       "    <tr>\n",
       "      <th>376</th>\n",
       "      <td>False</td>\n",
       "      <td>8640063</td>\n",
       "      <td>5393789</td>\n",
       "      <td>73</td>\n",
       "      <td>1</td>\n",
       "      <td>0</td>\n",
       "      <td>0.205439</td>\n",
       "      <td>0</td>\n",
       "    </tr>\n",
       "    <tr>\n",
       "      <th>114</th>\n",
       "      <td>True</td>\n",
       "      <td>61930</td>\n",
       "      <td>5347781</td>\n",
       "      <td>82</td>\n",
       "      <td>8</td>\n",
       "      <td>1</td>\n",
       "      <td>0.464472</td>\n",
       "      <td>0</td>\n",
       "    </tr>\n",
       "    <tr>\n",
       "      <th>...</th>\n",
       "      <td>...</td>\n",
       "      <td>...</td>\n",
       "      <td>...</td>\n",
       "      <td>...</td>\n",
       "      <td>...</td>\n",
       "      <td>...</td>\n",
       "      <td>...</td>\n",
       "      <td>...</td>\n",
       "    </tr>\n",
       "    <tr>\n",
       "      <th>397</th>\n",
       "      <td>True</td>\n",
       "      <td>5002317</td>\n",
       "      <td>5209372</td>\n",
       "      <td>76</td>\n",
       "      <td>3</td>\n",
       "      <td>1</td>\n",
       "      <td>0.240818</td>\n",
       "      <td>0</td>\n",
       "    </tr>\n",
       "    <tr>\n",
       "      <th>463</th>\n",
       "      <td>True</td>\n",
       "      <td>2203386</td>\n",
       "      <td>4737306</td>\n",
       "      <td>55</td>\n",
       "      <td>6</td>\n",
       "      <td>1</td>\n",
       "      <td>0.286516</td>\n",
       "      <td>0</td>\n",
       "    </tr>\n",
       "    <tr>\n",
       "      <th>295</th>\n",
       "      <td>True</td>\n",
       "      <td>423237</td>\n",
       "      <td>5198209</td>\n",
       "      <td>75</td>\n",
       "      <td>11</td>\n",
       "      <td>1</td>\n",
       "      <td>0.594001</td>\n",
       "      <td>1</td>\n",
       "    </tr>\n",
       "    <tr>\n",
       "      <th>131</th>\n",
       "      <td>False</td>\n",
       "      <td>2820477</td>\n",
       "      <td>5053713</td>\n",
       "      <td>79</td>\n",
       "      <td>7</td>\n",
       "      <td>0</td>\n",
       "      <td>0.381823</td>\n",
       "      <td>0</td>\n",
       "    </tr>\n",
       "    <tr>\n",
       "      <th>346</th>\n",
       "      <td>False</td>\n",
       "      <td>83337783</td>\n",
       "      <td>4974880</td>\n",
       "      <td>83</td>\n",
       "      <td>9</td>\n",
       "      <td>0</td>\n",
       "      <td>0.844398</td>\n",
       "      <td>1</td>\n",
       "    </tr>\n",
       "  </tbody>\n",
       "</table>\n",
       "<p>100 rows × 8 columns</p>\n",
       "</div>"
      ],
      "text/plain": [
       "     Position_In_Top100  Artist_Followers  Streams  Popularity  \\\n",
       "231               False          32262679  6410263          79   \n",
       "72                 True          67208170  5798744          70   \n",
       "386               False           2815928  5988511          72   \n",
       "376               False           8640063  5393789          73   \n",
       "114                True             61930  5347781          82   \n",
       "..                  ...               ...      ...         ...   \n",
       "397                True           5002317  5209372          76   \n",
       "463                True           2203386  4737306          55   \n",
       "295                True            423237  5198209          75   \n",
       "131               False           2820477  5053713          79   \n",
       "346               False          83337783  4974880          83   \n",
       "\n",
       "     Number_of_Times_Charted  y  pred_prob  yhat  \n",
       "231                        1  0   0.465116     0  \n",
       "72                         2  1   0.609260     1  \n",
       "386                        1  0   0.252355     0  \n",
       "376                        1  0   0.205439     0  \n",
       "114                        8  1   0.464472     0  \n",
       "..                       ... ..        ...   ...  \n",
       "397                        3  1   0.240818     0  \n",
       "463                        6  1   0.286516     0  \n",
       "295                       11  1   0.594001     1  \n",
       "131                        7  0   0.381823     0  \n",
       "346                        9  0   0.844398     1  \n",
       "\n",
       "[100 rows x 8 columns]"
      ]
     },
     "execution_count": 85,
     "metadata": {},
     "output_type": "execute_result"
    }
   ],
   "source": [
    "df1_test['yhat']=1*(df1_test['pred_prob']>0.47)\n",
    "df1_test"
   ]
  },
  {
   "cell_type": "markdown",
   "metadata": {},
   "source": [
    "### Next, let's create a confusion matrix for this classifier model."
   ]
  },
  {
   "cell_type": "code",
   "execution_count": 86,
   "metadata": {},
   "outputs": [
    {
     "data": {
      "text/plain": [
       "array([[45,  5],\n",
       "       [15, 35]])"
      ]
     },
     "execution_count": 86,
     "metadata": {},
     "output_type": "execute_result"
    }
   ],
   "source": [
    "confusion_matrix(y_true=df1_test['y'], y_pred=df1_test['yhat'])"
   ]
  },
  {
   "cell_type": "code",
   "execution_count": 87,
   "metadata": {},
   "outputs": [
    {
     "data": {
      "text/plain": [
       "(45, 5, 15, 35)"
      ]
     },
     "execution_count": 87,
     "metadata": {},
     "output_type": "execute_result"
    }
   ],
   "source": [
    "tn, fp, fn, tp = confusion_matrix(y_true=df1_test['y'], \n",
    "                                  y_pred=df1_test['yhat']).ravel()\n",
    "(tn, fp, fn, tp)"
   ]
  },
  {
   "cell_type": "markdown",
   "metadata": {},
   "source": [
    "### 5.8 What is the true positive rate of the logistic regression model with the predictive threshold of $p_0=0.47$ using the sample data?"
   ]
  },
  {
   "cell_type": "code",
   "execution_count": 88,
   "metadata": {},
   "outputs": [
    {
     "name": "stdout",
     "output_type": "stream",
     "text": [
      "true positive rate: 0.7\n"
     ]
    }
   ],
   "source": [
    "sensitivity=tp/(tp+fn)\n",
    "print('true positive rate:', sensitivity)"
   ]
  },
  {
   "cell_type": "markdown",
   "metadata": {},
   "source": [
    "### What is the false positive rate of the logistic regression model with the predictive threshold of $p_0=0.47$ using the sample data?"
   ]
  },
  {
   "cell_type": "code",
   "execution_count": 89,
   "metadata": {},
   "outputs": [
    {
     "name": "stdout",
     "output_type": "stream",
     "text": [
      "false positive rate: 0.1\n"
     ]
    }
   ],
   "source": [
    "false_positive_rate=fp/(tn+fp)\n",
    "print('false positive rate:', false_positive_rate)"
   ]
  },
  {
   "cell_type": "markdown",
   "metadata": {},
   "source": [
    "## 6. Conclusion"
   ]
  },
  {
   "cell_type": "markdown",
   "metadata": {},
   "source": [
    "2.1 There exist a negative linear relationship between Streams and Highest_Charting_Position.\n",
    "\n",
    "2.2 The slope for 100 to 200 songs vs streams is more steep compared to that of 0 to 100 songs vs streams. This makes sense because competition becomes more difficult as we go down to 0, which means that the influence of total number of streams decreases and there are possibly other factors that are influencing the rankings as we down to 0.\n",
    "\n",
    "3 Because $p-value=2.5270061598803295e-08<\\alpha=0.05$, we reject the null hypothesis. Thus, we have sufficient evidence to suggest that $\\mu_{below}-\\mu_{above}\\neq 0$ (or that there is an association between artist_followers and Position_In_Top100 in all songs in spotify.)\n",
    "\n",
    "4 The linear regression model shows there is a linear relationship between Highest_Charting_Position and Artist_Followers, Streams, Popularity and Number_of_Times_Charted in top 200 songs in spotify and in all songs in spotify because at least one of the population slope is non-zero and it can also predict the position given the values of Artist_Followers, Streams, Popularity and Number_of_Times_Charted for a random song.\n",
    "\n",
    "5 The Boxplots and logistic regression model shows there is a linear relationship between log odds of the succes levels of Highest_Charting_Position and Artist_Followers, Streams, Popularity and Number_of_Times_Charted in top 200 songs in spotify (Sample) and in all songs in spotify because at least one of the population slope is non-zero."
   ]
  }
 ],
 "metadata": {
  "kernelspec": {
   "display_name": "Python 3 (ipykernel)",
   "language": "python",
   "name": "python3"
  },
  "language_info": {
   "codemirror_mode": {
    "name": "ipython",
    "version": 3
   },
   "file_extension": ".py",
   "mimetype": "text/x-python",
   "name": "python",
   "nbconvert_exporter": "python",
   "pygments_lexer": "ipython3",
   "version": "3.9.7"
  }
 },
 "nbformat": 4,
 "nbformat_minor": 4
}
